{
  "nbformat": 4,
  "nbformat_minor": 0,
  "metadata": {
    "colab": {
      "name": "Fifa_poucas-variáveis.ipynb",
      "provenance": [],
      "authorship_tag": "ABX9TyPZ1RV2gVioNR8c+GMvla/Z",
      "include_colab_link": true
    },
    "kernelspec": {
      "name": "python3",
      "display_name": "Python 3"
    }
  },
  "cells": [
    {
      "cell_type": "markdown",
      "metadata": {
        "id": "view-in-github",
        "colab_type": "text"
      },
      "source": [
        "<a href=\"https://colab.research.google.com/github/MarioPrado1148/DSWP_Aluno_Mario/blob/main/Notebooks%5CFifa_poucas_vari%C3%A1veis.ipynb\" target=\"_parent\"><img src=\"https://colab.research.google.com/assets/colab-badge.svg\" alt=\"Open In Colab\"/></a>"
      ]
    },
    {
      "cell_type": "markdown",
      "metadata": {
        "id": "YLxCMFk9ZmIe"
      },
      "source": [
        "# Bibliotecas necessárias"
      ]
    },
    {
      "cell_type": "code",
      "metadata": {
        "id": "mpboL8IPZqT2"
      },
      "source": [
        "import pandas as pd\n",
        "import numpy as np"
      ],
      "execution_count": 80,
      "outputs": []
    },
    {
      "cell_type": "markdown",
      "metadata": {
        "id": "R3ogXqytZt4M"
      },
      "source": [
        "# Definições iniciais\n"
      ]
    },
    {
      "cell_type": "code",
      "metadata": {
        "id": "R4Rk70yBZxGw",
        "outputId": "3d5bee23-1476-40a1-e500-98b1dae4bff8",
        "colab": {
          "base_uri": "https://localhost:8080/",
          "height": 100
        }
      },
      "source": [
        "d_configuracao = {\n",
        "    'display.max_columns': 1000,\n",
        "    'display.expand_frame_repr': True,\n",
        "    'display.max_rows': 10,\n",
        "    'display.precision': 2,\n",
        "    'display.show_dimensions': True\n",
        "                  }\n",
        "\n",
        "for op, value in d_configuracao.items():\n",
        "    pd.set_option(op, value)\n",
        "    print(op, value)\n",
        "from IPython.display import Markdown"
      ],
      "execution_count": 81,
      "outputs": [
        {
          "output_type": "stream",
          "text": [
            "display.max_columns 1000\n",
            "display.expand_frame_repr True\n",
            "display.max_rows 10\n",
            "display.precision 2\n",
            "display.show_dimensions True\n"
          ],
          "name": "stdout"
        }
      ]
    },
    {
      "cell_type": "markdown",
      "metadata": {
        "id": "DlAkPBiuaOVu"
      },
      "source": [
        "# Carregar os dados"
      ]
    },
    {
      "cell_type": "code",
      "metadata": {
        "id": "bRIv8PMqZ0UC"
      },
      "source": [
        "df_fifa = pd.read_csv('https://raw.githubusercontent.com/MarioPrado1148/DSWP/master/Dataframes/FIFA_algumas_features.csv', index_col = 'ID')"
      ],
      "execution_count": 82,
      "outputs": []
    },
    {
      "cell_type": "code",
      "metadata": {
        "id": "VN8BYTYIaZ0f",
        "outputId": "ea1bffc4-694e-46f3-9907-5ddeb81f5469",
        "colab": {
          "base_uri": "https://localhost:8080/",
          "height": 257
        }
      },
      "source": [
        "df_fifa.head()"
      ],
      "execution_count": 83,
      "outputs": [
        {
          "output_type": "execute_result",
          "data": {
            "text/html": [
              "<div>\n",
              "<style scoped>\n",
              "    .dataframe tbody tr th:only-of-type {\n",
              "        vertical-align: middle;\n",
              "    }\n",
              "\n",
              "    .dataframe tbody tr th {\n",
              "        vertical-align: top;\n",
              "    }\n",
              "\n",
              "    .dataframe thead th {\n",
              "        text-align: right;\n",
              "    }\n",
              "</style>\n",
              "<table border=\"1\" class=\"dataframe\">\n",
              "  <thead>\n",
              "    <tr style=\"text-align: right;\">\n",
              "      <th></th>\n",
              "      <th>overall</th>\n",
              "      <th>potential</th>\n",
              "      <th>value</th>\n",
              "      <th>wage</th>\n",
              "      <th>nationality</th>\n",
              "      <th>position</th>\n",
              "      <th>age</th>\n",
              "      <th>preferred_foot</th>\n",
              "    </tr>\n",
              "    <tr>\n",
              "      <th>ID</th>\n",
              "      <th></th>\n",
              "      <th></th>\n",
              "      <th></th>\n",
              "      <th></th>\n",
              "      <th></th>\n",
              "      <th></th>\n",
              "      <th></th>\n",
              "      <th></th>\n",
              "    </tr>\n",
              "  </thead>\n",
              "  <tbody>\n",
              "    <tr>\n",
              "      <th>158023</th>\n",
              "      <td>94</td>\n",
              "      <td>94</td>\n",
              "      <td>110500000</td>\n",
              "      <td>565000</td>\n",
              "      <td>Argentina</td>\n",
              "      <td>RF</td>\n",
              "      <td>31</td>\n",
              "      <td>Left</td>\n",
              "    </tr>\n",
              "    <tr>\n",
              "      <th>20801</th>\n",
              "      <td>94</td>\n",
              "      <td>94</td>\n",
              "      <td>77000000</td>\n",
              "      <td>405000</td>\n",
              "      <td>Portugal</td>\n",
              "      <td>ST</td>\n",
              "      <td>33</td>\n",
              "      <td>Right</td>\n",
              "    </tr>\n",
              "    <tr>\n",
              "      <th>190871</th>\n",
              "      <td>92</td>\n",
              "      <td>93</td>\n",
              "      <td>118500000</td>\n",
              "      <td>290000</td>\n",
              "      <td>Brazil</td>\n",
              "      <td>LW</td>\n",
              "      <td>26</td>\n",
              "      <td>Right</td>\n",
              "    </tr>\n",
              "    <tr>\n",
              "      <th>193080</th>\n",
              "      <td>91</td>\n",
              "      <td>93</td>\n",
              "      <td>72000000</td>\n",
              "      <td>260000</td>\n",
              "      <td>Spain</td>\n",
              "      <td>GK</td>\n",
              "      <td>27</td>\n",
              "      <td>Right</td>\n",
              "    </tr>\n",
              "    <tr>\n",
              "      <th>192985</th>\n",
              "      <td>91</td>\n",
              "      <td>92</td>\n",
              "      <td>102000000</td>\n",
              "      <td>355000</td>\n",
              "      <td>Belgium</td>\n",
              "      <td>RCM</td>\n",
              "      <td>27</td>\n",
              "      <td>Right</td>\n",
              "    </tr>\n",
              "  </tbody>\n",
              "</table>\n",
              "<p>5 rows × 8 columns</p>\n",
              "</div>"
            ],
            "text/plain": [
              "        overall  potential      value    wage nationality position  age  \\\n",
              "ID                                                                        \n",
              "158023       94         94  110500000  565000   Argentina       RF   31   \n",
              "20801        94         94   77000000  405000    Portugal       ST   33   \n",
              "190871       92         93  118500000  290000      Brazil       LW   26   \n",
              "193080       91         93   72000000  260000       Spain       GK   27   \n",
              "192985       91         92  102000000  355000     Belgium      RCM   27   \n",
              "\n",
              "       preferred_foot  \n",
              "ID                     \n",
              "158023           Left  \n",
              "20801           Right  \n",
              "190871          Right  \n",
              "193080          Right  \n",
              "192985          Right  \n",
              "\n",
              "[5 rows x 8 columns]"
            ]
          },
          "metadata": {
            "tags": []
          },
          "execution_count": 83
        }
      ]
    },
    {
      "cell_type": "code",
      "metadata": {
        "id": "EUDrfZpshTZ-",
        "outputId": "58622178-6c5e-43df-d534-381cca560bbb",
        "colab": {
          "base_uri": "https://localhost:8080/",
          "height": 33
        }
      },
      "source": [
        "df_fifa.shape"
      ],
      "execution_count": 84,
      "outputs": [
        {
          "output_type": "execute_result",
          "data": {
            "text/plain": [
              "(18207, 8)"
            ]
          },
          "metadata": {
            "tags": []
          },
          "execution_count": 84
        }
      ]
    },
    {
      "cell_type": "code",
      "metadata": {
        "id": "lGsNfjdlb34a"
      },
      "source": [
        "# retorna para cada coluna de `frame`: nome da coluna, valor de exemplo, \n",
        "#     dtype da coluna, classe do valor de exemplo\n",
        "# valor de exemplo é tomado na linha de `frame` indicada por `iloc`\n",
        "def exemplo_linha(frame, iloc=0):\n",
        "  df_info = pd.DataFrame(dict(valor_exemplo=frame.iloc[iloc].copy()))\n",
        "  df_info['dtype_coluna'] = frame.dtypes.map(lambda x: x.name)\n",
        "  df_info['classe_valor'] = df_info['valor_exemplo'].map(lambda x: x.__class__.__name__)\n",
        "  df_info.index.name = 'nome_coluna'\n",
        "  return df_info"
      ],
      "execution_count": 85,
      "outputs": []
    },
    {
      "cell_type": "code",
      "metadata": {
        "id": "GLw0Fsp3agJA",
        "outputId": "b4960608-1e45-4cb6-db0f-dbe327006be6",
        "colab": {
          "base_uri": "https://localhost:8080/",
          "height": 347
        }
      },
      "source": [
        "exemplo_linha(df_fifa)"
      ],
      "execution_count": 86,
      "outputs": [
        {
          "output_type": "execute_result",
          "data": {
            "text/html": [
              "<div>\n",
              "<style scoped>\n",
              "    .dataframe tbody tr th:only-of-type {\n",
              "        vertical-align: middle;\n",
              "    }\n",
              "\n",
              "    .dataframe tbody tr th {\n",
              "        vertical-align: top;\n",
              "    }\n",
              "\n",
              "    .dataframe thead th {\n",
              "        text-align: right;\n",
              "    }\n",
              "</style>\n",
              "<table border=\"1\" class=\"dataframe\">\n",
              "  <thead>\n",
              "    <tr style=\"text-align: right;\">\n",
              "      <th></th>\n",
              "      <th>valor_exemplo</th>\n",
              "      <th>dtype_coluna</th>\n",
              "      <th>classe_valor</th>\n",
              "    </tr>\n",
              "    <tr>\n",
              "      <th>nome_coluna</th>\n",
              "      <th></th>\n",
              "      <th></th>\n",
              "      <th></th>\n",
              "    </tr>\n",
              "  </thead>\n",
              "  <tbody>\n",
              "    <tr>\n",
              "      <th>overall</th>\n",
              "      <td>94</td>\n",
              "      <td>int64</td>\n",
              "      <td>int64</td>\n",
              "    </tr>\n",
              "    <tr>\n",
              "      <th>potential</th>\n",
              "      <td>94</td>\n",
              "      <td>int64</td>\n",
              "      <td>int64</td>\n",
              "    </tr>\n",
              "    <tr>\n",
              "      <th>value</th>\n",
              "      <td>110500000</td>\n",
              "      <td>int64</td>\n",
              "      <td>int64</td>\n",
              "    </tr>\n",
              "    <tr>\n",
              "      <th>wage</th>\n",
              "      <td>565000</td>\n",
              "      <td>int64</td>\n",
              "      <td>int64</td>\n",
              "    </tr>\n",
              "    <tr>\n",
              "      <th>nationality</th>\n",
              "      <td>Argentina</td>\n",
              "      <td>object</td>\n",
              "      <td>str</td>\n",
              "    </tr>\n",
              "    <tr>\n",
              "      <th>position</th>\n",
              "      <td>RF</td>\n",
              "      <td>object</td>\n",
              "      <td>str</td>\n",
              "    </tr>\n",
              "    <tr>\n",
              "      <th>age</th>\n",
              "      <td>31</td>\n",
              "      <td>int64</td>\n",
              "      <td>int64</td>\n",
              "    </tr>\n",
              "    <tr>\n",
              "      <th>preferred_foot</th>\n",
              "      <td>Left</td>\n",
              "      <td>object</td>\n",
              "      <td>str</td>\n",
              "    </tr>\n",
              "  </tbody>\n",
              "</table>\n",
              "<p>8 rows × 3 columns</p>\n",
              "</div>"
            ],
            "text/plain": [
              "               valor_exemplo dtype_coluna classe_valor\n",
              "nome_coluna                                           \n",
              "overall                   94        int64        int64\n",
              "potential                 94        int64        int64\n",
              "value              110500000        int64        int64\n",
              "wage                  565000        int64        int64\n",
              "nationality        Argentina       object          str\n",
              "position                  RF       object          str\n",
              "age                       31        int64        int64\n",
              "preferred_foot          Left       object          str\n",
              "\n",
              "[8 rows x 3 columns]"
            ]
          },
          "metadata": {
            "tags": []
          },
          "execution_count": 86
        }
      ]
    },
    {
      "cell_type": "markdown",
      "metadata": {
        "id": "MuNJJjjwhAK3"
      },
      "source": [
        "# Verificação e tratamento dos Missing Values"
      ]
    },
    {
      "cell_type": "code",
      "metadata": {
        "id": "uWTkZrS2hFK_",
        "outputId": "18f2d9b8-1472-469d-d285-70f149d8f9cd",
        "colab": {
          "base_uri": "https://localhost:8080/",
          "height": 167
        }
      },
      "source": [
        "df_fifa.isna().sum()"
      ],
      "execution_count": 87,
      "outputs": [
        {
          "output_type": "execute_result",
          "data": {
            "text/plain": [
              "overall            0\n",
              "potential          0\n",
              "value              0\n",
              "wage               0\n",
              "nationality        0\n",
              "position          60\n",
              "age                0\n",
              "preferred_foot    48\n",
              "Length: 8, dtype: int64"
            ]
          },
          "metadata": {
            "tags": []
          },
          "execution_count": 87
        }
      ]
    },
    {
      "cell_type": "code",
      "metadata": {
        "id": "3-djkGvohYqw",
        "outputId": "0f396dfd-1fbc-4484-d1c5-531279d7daa2",
        "colab": {
          "base_uri": "https://localhost:8080/",
          "height": 33
        }
      },
      "source": [
        "# Como são poucas variáveis faltantes, optamos por eliminar os casos com essas variáveis.\n",
        "df_fifa_semna = df_fifa.dropna()\n",
        "df_fifa_semna.shape"
      ],
      "execution_count": 88,
      "outputs": [
        {
          "output_type": "execute_result",
          "data": {
            "text/plain": [
              "(18147, 8)"
            ]
          },
          "metadata": {
            "tags": []
          },
          "execution_count": 88
        }
      ]
    },
    {
      "cell_type": "markdown",
      "metadata": {
        "id": "7IqP37njktCw"
      },
      "source": [
        "# Identificação de casos com valor 0"
      ]
    },
    {
      "cell_type": "markdown",
      "metadata": {
        "id": "VxVkDmMvky8h"
      },
      "source": [
        "## variável 'overall'"
      ]
    },
    {
      "cell_type": "code",
      "metadata": {
        "id": "Tg36WTRLiltQ",
        "outputId": "8cf7c46c-766e-4cc4-aa03-4bc71b76201f",
        "colab": {
          "base_uri": "https://localhost:8080/",
          "height": 33
        }
      },
      "source": [
        "df_fifa_semna[df_fifa_semna['overall']==0].value_counts()"
      ],
      "execution_count": 89,
      "outputs": [
        {
          "output_type": "execute_result",
          "data": {
            "text/plain": [
              "Series([], Length: 0, dtype: int64)"
            ]
          },
          "metadata": {
            "tags": []
          },
          "execution_count": 89
        }
      ]
    },
    {
      "cell_type": "markdown",
      "metadata": {
        "id": "weCiEJJCk2kS"
      },
      "source": [
        "## variável 'potential'"
      ]
    },
    {
      "cell_type": "markdown",
      "metadata": {
        "id": "gubIQ_yukrYK"
      },
      "source": [
        ""
      ]
    },
    {
      "cell_type": "code",
      "metadata": {
        "id": "9FrCgrSTjQTp",
        "outputId": "108c177d-be5b-4a81-8c54-8f1f58cd03e8",
        "colab": {
          "base_uri": "https://localhost:8080/",
          "height": 33
        }
      },
      "source": [
        "df_fifa_semna[df_fifa_semna['potential']==0].value_counts()"
      ],
      "execution_count": 90,
      "outputs": [
        {
          "output_type": "execute_result",
          "data": {
            "text/plain": [
              "Series([], Length: 0, dtype: int64)"
            ]
          },
          "metadata": {
            "tags": []
          },
          "execution_count": 90
        }
      ]
    },
    {
      "cell_type": "markdown",
      "metadata": {
        "id": "yBzRnq6ik75A"
      },
      "source": [
        "## variável 'value'\n",
        "Constatamos que a variável'value' tem 240 valores iguais a zero. Decidimos imputar a mediana."
      ]
    },
    {
      "cell_type": "code",
      "metadata": {
        "id": "gAwyy-PtjUtZ",
        "outputId": "fa12d070-3da5-421e-ebd4-090a50feb595",
        "colab": {
          "base_uri": "https://localhost:8080/",
          "height": 233
        }
      },
      "source": [
        "df_fifa_semna[df_fifa_semna['value']==0].value_counts()"
      ],
      "execution_count": 91,
      "outputs": [
        {
          "output_type": "execute_result",
          "data": {
            "text/plain": [
              "overall  potential  value  wage  nationality  position  age  preferred_foot\n",
              "80       85         0      0     Argentina    CM        24   Right             1\n",
              "         80         0      0     Sweden       LCB       33   Right             1\n",
              "66       67         0      0     Slovenia     RB        26   Right             1\n",
              "                                 Ecuador      RB        27   Right             1\n",
              "         66         0      0     Iceland      RB        33   Right             1\n",
              "                                                                              ..\n",
              "70       70         0      0     Egypt        RB        33   Right             1\n",
              "                                 Ecuador      RB        30   Right             1\n",
              "                                 Bulgaria     RB        32   Right             1\n",
              "                                 Bolivia      LM        28   Left              1\n",
              "48       48         0      1000  England      GK        44   Right             1\n",
              "Length: 240, dtype: int64"
            ]
          },
          "metadata": {
            "tags": []
          },
          "execution_count": 91
        }
      ]
    },
    {
      "cell_type": "code",
      "metadata": {
        "id": "73kNUYsZjbg4",
        "outputId": "d206d92f-e20a-4a48-ae3c-00e2c1d3506e",
        "colab": {
          "base_uri": "https://localhost:8080/",
          "height": 33
        }
      },
      "source": [
        "df_fifa_semna['value'].median()"
      ],
      "execution_count": 70,
      "outputs": [
        {
          "output_type": "execute_result",
          "data": {
            "text/plain": [
              "675000.0"
            ]
          },
          "metadata": {
            "tags": []
          },
          "execution_count": 70
        }
      ]
    },
    {
      "cell_type": "code",
      "metadata": {
        "id": "DjDf5ZZZjl4o",
        "outputId": "02d104e5-4bf6-49a8-c4da-d4d7d49dd4cc",
        "colab": {
          "base_uri": "https://localhost:8080/",
          "height": 33
        }
      },
      "source": [
        "# Atribuição da mediana para os valores 0 de 'value'\n",
        "df_fifa_semna.loc[df_fifa_semna['value']==0,'value'] = df_fifa_semna['value'].median()\n",
        "df_fifa_semna['value'].median()"
      ],
      "execution_count": 76,
      "outputs": [
        {
          "output_type": "execute_result",
          "data": {
            "text/plain": [
              "675000.0"
            ]
          },
          "metadata": {
            "tags": []
          },
          "execution_count": 76
        }
      ]
    },
    {
      "cell_type": "markdown",
      "metadata": {
        "id": "dKNZ3qTcm3cj"
      },
      "source": [
        "## Variável overall"
      ]
    },
    {
      "cell_type": "code",
      "metadata": {
        "id": "RQqaCrD6kcBd",
        "outputId": "128cbdda-529a-4eaf-ba4f-060f56e04519",
        "colab": {
          "base_uri": "https://localhost:8080/",
          "height": 33
        }
      },
      "source": [
        "df_fifa_semna[df_fifa_semna['overall']==0].value_counts()"
      ],
      "execution_count": 78,
      "outputs": [
        {
          "output_type": "execute_result",
          "data": {
            "text/plain": [
              "Series([], Length: 0, dtype: int64)"
            ]
          },
          "metadata": {
            "tags": []
          },
          "execution_count": 78
        }
      ]
    },
    {
      "cell_type": "markdown",
      "metadata": {
        "id": "SPJNYgAVlgLi"
      },
      "source": [
        "# variável wage"
      ]
    },
    {
      "cell_type": "code",
      "metadata": {
        "id": "L1CpAQqWljUM",
        "outputId": "bbdcbdea-c58d-4bc6-9576-3e9e6c937ea0",
        "colab": {
          "base_uri": "https://localhost:8080/",
          "height": 233
        }
      },
      "source": [
        "df_fifa_semna[df_fifa_semna['wage']==0].value_counts()"
      ],
      "execution_count": 92,
      "outputs": [
        {
          "output_type": "execute_result",
          "data": {
            "text/plain": [
              "overall  potential  value  wage  nationality  position  age  preferred_foot\n",
              "80       85         0      0     Argentina    CM        24   Right             1\n",
              "66       71         0      0     Ecuador      CB        23   Right             1\n",
              "         69         0      0     Peru         CM        25   Right             1\n",
              "                                 Bolivia      RB        26   Right             1\n",
              "         68         0      0     Egypt        GK        29   Right             1\n",
              "                                                                              ..\n",
              "70       70         0      0     Hungary      CDM       30   Right             1\n",
              "                                 Egypt        RB        33   Right             1\n",
              "                                 Ecuador      RB        30   Right             1\n",
              "                                 Bulgaria     RB        32   Right             1\n",
              "55       57         0      0     Finland      RB        26   Right             1\n",
              "Length: 229, dtype: int64"
            ]
          },
          "metadata": {
            "tags": []
          },
          "execution_count": 92
        }
      ]
    },
    {
      "cell_type": "code",
      "metadata": {
        "id": "9_fz84kLlsJ6",
        "outputId": "2cef7b8e-9619-40d9-d86e-ca9aea44f74b",
        "colab": {
          "base_uri": "https://localhost:8080/",
          "height": 117
        }
      },
      "source": [
        "df_fifa_semna.loc[df_fifa_semna['wage']==0,'wage'] = df_fifa_semna['wage'].median()"
      ],
      "execution_count": 95,
      "outputs": [
        {
          "output_type": "stream",
          "text": [
            "/usr/local/lib/python3.6/dist-packages/pandas/core/indexing.py:1765: SettingWithCopyWarning: \n",
            "A value is trying to be set on a copy of a slice from a DataFrame.\n",
            "Try using .loc[row_indexer,col_indexer] = value instead\n",
            "\n",
            "See the caveats in the documentation: https://pandas.pydata.org/pandas-docs/stable/user_guide/indexing.html#returning-a-view-versus-a-copy\n",
            "  isetter(loc, value)\n"
          ],
          "name": "stderr"
        }
      ]
    },
    {
      "cell_type": "code",
      "metadata": {
        "id": "oze9UnGZncwU",
        "outputId": "31b4625a-5754-4376-fd1a-200cd7147fec",
        "colab": {
          "base_uri": "https://localhost:8080/",
          "height": 33
        }
      },
      "source": [
        "df_fifa_semna['wage'].median()"
      ],
      "execution_count": 96,
      "outputs": [
        {
          "output_type": "execute_result",
          "data": {
            "text/plain": [
              "3000.0"
            ]
          },
          "metadata": {
            "tags": []
          },
          "execution_count": 96
        }
      ]
    },
    {
      "cell_type": "markdown",
      "metadata": {
        "id": "92guVmnGm-Hz"
      },
      "source": [
        "## Variável age"
      ]
    },
    {
      "cell_type": "code",
      "metadata": {
        "id": "KGVCDsr_nFtV",
        "outputId": "ef865473-5302-4598-b1e1-ae5edb0db3a1",
        "colab": {
          "base_uri": "https://localhost:8080/",
          "height": 33
        }
      },
      "source": [
        "df_fifa_semna[df_fifa_semna['age']==0].value_counts()"
      ],
      "execution_count": 94,
      "outputs": [
        {
          "output_type": "execute_result",
          "data": {
            "text/plain": [
              "Series([], Length: 0, dtype: int64)"
            ]
          },
          "metadata": {
            "tags": []
          },
          "execution_count": 94
        }
      ]
    },
    {
      "cell_type": "markdown",
      "metadata": {
        "id": "SD0UWZEhcwZd"
      },
      "source": [
        "# Tratamento das variáveis categóricas"
      ]
    },
    {
      "cell_type": "code",
      "metadata": {
        "id": "rq_raVuPbQgW",
        "outputId": "27c77644-10da-4d29-f880-2819c85a7b93",
        "colab": {
          "base_uri": "https://localhost:8080/",
          "height": 197
        }
      },
      "source": [
        "df_fifa_categoricas = df_fifa_semna[['nationality','position','preferred_foot']]\n",
        "exemplo_linha(df_fifa_categoricas)"
      ],
      "execution_count": 59,
      "outputs": [
        {
          "output_type": "execute_result",
          "data": {
            "text/html": [
              "<div>\n",
              "<style scoped>\n",
              "    .dataframe tbody tr th:only-of-type {\n",
              "        vertical-align: middle;\n",
              "    }\n",
              "\n",
              "    .dataframe tbody tr th {\n",
              "        vertical-align: top;\n",
              "    }\n",
              "\n",
              "    .dataframe thead th {\n",
              "        text-align: right;\n",
              "    }\n",
              "</style>\n",
              "<table border=\"1\" class=\"dataframe\">\n",
              "  <thead>\n",
              "    <tr style=\"text-align: right;\">\n",
              "      <th></th>\n",
              "      <th>valor_exemplo</th>\n",
              "      <th>dtype_coluna</th>\n",
              "      <th>classe_valor</th>\n",
              "    </tr>\n",
              "    <tr>\n",
              "      <th>nome_coluna</th>\n",
              "      <th></th>\n",
              "      <th></th>\n",
              "      <th></th>\n",
              "    </tr>\n",
              "  </thead>\n",
              "  <tbody>\n",
              "    <tr>\n",
              "      <th>nationality</th>\n",
              "      <td>Argentina</td>\n",
              "      <td>object</td>\n",
              "      <td>str</td>\n",
              "    </tr>\n",
              "    <tr>\n",
              "      <th>position</th>\n",
              "      <td>RF</td>\n",
              "      <td>object</td>\n",
              "      <td>str</td>\n",
              "    </tr>\n",
              "    <tr>\n",
              "      <th>preferred_foot</th>\n",
              "      <td>Left</td>\n",
              "      <td>object</td>\n",
              "      <td>str</td>\n",
              "    </tr>\n",
              "  </tbody>\n",
              "</table>\n",
              "<p>3 rows × 3 columns</p>\n",
              "</div>"
            ],
            "text/plain": [
              "               valor_exemplo dtype_coluna classe_valor\n",
              "nome_coluna                                           \n",
              "nationality        Argentina       object          str\n",
              "position                  RF       object          str\n",
              "preferred_foot          Left       object          str\n",
              "\n",
              "[3 rows x 3 columns]"
            ]
          },
          "metadata": {
            "tags": []
          },
          "execution_count": 59
        }
      ]
    },
    {
      "cell_type": "code",
      "metadata": {
        "id": "EhX-xVQYdguK",
        "outputId": "981cd7b8-26e1-4628-8482-a121e9ce1092",
        "colab": {
          "base_uri": "https://localhost:8080/",
          "height": 197
        }
      },
      "source": [
        "df_fifa_categoricas.describe()"
      ],
      "execution_count": 60,
      "outputs": [
        {
          "output_type": "execute_result",
          "data": {
            "text/html": [
              "<div>\n",
              "<style scoped>\n",
              "    .dataframe tbody tr th:only-of-type {\n",
              "        vertical-align: middle;\n",
              "    }\n",
              "\n",
              "    .dataframe tbody tr th {\n",
              "        vertical-align: top;\n",
              "    }\n",
              "\n",
              "    .dataframe thead th {\n",
              "        text-align: right;\n",
              "    }\n",
              "</style>\n",
              "<table border=\"1\" class=\"dataframe\">\n",
              "  <thead>\n",
              "    <tr style=\"text-align: right;\">\n",
              "      <th></th>\n",
              "      <th>nationality</th>\n",
              "      <th>position</th>\n",
              "      <th>preferred_foot</th>\n",
              "    </tr>\n",
              "  </thead>\n",
              "  <tbody>\n",
              "    <tr>\n",
              "      <th>count</th>\n",
              "      <td>18147</td>\n",
              "      <td>18147</td>\n",
              "      <td>18147</td>\n",
              "    </tr>\n",
              "    <tr>\n",
              "      <th>unique</th>\n",
              "      <td>164</td>\n",
              "      <td>27</td>\n",
              "      <td>2</td>\n",
              "    </tr>\n",
              "    <tr>\n",
              "      <th>top</th>\n",
              "      <td>England</td>\n",
              "      <td>ST</td>\n",
              "      <td>Right</td>\n",
              "    </tr>\n",
              "    <tr>\n",
              "      <th>freq</th>\n",
              "      <td>1657</td>\n",
              "      <td>2152</td>\n",
              "      <td>13938</td>\n",
              "    </tr>\n",
              "  </tbody>\n",
              "</table>\n",
              "<p>4 rows × 3 columns</p>\n",
              "</div>"
            ],
            "text/plain": [
              "       nationality position preferred_foot\n",
              "count        18147    18147          18147\n",
              "unique         164       27              2\n",
              "top        England       ST          Right\n",
              "freq          1657     2152          13938\n",
              "\n",
              "[4 rows x 3 columns]"
            ]
          },
          "metadata": {
            "tags": []
          },
          "execution_count": 60
        }
      ]
    },
    {
      "cell_type": "code",
      "metadata": {
        "id": "Qt83aVbBdrrq",
        "outputId": "7b081f27-7ebd-4dff-ffe6-0d75e18b582e",
        "colab": {
          "base_uri": "https://localhost:8080/",
          "height": 407
        }
      },
      "source": [
        "# domínio das variáveis categóricas\n",
        "#for col in ['nationality','position','preferred_foot']\n",
        "df_fifa_categoricas['nationality'].value_counts().to_frame()"
      ],
      "execution_count": 61,
      "outputs": [
        {
          "output_type": "execute_result",
          "data": {
            "text/html": [
              "<div>\n",
              "<style scoped>\n",
              "    .dataframe tbody tr th:only-of-type {\n",
              "        vertical-align: middle;\n",
              "    }\n",
              "\n",
              "    .dataframe tbody tr th {\n",
              "        vertical-align: top;\n",
              "    }\n",
              "\n",
              "    .dataframe thead th {\n",
              "        text-align: right;\n",
              "    }\n",
              "</style>\n",
              "<table border=\"1\" class=\"dataframe\">\n",
              "  <thead>\n",
              "    <tr style=\"text-align: right;\">\n",
              "      <th></th>\n",
              "      <th>nationality</th>\n",
              "    </tr>\n",
              "  </thead>\n",
              "  <tbody>\n",
              "    <tr>\n",
              "      <th>England</th>\n",
              "      <td>1657</td>\n",
              "    </tr>\n",
              "    <tr>\n",
              "      <th>Germany</th>\n",
              "      <td>1195</td>\n",
              "    </tr>\n",
              "    <tr>\n",
              "      <th>Spain</th>\n",
              "      <td>1071</td>\n",
              "    </tr>\n",
              "    <tr>\n",
              "      <th>Argentina</th>\n",
              "      <td>936</td>\n",
              "    </tr>\n",
              "    <tr>\n",
              "      <th>France</th>\n",
              "      <td>911</td>\n",
              "    </tr>\n",
              "    <tr>\n",
              "      <th>...</th>\n",
              "      <td>...</td>\n",
              "    </tr>\n",
              "    <tr>\n",
              "      <th>New Caledonia</th>\n",
              "      <td>1</td>\n",
              "    </tr>\n",
              "    <tr>\n",
              "      <th>Rwanda</th>\n",
              "      <td>1</td>\n",
              "    </tr>\n",
              "    <tr>\n",
              "      <th>São Tomé &amp; Príncipe</th>\n",
              "      <td>1</td>\n",
              "    </tr>\n",
              "    <tr>\n",
              "      <th>Liberia</th>\n",
              "      <td>1</td>\n",
              "    </tr>\n",
              "    <tr>\n",
              "      <th>Lebanon</th>\n",
              "      <td>1</td>\n",
              "    </tr>\n",
              "  </tbody>\n",
              "</table>\n",
              "<p>164 rows × 1 columns</p>\n",
              "</div>"
            ],
            "text/plain": [
              "                     nationality\n",
              "England                     1657\n",
              "Germany                     1195\n",
              "Spain                       1071\n",
              "Argentina                    936\n",
              "France                       911\n",
              "...                          ...\n",
              "New Caledonia                  1\n",
              "Rwanda                         1\n",
              "São Tomé & Príncipe            1\n",
              "Liberia                        1\n",
              "Lebanon                        1\n",
              "\n",
              "[164 rows x 1 columns]"
            ]
          },
          "metadata": {
            "tags": []
          },
          "execution_count": 61
        }
      ]
    },
    {
      "cell_type": "code",
      "metadata": {
        "id": "3hOB8voHeWUg",
        "outputId": "ccaeeca9-6c28-4dc7-915b-1fcf16cd48f1",
        "colab": {
          "base_uri": "https://localhost:8080/",
          "height": 407
        }
      },
      "source": [
        "df_fifa_categoricas['position'].value_counts().to_frame()"
      ],
      "execution_count": 62,
      "outputs": [
        {
          "output_type": "execute_result",
          "data": {
            "text/html": [
              "<div>\n",
              "<style scoped>\n",
              "    .dataframe tbody tr th:only-of-type {\n",
              "        vertical-align: middle;\n",
              "    }\n",
              "\n",
              "    .dataframe tbody tr th {\n",
              "        vertical-align: top;\n",
              "    }\n",
              "\n",
              "    .dataframe thead th {\n",
              "        text-align: right;\n",
              "    }\n",
              "</style>\n",
              "<table border=\"1\" class=\"dataframe\">\n",
              "  <thead>\n",
              "    <tr style=\"text-align: right;\">\n",
              "      <th></th>\n",
              "      <th>position</th>\n",
              "    </tr>\n",
              "  </thead>\n",
              "  <tbody>\n",
              "    <tr>\n",
              "      <th>ST</th>\n",
              "      <td>2152</td>\n",
              "    </tr>\n",
              "    <tr>\n",
              "      <th>GK</th>\n",
              "      <td>2025</td>\n",
              "    </tr>\n",
              "    <tr>\n",
              "      <th>CB</th>\n",
              "      <td>1778</td>\n",
              "    </tr>\n",
              "    <tr>\n",
              "      <th>CM</th>\n",
              "      <td>1394</td>\n",
              "    </tr>\n",
              "    <tr>\n",
              "      <th>LB</th>\n",
              "      <td>1322</td>\n",
              "    </tr>\n",
              "    <tr>\n",
              "      <th>...</th>\n",
              "      <td>...</td>\n",
              "    </tr>\n",
              "    <tr>\n",
              "      <th>CF</th>\n",
              "      <td>74</td>\n",
              "    </tr>\n",
              "    <tr>\n",
              "      <th>LAM</th>\n",
              "      <td>21</td>\n",
              "    </tr>\n",
              "    <tr>\n",
              "      <th>RAM</th>\n",
              "      <td>21</td>\n",
              "    </tr>\n",
              "    <tr>\n",
              "      <th>RF</th>\n",
              "      <td>16</td>\n",
              "    </tr>\n",
              "    <tr>\n",
              "      <th>LF</th>\n",
              "      <td>15</td>\n",
              "    </tr>\n",
              "  </tbody>\n",
              "</table>\n",
              "<p>27 rows × 1 columns</p>\n",
              "</div>"
            ],
            "text/plain": [
              "     position\n",
              "ST       2152\n",
              "GK       2025\n",
              "CB       1778\n",
              "CM       1394\n",
              "LB       1322\n",
              "..        ...\n",
              "CF         74\n",
              "LAM        21\n",
              "RAM        21\n",
              "RF         16\n",
              "LF         15\n",
              "\n",
              "[27 rows x 1 columns]"
            ]
          },
          "metadata": {
            "tags": []
          },
          "execution_count": 62
        }
      ]
    },
    {
      "cell_type": "code",
      "metadata": {
        "id": "LkFRKchSgiEH",
        "outputId": "88435b6f-4c2d-45ea-e725-103b175d4df8",
        "colab": {
          "base_uri": "https://localhost:8080/",
          "height": 137
        }
      },
      "source": [
        "df_fifa_categoricas['preferred_foot'].value_counts().to_frame()"
      ],
      "execution_count": 63,
      "outputs": [
        {
          "output_type": "execute_result",
          "data": {
            "text/html": [
              "<div>\n",
              "<style scoped>\n",
              "    .dataframe tbody tr th:only-of-type {\n",
              "        vertical-align: middle;\n",
              "    }\n",
              "\n",
              "    .dataframe tbody tr th {\n",
              "        vertical-align: top;\n",
              "    }\n",
              "\n",
              "    .dataframe thead th {\n",
              "        text-align: right;\n",
              "    }\n",
              "</style>\n",
              "<table border=\"1\" class=\"dataframe\">\n",
              "  <thead>\n",
              "    <tr style=\"text-align: right;\">\n",
              "      <th></th>\n",
              "      <th>preferred_foot</th>\n",
              "    </tr>\n",
              "  </thead>\n",
              "  <tbody>\n",
              "    <tr>\n",
              "      <th>Right</th>\n",
              "      <td>13938</td>\n",
              "    </tr>\n",
              "    <tr>\n",
              "      <th>Left</th>\n",
              "      <td>4209</td>\n",
              "    </tr>\n",
              "  </tbody>\n",
              "</table>\n",
              "<p>2 rows × 1 columns</p>\n",
              "</div>"
            ],
            "text/plain": [
              "       preferred_foot\n",
              "Right           13938\n",
              "Left             4209\n",
              "\n",
              "[2 rows x 1 columns]"
            ]
          },
          "metadata": {
            "tags": []
          },
          "execution_count": 63
        }
      ]
    },
    {
      "cell_type": "code",
      "metadata": {
        "id": "Crs46m8Egqhq"
      },
      "source": [
        ""
      ],
      "execution_count": null,
      "outputs": []
    }
  ]
}