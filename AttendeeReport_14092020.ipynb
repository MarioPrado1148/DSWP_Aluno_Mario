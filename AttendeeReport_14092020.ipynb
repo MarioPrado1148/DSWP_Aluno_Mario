{
  "nbformat": 4,
  "nbformat_minor": 0,
  "metadata": {
    "kernelspec": {
      "display_name": "Python 3",
      "language": "python",
      "name": "python3"
    },
    "language_info": {
      "codemirror_mode": {
        "name": "ipython",
        "version": 3
      },
      "file_extension": ".py",
      "mimetype": "text/x-python",
      "name": "python",
      "nbconvert_exporter": "python",
      "pygments_lexer": "ipython3",
      "version": "3.7.3"
    },
    "colab": {
      "name": "AttendeeReport_14092020.ipynb",
      "provenance": [],
      "include_colab_link": true
    }
  },
  "cells": [
    {
      "cell_type": "markdown",
      "metadata": {
        "id": "view-in-github",
        "colab_type": "text"
      },
      "source": [
        "<a href=\"https://colab.research.google.com/github/MarioPrado1148/DSWP_Aluno_Mario/blob/main/AttendeeReport_14092020.ipynb\" target=\"_parent\"><img src=\"https://colab.research.google.com/assets/colab-badge.svg\" alt=\"Open In Colab\"/></a>"
      ]
    },
    {
      "cell_type": "code",
      "metadata": {
        "id": "cmPmef_6N2wI"
      },
      "source": [
        "import numpy as np\n",
        "import pandas as pd\n",
        "from IPython.display import Markdown"
      ],
      "execution_count": null,
      "outputs": []
    },
    {
      "cell_type": "code",
      "metadata": {
        "id": "HVUmCXSzN2wO"
      },
      "source": [
        "def d_ht(obj, nh=5, nt=5):\n",
        "      display(obj.head(nh), obj.tail(nt), obj.shape)"
      ],
      "execution_count": null,
      "outputs": []
    },
    {
      "cell_type": "code",
      "metadata": {
        "id": "9BQRzy1SN2wS"
      },
      "source": [
        "def d_pd(obj, filtros=None, n=1):\n",
        "    if not filtros:\n",
        "        display(obj.iloc[list(range(0,n))+(list(range(-n,0)))], obj.shape)\n",
        "    else:\n",
        "        for filtro in filtros:\n",
        "            display(obj.loc[filtro], Markdown('<br/>'))\n",
        "        display(obj.shape)     "
      ],
      "execution_count": null,
      "outputs": []
    },
    {
      "cell_type": "code",
      "metadata": {
        "id": "gLJ-5xElN2wV"
      },
      "source": [
        "def exemplo_linha(frame, iloc=0):\n",
        "    df_info = pd.DataFrame(dict(valor_exemplo=frame.iloc[iloc].copy()))\n",
        "    df_info['dtype_coluna'] = frame.dtypes.map(lambda x: x.name)\n",
        "    df_info['classe_valor'] = df_info['valor_exemplo'].map(lambda x: x.__class__.__name__)\n",
        "    df_info.index.name = 'nome_coluna'\n",
        "    return df_info"
      ],
      "execution_count": null,
      "outputs": []
    },
    {
      "cell_type": "code",
      "metadata": {
        "id": "WsHCnbW9N2wX",
        "outputId": "56720289-b322-4a53-c398-e1548ab69ff6"
      },
      "source": [
        "csv_presenca = \"AttendeeReport 14-09-2020.csv\"\n",
        "data_evento = pd.to_datetime('2020-09-14')\n",
        "hora_inicio = pd.to_timedelta('14:00:00')\n",
        "hora_termino = pd.to_timedelta('18:00:00')\n",
        "dct_horarios = {\n",
        "    'Joined': data_evento + hora_inicio, \n",
        "    'Left':   data_evento + hora_termino\n",
        "}\n",
        "dct_horarios"
      ],
      "execution_count": null,
      "outputs": [
        {
          "output_type": "execute_result",
          "data": {
            "text/plain": [
              "{'Joined': Timestamp('2020-09-14 14:00:00'),\n",
              " 'Left': Timestamp('2020-09-14 18:00:00')}"
            ]
          },
          "metadata": {
            "tags": []
          },
          "execution_count": 14
        }
      ]
    },
    {
      "cell_type": "code",
      "metadata": {
        "id": "oKNB9PWpN2wb",
        "outputId": "5a6a1564-8ea2-45f8-e170-a04356dd36ae"
      },
      "source": [
        "df_presenca = pd.read_csv(csv_presenca).apply(lambda sr: sr.str.strip())\n",
        "d_pd(df_presenca,n=4)"
      ],
      "execution_count": null,
      "outputs": [
        {
          "output_type": "display_data",
          "data": {
            "text/html": [
              "<div>\n",
              "<style scoped>\n",
              "    .dataframe tbody tr th:only-of-type {\n",
              "        vertical-align: middle;\n",
              "    }\n",
              "\n",
              "    .dataframe tbody tr th {\n",
              "        vertical-align: top;\n",
              "    }\n",
              "\n",
              "    .dataframe thead th {\n",
              "        text-align: right;\n",
              "    }\n",
              "</style>\n",
              "<table border=\"1\" class=\"dataframe\">\n",
              "  <thead>\n",
              "    <tr style=\"text-align: right;\">\n",
              "      <th></th>\n",
              "      <th>Session Id</th>\n",
              "      <th>Participant Id</th>\n",
              "      <th>Full Name</th>\n",
              "      <th>UserAgent</th>\n",
              "      <th>UTC Event Timestamp</th>\n",
              "      <th>Action</th>\n",
              "      <th>Role</th>\n",
              "    </tr>\n",
              "  </thead>\n",
              "  <tbody>\n",
              "    <tr>\n",
              "      <th>0</th>\n",
              "      <td>a82ad53c-0130-49a6-abd6-7bf714973e70</td>\n",
              "      <td>leandro.filoni@rfb.gov.br</td>\n",
              "      <td></td>\n",
              "      <td>Mozilla/5.0 (Windows NT 6.1; Win64; x64) Apple...</td>\n",
              "      <td>8/7/2020 6:29:13 PM</td>\n",
              "      <td>Joined</td>\n",
              "      <td>Attendee</td>\n",
              "    </tr>\n",
              "    <tr>\n",
              "      <th>1</th>\n",
              "      <td>790ecec1-bdbc-4b8a-87bd-74e868d2c722</td>\n",
              "      <td>Fabio.Castilho@rfb.gov.br</td>\n",
              "      <td></td>\n",
              "      <td>Mozilla/5.0 (Windows NT 10.0; Win64; x64) Appl...</td>\n",
              "      <td>8/12/2020 2:53:42 PM</td>\n",
              "      <td>Joined</td>\n",
              "      <td>Attendee</td>\n",
              "    </tr>\n",
              "    <tr>\n",
              "      <th>2</th>\n",
              "      <td>f8074bde-92b5-47f7-a6e9-4acaedb79e05</td>\n",
              "      <td>leandro.filoni@rfb.gov.br</td>\n",
              "      <td></td>\n",
              "      <td>Mozilla/5.0 (Windows NT 10.0; Win64; x64) Appl...</td>\n",
              "      <td>8/17/2020 5:58:08 PM</td>\n",
              "      <td>Joined</td>\n",
              "      <td>Attendee</td>\n",
              "    </tr>\n",
              "    <tr>\n",
              "      <th>3</th>\n",
              "      <td>c7398489-de13-470f-8f77-a1f9ecd8d9d9</td>\n",
              "      <td>leandro.filoni@rfb.gov.br</td>\n",
              "      <td></td>\n",
              "      <td>Mozilla/5.0 (Windows NT 10.0; Win64; x64) Appl...</td>\n",
              "      <td>8/18/2020 8:57:39 PM</td>\n",
              "      <td>Joined</td>\n",
              "      <td>Attendee</td>\n",
              "    </tr>\n",
              "    <tr>\n",
              "      <th>11633</th>\n",
              "      <td>4a0c390b-2e42-4b61-a6aa-63f674015fef</td>\n",
              "      <td>anderson.martins@rfb.gov.br</td>\n",
              "      <td></td>\n",
              "      <td>Mozilla/5.0 (Windows NT 10.0; Win64; x64) Appl...</td>\n",
              "      <td>9/15/2020 12:02:55 PM</td>\n",
              "      <td>Left</td>\n",
              "      <td>Attendee</td>\n",
              "    </tr>\n",
              "    <tr>\n",
              "      <th>11634</th>\n",
              "      <td>954fdb5b-0eec-4977-a0ae-a44a7c605f30</td>\n",
              "      <td>mark.tollemache@rfb.gov.br</td>\n",
              "      <td></td>\n",
              "      <td>Mozilla/5.0 (Windows NT 10.0; Win64; x64) Appl...</td>\n",
              "      <td>9/15/2020 12:10:20 PM</td>\n",
              "      <td>Left</td>\n",
              "      <td>Attendee</td>\n",
              "    </tr>\n",
              "    <tr>\n",
              "      <th>11635</th>\n",
              "      <td>28de2425-1ca6-4cc1-8f22-bd4c465310ee</td>\n",
              "      <td>thiago.pizzolato@rfb.gov.br</td>\n",
              "      <td></td>\n",
              "      <td>SignalR (lang=Java; os=linux; version=2.0)</td>\n",
              "      <td>9/15/2020 12:21:56 PM</td>\n",
              "      <td>Left</td>\n",
              "      <td>Attendee</td>\n",
              "    </tr>\n",
              "    <tr>\n",
              "      <th>11636</th>\n",
              "      <td>014ba329-e88a-4f66-94fa-e07406ef288b</td>\n",
              "      <td>vicente.battista@rfb.gov.br</td>\n",
              "      <td></td>\n",
              "      <td>Mozilla/5.0 (Windows NT 10.0; Win64; x64) Appl...</td>\n",
              "      <td>9/15/2020 12:34:48 PM</td>\n",
              "      <td>Left</td>\n",
              "      <td>Attendee</td>\n",
              "    </tr>\n",
              "  </tbody>\n",
              "</table>\n",
              "</div>"
            ],
            "text/plain": [
              "                                 Session Id               Participant Id  \\\n",
              "0      a82ad53c-0130-49a6-abd6-7bf714973e70    leandro.filoni@rfb.gov.br   \n",
              "1      790ecec1-bdbc-4b8a-87bd-74e868d2c722    Fabio.Castilho@rfb.gov.br   \n",
              "2      f8074bde-92b5-47f7-a6e9-4acaedb79e05    leandro.filoni@rfb.gov.br   \n",
              "3      c7398489-de13-470f-8f77-a1f9ecd8d9d9    leandro.filoni@rfb.gov.br   \n",
              "11633  4a0c390b-2e42-4b61-a6aa-63f674015fef  anderson.martins@rfb.gov.br   \n",
              "11634  954fdb5b-0eec-4977-a0ae-a44a7c605f30   mark.tollemache@rfb.gov.br   \n",
              "11635  28de2425-1ca6-4cc1-8f22-bd4c465310ee  thiago.pizzolato@rfb.gov.br   \n",
              "11636  014ba329-e88a-4f66-94fa-e07406ef288b  vicente.battista@rfb.gov.br   \n",
              "\n",
              "       Full Name                                          UserAgent  \\\n",
              "0                 Mozilla/5.0 (Windows NT 6.1; Win64; x64) Apple...   \n",
              "1                 Mozilla/5.0 (Windows NT 10.0; Win64; x64) Appl...   \n",
              "2                 Mozilla/5.0 (Windows NT 10.0; Win64; x64) Appl...   \n",
              "3                 Mozilla/5.0 (Windows NT 10.0; Win64; x64) Appl...   \n",
              "11633             Mozilla/5.0 (Windows NT 10.0; Win64; x64) Appl...   \n",
              "11634             Mozilla/5.0 (Windows NT 10.0; Win64; x64) Appl...   \n",
              "11635                    SignalR (lang=Java; os=linux; version=2.0)   \n",
              "11636             Mozilla/5.0 (Windows NT 10.0; Win64; x64) Appl...   \n",
              "\n",
              "         UTC Event Timestamp  Action      Role  \n",
              "0        8/7/2020 6:29:13 PM  Joined  Attendee  \n",
              "1       8/12/2020 2:53:42 PM  Joined  Attendee  \n",
              "2       8/17/2020 5:58:08 PM  Joined  Attendee  \n",
              "3       8/18/2020 8:57:39 PM  Joined  Attendee  \n",
              "11633  9/15/2020 12:02:55 PM    Left  Attendee  \n",
              "11634  9/15/2020 12:10:20 PM    Left  Attendee  \n",
              "11635  9/15/2020 12:21:56 PM    Left  Attendee  \n",
              "11636  9/15/2020 12:34:48 PM    Left  Attendee  "
            ]
          },
          "metadata": {
            "tags": []
          }
        },
        {
          "output_type": "display_data",
          "data": {
            "text/plain": [
              "(11637, 7)"
            ]
          },
          "metadata": {
            "tags": []
          }
        }
      ]
    },
    {
      "cell_type": "code",
      "metadata": {
        "id": "MMWCP8rVN2we",
        "outputId": "6623439b-135f-47b0-a52f-6e5ce24c0731"
      },
      "source": [
        "exemplo_linha(df_presenca)"
      ],
      "execution_count": null,
      "outputs": [
        {
          "output_type": "execute_result",
          "data": {
            "text/html": [
              "<div>\n",
              "<style scoped>\n",
              "    .dataframe tbody tr th:only-of-type {\n",
              "        vertical-align: middle;\n",
              "    }\n",
              "\n",
              "    .dataframe tbody tr th {\n",
              "        vertical-align: top;\n",
              "    }\n",
              "\n",
              "    .dataframe thead th {\n",
              "        text-align: right;\n",
              "    }\n",
              "</style>\n",
              "<table border=\"1\" class=\"dataframe\">\n",
              "  <thead>\n",
              "    <tr style=\"text-align: right;\">\n",
              "      <th></th>\n",
              "      <th>valor_exemplo</th>\n",
              "      <th>dtype_coluna</th>\n",
              "      <th>classe_valor</th>\n",
              "    </tr>\n",
              "    <tr>\n",
              "      <th>nome_coluna</th>\n",
              "      <th></th>\n",
              "      <th></th>\n",
              "      <th></th>\n",
              "    </tr>\n",
              "  </thead>\n",
              "  <tbody>\n",
              "    <tr>\n",
              "      <th>Session Id</th>\n",
              "      <td>a82ad53c-0130-49a6-abd6-7bf714973e70</td>\n",
              "      <td>object</td>\n",
              "      <td>str</td>\n",
              "    </tr>\n",
              "    <tr>\n",
              "      <th>Participant Id</th>\n",
              "      <td>leandro.filoni@rfb.gov.br</td>\n",
              "      <td>object</td>\n",
              "      <td>str</td>\n",
              "    </tr>\n",
              "    <tr>\n",
              "      <th>Full Name</th>\n",
              "      <td></td>\n",
              "      <td>object</td>\n",
              "      <td>str</td>\n",
              "    </tr>\n",
              "    <tr>\n",
              "      <th>UserAgent</th>\n",
              "      <td>Mozilla/5.0 (Windows NT 6.1; Win64; x64) Apple...</td>\n",
              "      <td>object</td>\n",
              "      <td>str</td>\n",
              "    </tr>\n",
              "    <tr>\n",
              "      <th>UTC Event Timestamp</th>\n",
              "      <td>8/7/2020 6:29:13 PM</td>\n",
              "      <td>object</td>\n",
              "      <td>str</td>\n",
              "    </tr>\n",
              "    <tr>\n",
              "      <th>Action</th>\n",
              "      <td>Joined</td>\n",
              "      <td>object</td>\n",
              "      <td>str</td>\n",
              "    </tr>\n",
              "    <tr>\n",
              "      <th>Role</th>\n",
              "      <td>Attendee</td>\n",
              "      <td>object</td>\n",
              "      <td>str</td>\n",
              "    </tr>\n",
              "  </tbody>\n",
              "</table>\n",
              "</div>"
            ],
            "text/plain": [
              "                                                          valor_exemplo  \\\n",
              "nome_coluna                                                               \n",
              "Session Id                         a82ad53c-0130-49a6-abd6-7bf714973e70   \n",
              " Participant Id                               leandro.filoni@rfb.gov.br   \n",
              " Full Name                                                                \n",
              " UserAgent            Mozilla/5.0 (Windows NT 6.1; Win64; x64) Apple...   \n",
              " UTC Event Timestamp                                8/7/2020 6:29:13 PM   \n",
              " Action                                                          Joined   \n",
              " Role                                                          Attendee   \n",
              "\n",
              "                     dtype_coluna classe_valor  \n",
              "nome_coluna                                     \n",
              "Session Id                 object          str  \n",
              " Participant Id            object          str  \n",
              " Full Name                 object          str  \n",
              " UserAgent                 object          str  \n",
              " UTC Event Timestamp       object          str  \n",
              " Action                    object          str  \n",
              " Role                      object          str  "
            ]
          },
          "metadata": {
            "tags": []
          },
          "execution_count": 17
        }
      ]
    },
    {
      "cell_type": "code",
      "metadata": {
        "id": "6aMz9zM8N2wk",
        "outputId": "477c3e5b-9790-4679-ca9b-4430600ae20c"
      },
      "source": [
        "df_presenca.columns = (\n",
        "    df_presenca.columns\n",
        "    .str.strip()\n",
        "    .str.replace('UTC Event ', '')\n",
        "    .str.replace(' ', '_')\n",
        "    .str.replace('(?<=[a-z])(?=[A-Z])', '_')\n",
        "    .str.lower()\n",
        ")\n",
        "d_pd(df_presenca)"
      ],
      "execution_count": null,
      "outputs": [
        {
          "output_type": "display_data",
          "data": {
            "text/html": [
              "<div>\n",
              "<style scoped>\n",
              "    .dataframe tbody tr th:only-of-type {\n",
              "        vertical-align: middle;\n",
              "    }\n",
              "\n",
              "    .dataframe tbody tr th {\n",
              "        vertical-align: top;\n",
              "    }\n",
              "\n",
              "    .dataframe thead th {\n",
              "        text-align: right;\n",
              "    }\n",
              "</style>\n",
              "<table border=\"1\" class=\"dataframe\">\n",
              "  <thead>\n",
              "    <tr style=\"text-align: right;\">\n",
              "      <th></th>\n",
              "      <th>session_id</th>\n",
              "      <th>participant_id</th>\n",
              "      <th>full_name</th>\n",
              "      <th>user_agent</th>\n",
              "      <th>timestamp</th>\n",
              "      <th>action</th>\n",
              "      <th>role</th>\n",
              "    </tr>\n",
              "  </thead>\n",
              "  <tbody>\n",
              "    <tr>\n",
              "      <th>0</th>\n",
              "      <td>a82ad53c-0130-49a6-abd6-7bf714973e70</td>\n",
              "      <td>leandro.filoni@rfb.gov.br</td>\n",
              "      <td></td>\n",
              "      <td>Mozilla/5.0 (Windows NT 6.1; Win64; x64) Apple...</td>\n",
              "      <td>8/7/2020 6:29:13 PM</td>\n",
              "      <td>Joined</td>\n",
              "      <td>Attendee</td>\n",
              "    </tr>\n",
              "    <tr>\n",
              "      <th>11636</th>\n",
              "      <td>014ba329-e88a-4f66-94fa-e07406ef288b</td>\n",
              "      <td>vicente.battista@rfb.gov.br</td>\n",
              "      <td></td>\n",
              "      <td>Mozilla/5.0 (Windows NT 10.0; Win64; x64) Appl...</td>\n",
              "      <td>9/15/2020 12:34:48 PM</td>\n",
              "      <td>Left</td>\n",
              "      <td>Attendee</td>\n",
              "    </tr>\n",
              "  </tbody>\n",
              "</table>\n",
              "</div>"
            ],
            "text/plain": [
              "                                 session_id               participant_id  \\\n",
              "0      a82ad53c-0130-49a6-abd6-7bf714973e70    leandro.filoni@rfb.gov.br   \n",
              "11636  014ba329-e88a-4f66-94fa-e07406ef288b  vicente.battista@rfb.gov.br   \n",
              "\n",
              "      full_name                                         user_agent  \\\n",
              "0                Mozilla/5.0 (Windows NT 6.1; Win64; x64) Apple...   \n",
              "11636            Mozilla/5.0 (Windows NT 10.0; Win64; x64) Appl...   \n",
              "\n",
              "                   timestamp  action      role  \n",
              "0        8/7/2020 6:29:13 PM  Joined  Attendee  \n",
              "11636  9/15/2020 12:34:48 PM    Left  Attendee  "
            ]
          },
          "metadata": {
            "tags": []
          }
        },
        {
          "output_type": "display_data",
          "data": {
            "text/plain": [
              "(11637, 7)"
            ]
          },
          "metadata": {
            "tags": []
          }
        }
      ]
    },
    {
      "cell_type": "code",
      "metadata": {
        "id": "bjABZpiHN2wo",
        "outputId": "a93390aa-25fe-44ed-dce3-e697331d2017"
      },
      "source": [
        "df_completo = (\n",
        "    df_presenca\n",
        "    .assign(timestamp = pd.to_datetime(df_presenca.timestamp) - pd.to_timedelta('3:00:00'))\n",
        "    .set_index(['participant_id', 'session_id', 'action'])\n",
        "    ['timestamp']\n",
        "    .unstack('action')\n",
        "    .fillna(dct_horarios)\n",
        ")\n",
        "d_pd(df_completo,n=2)"
      ],
      "execution_count": null,
      "outputs": [
        {
          "output_type": "display_data",
          "data": {
            "text/html": [
              "<div>\n",
              "<style scoped>\n",
              "    .dataframe tbody tr th:only-of-type {\n",
              "        vertical-align: middle;\n",
              "    }\n",
              "\n",
              "    .dataframe tbody tr th {\n",
              "        vertical-align: top;\n",
              "    }\n",
              "\n",
              "    .dataframe thead th {\n",
              "        text-align: right;\n",
              "    }\n",
              "</style>\n",
              "<table border=\"1\" class=\"dataframe\">\n",
              "  <thead>\n",
              "    <tr style=\"text-align: right;\">\n",
              "      <th></th>\n",
              "      <th>action</th>\n",
              "      <th>Joined</th>\n",
              "      <th>Left</th>\n",
              "    </tr>\n",
              "    <tr>\n",
              "      <th>participant_id</th>\n",
              "      <th>session_id</th>\n",
              "      <th></th>\n",
              "      <th></th>\n",
              "    </tr>\n",
              "  </thead>\n",
              "  <tbody>\n",
              "    <tr>\n",
              "      <th>ANA.BEJAR@rfb.gov.br</th>\n",
              "      <th>baf42d52-7835-49f1-a408-87de78ab0664</th>\n",
              "      <td>2020-09-14 14:30:11</td>\n",
              "      <td>2020-09-14 17:53:09</td>\n",
              "    </tr>\n",
              "    <tr>\n",
              "      <th>Abrahao.Lima@rfb.gov.br</th>\n",
              "      <th>09bd90ff-1447-4052-b309-025227fe90ca</th>\n",
              "      <td>2020-09-14 15:12:49</td>\n",
              "      <td>2020-09-14 18:13:08</td>\n",
              "    </tr>\n",
              "    <tr>\n",
              "      <th>yuri.godoi@rfb.gov.br</th>\n",
              "      <th>4a857e53-8d7c-4e07-b1e7-2b4e3ea85695</th>\n",
              "      <td>2020-09-14 13:57:27</td>\n",
              "      <td>2020-09-14 16:57:06</td>\n",
              "    </tr>\n",
              "    <tr>\n",
              "      <th>zilda.h.pires@rfb.gov.br</th>\n",
              "      <th>cb0f5a7a-e58e-4418-8e38-2f336e88f498</th>\n",
              "      <td>2020-09-14 14:00:03</td>\n",
              "      <td>2020-09-14 18:01:21</td>\n",
              "    </tr>\n",
              "  </tbody>\n",
              "</table>\n",
              "</div>"
            ],
            "text/plain": [
              "action                                                                     Joined  \\\n",
              "participant_id           session_id                                                 \n",
              "ANA.BEJAR@rfb.gov.br     baf42d52-7835-49f1-a408-87de78ab0664 2020-09-14 14:30:11   \n",
              "Abrahao.Lima@rfb.gov.br  09bd90ff-1447-4052-b309-025227fe90ca 2020-09-14 15:12:49   \n",
              "yuri.godoi@rfb.gov.br    4a857e53-8d7c-4e07-b1e7-2b4e3ea85695 2020-09-14 13:57:27   \n",
              "zilda.h.pires@rfb.gov.br cb0f5a7a-e58e-4418-8e38-2f336e88f498 2020-09-14 14:00:03   \n",
              "\n",
              "action                                                                       Left  \n",
              "participant_id           session_id                                                \n",
              "ANA.BEJAR@rfb.gov.br     baf42d52-7835-49f1-a408-87de78ab0664 2020-09-14 17:53:09  \n",
              "Abrahao.Lima@rfb.gov.br  09bd90ff-1447-4052-b309-025227fe90ca 2020-09-14 18:13:08  \n",
              "yuri.godoi@rfb.gov.br    4a857e53-8d7c-4e07-b1e7-2b4e3ea85695 2020-09-14 16:57:06  \n",
              "zilda.h.pires@rfb.gov.br cb0f5a7a-e58e-4418-8e38-2f336e88f498 2020-09-14 18:01:21  "
            ]
          },
          "metadata": {
            "tags": []
          }
        },
        {
          "output_type": "display_data",
          "data": {
            "text/plain": [
              "(5823, 2)"
            ]
          },
          "metadata": {
            "tags": []
          }
        }
      ]
    },
    {
      "cell_type": "code",
      "metadata": {
        "id": "TKoRm8P_N2ws",
        "outputId": "ee77497c-78bf-4f9e-d13e-5f6c19b97fa0"
      },
      "source": [
        "df_completo.isna().sum()"
      ],
      "execution_count": null,
      "outputs": [
        {
          "output_type": "execute_result",
          "data": {
            "text/plain": [
              "action\n",
              "Joined    0\n",
              "Left      0\n",
              "dtype: int64"
            ]
          },
          "metadata": {
            "tags": []
          },
          "execution_count": 20
        }
      ]
    },
    {
      "cell_type": "code",
      "metadata": {
        "id": "BUyPpEFLN2wu",
        "outputId": "d4866521-9c85-4196-e4f9-d21fd6d3b79f"
      },
      "source": [
        "df_completo.describe()"
      ],
      "execution_count": null,
      "outputs": [
        {
          "output_type": "execute_result",
          "data": {
            "text/html": [
              "<div>\n",
              "<style scoped>\n",
              "    .dataframe tbody tr th:only-of-type {\n",
              "        vertical-align: middle;\n",
              "    }\n",
              "\n",
              "    .dataframe tbody tr th {\n",
              "        vertical-align: top;\n",
              "    }\n",
              "\n",
              "    .dataframe thead th {\n",
              "        text-align: right;\n",
              "    }\n",
              "</style>\n",
              "<table border=\"1\" class=\"dataframe\">\n",
              "  <thead>\n",
              "    <tr style=\"text-align: right;\">\n",
              "      <th>action</th>\n",
              "      <th>Joined</th>\n",
              "      <th>Left</th>\n",
              "    </tr>\n",
              "  </thead>\n",
              "  <tbody>\n",
              "    <tr>\n",
              "      <th>count</th>\n",
              "      <td>5823</td>\n",
              "      <td>5823</td>\n",
              "    </tr>\n",
              "    <tr>\n",
              "      <th>unique</th>\n",
              "      <td>4377</td>\n",
              "      <td>4072</td>\n",
              "    </tr>\n",
              "    <tr>\n",
              "      <th>top</th>\n",
              "      <td>2020-09-14 14:01:16</td>\n",
              "      <td>2020-09-14 17:59:10</td>\n",
              "    </tr>\n",
              "    <tr>\n",
              "      <th>freq</th>\n",
              "      <td>7</td>\n",
              "      <td>32</td>\n",
              "    </tr>\n",
              "    <tr>\n",
              "      <th>first</th>\n",
              "      <td>2020-08-07 15:29:13</td>\n",
              "      <td>2020-08-07 15:36:18</td>\n",
              "    </tr>\n",
              "    <tr>\n",
              "      <th>last</th>\n",
              "      <td>2020-09-15 09:10:16</td>\n",
              "      <td>2020-09-15 09:45:13</td>\n",
              "    </tr>\n",
              "  </tbody>\n",
              "</table>\n",
              "</div>"
            ],
            "text/plain": [
              "action               Joined                 Left\n",
              "count                  5823                 5823\n",
              "unique                 4377                 4072\n",
              "top     2020-09-14 14:01:16  2020-09-14 17:59:10\n",
              "freq                      7                   32\n",
              "first   2020-08-07 15:29:13  2020-08-07 15:36:18\n",
              "last    2020-09-15 09:10:16  2020-09-15 09:45:13"
            ]
          },
          "metadata": {
            "tags": []
          },
          "execution_count": 21
        }
      ]
    },
    {
      "cell_type": "code",
      "metadata": {
        "id": "3Bvi9SokN2wx",
        "outputId": "429df72a-ad1c-4796-dc09-7fbc32f39cdc"
      },
      "source": [
        "sr_inicio = pd.Series(dct_horarios['Joined'], index=df_completo.index)\n",
        "sr_termino = pd.Series(dct_horarios['Left'], index=df_completo.index)\n",
        "df_completo['inicio'] = np.minimum(np.maximum(df_completo.Joined, sr_inicio), sr_termino)\n",
        "df_completo['termino'] = np.maximum(np.minimum(df_completo.Left, sr_termino), sr_inicio)\n",
        "d_ht(df_completo.sort_values(['Joined','Left']))"
      ],
      "execution_count": null,
      "outputs": [
        {
          "output_type": "display_data",
          "data": {
            "text/html": [
              "<div>\n",
              "<style scoped>\n",
              "    .dataframe tbody tr th:only-of-type {\n",
              "        vertical-align: middle;\n",
              "    }\n",
              "\n",
              "    .dataframe tbody tr th {\n",
              "        vertical-align: top;\n",
              "    }\n",
              "\n",
              "    .dataframe thead th {\n",
              "        text-align: right;\n",
              "    }\n",
              "</style>\n",
              "<table border=\"1\" class=\"dataframe\">\n",
              "  <thead>\n",
              "    <tr style=\"text-align: right;\">\n",
              "      <th></th>\n",
              "      <th>action</th>\n",
              "      <th>Joined</th>\n",
              "      <th>Left</th>\n",
              "      <th>inicio</th>\n",
              "      <th>termino</th>\n",
              "    </tr>\n",
              "    <tr>\n",
              "      <th>participant_id</th>\n",
              "      <th>session_id</th>\n",
              "      <th></th>\n",
              "      <th></th>\n",
              "      <th></th>\n",
              "      <th></th>\n",
              "    </tr>\n",
              "  </thead>\n",
              "  <tbody>\n",
              "    <tr>\n",
              "      <th>leandro.filoni@rfb.gov.br</th>\n",
              "      <th>a82ad53c-0130-49a6-abd6-7bf714973e70</th>\n",
              "      <td>2020-08-07 15:29:13</td>\n",
              "      <td>2020-08-07 15:36:18</td>\n",
              "      <td>2020-09-14 14:00:00</td>\n",
              "      <td>2020-09-14 14:00:00</td>\n",
              "    </tr>\n",
              "    <tr>\n",
              "      <th>Fabio.Castilho@rfb.gov.br</th>\n",
              "      <th>790ecec1-bdbc-4b8a-87bd-74e868d2c722</th>\n",
              "      <td>2020-08-12 11:53:42</td>\n",
              "      <td>2020-08-12 11:54:57</td>\n",
              "      <td>2020-09-14 14:00:00</td>\n",
              "      <td>2020-09-14 14:00:00</td>\n",
              "    </tr>\n",
              "    <tr>\n",
              "      <th rowspan=\"3\" valign=\"top\">leandro.filoni@rfb.gov.br</th>\n",
              "      <th>f8074bde-92b5-47f7-a6e9-4acaedb79e05</th>\n",
              "      <td>2020-08-17 14:58:08</td>\n",
              "      <td>2020-08-17 14:58:26</td>\n",
              "      <td>2020-09-14 14:00:00</td>\n",
              "      <td>2020-09-14 14:00:00</td>\n",
              "    </tr>\n",
              "    <tr>\n",
              "      <th>c7398489-de13-470f-8f77-a1f9ecd8d9d9</th>\n",
              "      <td>2020-08-18 17:57:39</td>\n",
              "      <td>2020-08-18 17:57:42</td>\n",
              "      <td>2020-09-14 14:00:00</td>\n",
              "      <td>2020-09-14 14:00:00</td>\n",
              "    </tr>\n",
              "    <tr>\n",
              "      <th>8d822132-3478-4bbf-a394-b976881db90a</th>\n",
              "      <td>2020-08-19 17:18:24</td>\n",
              "      <td>2020-08-19 17:18:26</td>\n",
              "      <td>2020-09-14 14:00:00</td>\n",
              "      <td>2020-09-14 14:00:00</td>\n",
              "    </tr>\n",
              "  </tbody>\n",
              "</table>\n",
              "</div>"
            ],
            "text/plain": [
              "action                                                                      Joined  \\\n",
              "participant_id            session_id                                                 \n",
              "leandro.filoni@rfb.gov.br a82ad53c-0130-49a6-abd6-7bf714973e70 2020-08-07 15:29:13   \n",
              "Fabio.Castilho@rfb.gov.br 790ecec1-bdbc-4b8a-87bd-74e868d2c722 2020-08-12 11:53:42   \n",
              "leandro.filoni@rfb.gov.br f8074bde-92b5-47f7-a6e9-4acaedb79e05 2020-08-17 14:58:08   \n",
              "                          c7398489-de13-470f-8f77-a1f9ecd8d9d9 2020-08-18 17:57:39   \n",
              "                          8d822132-3478-4bbf-a394-b976881db90a 2020-08-19 17:18:24   \n",
              "\n",
              "action                                                                        Left  \\\n",
              "participant_id            session_id                                                 \n",
              "leandro.filoni@rfb.gov.br a82ad53c-0130-49a6-abd6-7bf714973e70 2020-08-07 15:36:18   \n",
              "Fabio.Castilho@rfb.gov.br 790ecec1-bdbc-4b8a-87bd-74e868d2c722 2020-08-12 11:54:57   \n",
              "leandro.filoni@rfb.gov.br f8074bde-92b5-47f7-a6e9-4acaedb79e05 2020-08-17 14:58:26   \n",
              "                          c7398489-de13-470f-8f77-a1f9ecd8d9d9 2020-08-18 17:57:42   \n",
              "                          8d822132-3478-4bbf-a394-b976881db90a 2020-08-19 17:18:26   \n",
              "\n",
              "action                                                                      inicio  \\\n",
              "participant_id            session_id                                                 \n",
              "leandro.filoni@rfb.gov.br a82ad53c-0130-49a6-abd6-7bf714973e70 2020-09-14 14:00:00   \n",
              "Fabio.Castilho@rfb.gov.br 790ecec1-bdbc-4b8a-87bd-74e868d2c722 2020-09-14 14:00:00   \n",
              "leandro.filoni@rfb.gov.br f8074bde-92b5-47f7-a6e9-4acaedb79e05 2020-09-14 14:00:00   \n",
              "                          c7398489-de13-470f-8f77-a1f9ecd8d9d9 2020-09-14 14:00:00   \n",
              "                          8d822132-3478-4bbf-a394-b976881db90a 2020-09-14 14:00:00   \n",
              "\n",
              "action                                                                     termino  \n",
              "participant_id            session_id                                                \n",
              "leandro.filoni@rfb.gov.br a82ad53c-0130-49a6-abd6-7bf714973e70 2020-09-14 14:00:00  \n",
              "Fabio.Castilho@rfb.gov.br 790ecec1-bdbc-4b8a-87bd-74e868d2c722 2020-09-14 14:00:00  \n",
              "leandro.filoni@rfb.gov.br f8074bde-92b5-47f7-a6e9-4acaedb79e05 2020-09-14 14:00:00  \n",
              "                          c7398489-de13-470f-8f77-a1f9ecd8d9d9 2020-09-14 14:00:00  \n",
              "                          8d822132-3478-4bbf-a394-b976881db90a 2020-09-14 14:00:00  "
            ]
          },
          "metadata": {
            "tags": []
          }
        },
        {
          "output_type": "display_data",
          "data": {
            "text/html": [
              "<div>\n",
              "<style scoped>\n",
              "    .dataframe tbody tr th:only-of-type {\n",
              "        vertical-align: middle;\n",
              "    }\n",
              "\n",
              "    .dataframe tbody tr th {\n",
              "        vertical-align: top;\n",
              "    }\n",
              "\n",
              "    .dataframe thead th {\n",
              "        text-align: right;\n",
              "    }\n",
              "</style>\n",
              "<table border=\"1\" class=\"dataframe\">\n",
              "  <thead>\n",
              "    <tr style=\"text-align: right;\">\n",
              "      <th></th>\n",
              "      <th>action</th>\n",
              "      <th>Joined</th>\n",
              "      <th>Left</th>\n",
              "      <th>inicio</th>\n",
              "      <th>termino</th>\n",
              "    </tr>\n",
              "    <tr>\n",
              "      <th>participant_id</th>\n",
              "      <th>session_id</th>\n",
              "      <th></th>\n",
              "      <th></th>\n",
              "      <th></th>\n",
              "      <th></th>\n",
              "    </tr>\n",
              "  </thead>\n",
              "  <tbody>\n",
              "    <tr>\n",
              "      <th>hadalton.martinelli@rfb.gov.br</th>\n",
              "      <th>48c47ced-2146-4739-a55c-09fc30355e1e</th>\n",
              "      <td>2020-09-15 07:37:31</td>\n",
              "      <td>2020-09-15 07:50:15</td>\n",
              "      <td>2020-09-14 18:00:00</td>\n",
              "      <td>2020-09-14 18:00:00</td>\n",
              "    </tr>\n",
              "    <tr>\n",
              "      <th>Marco.A.Holcman@rfb.gov.br</th>\n",
              "      <th>1bd04d13-4f84-4d26-b1df-2cc2f86bd1d1</th>\n",
              "      <td>2020-09-15 07:45:02</td>\n",
              "      <td>2020-09-15 07:51:28</td>\n",
              "      <td>2020-09-14 18:00:00</td>\n",
              "      <td>2020-09-14 18:00:00</td>\n",
              "    </tr>\n",
              "    <tr>\n",
              "      <th>hadalton.martinelli@rfb.gov.br</th>\n",
              "      <th>cc30b0e4-4cca-44ec-87d0-c0460a3b6ddf</th>\n",
              "      <td>2020-09-15 07:49:52</td>\n",
              "      <td>2020-09-15 09:09:00</td>\n",
              "      <td>2020-09-14 18:00:00</td>\n",
              "      <td>2020-09-14 18:00:00</td>\n",
              "    </tr>\n",
              "    <tr>\n",
              "      <th>thiago.pizzolato@rfb.gov.br</th>\n",
              "      <th>28de2425-1ca6-4cc1-8f22-bd4c465310ee</th>\n",
              "      <td>2020-09-15 09:08:45</td>\n",
              "      <td>2020-09-15 09:21:56</td>\n",
              "      <td>2020-09-14 18:00:00</td>\n",
              "      <td>2020-09-14 18:00:00</td>\n",
              "    </tr>\n",
              "    <tr>\n",
              "      <th>carolina.pinheiro@rfb.gov.br</th>\n",
              "      <th>86033e7c-5bbf-47ed-bdae-79f44f4463ce</th>\n",
              "      <td>2020-09-15 09:10:16</td>\n",
              "      <td>2020-09-14 18:00:00</td>\n",
              "      <td>2020-09-14 18:00:00</td>\n",
              "      <td>2020-09-14 18:00:00</td>\n",
              "    </tr>\n",
              "  </tbody>\n",
              "</table>\n",
              "</div>"
            ],
            "text/plain": [
              "action                                                                           Joined  \\\n",
              "participant_id                 session_id                                                 \n",
              "hadalton.martinelli@rfb.gov.br 48c47ced-2146-4739-a55c-09fc30355e1e 2020-09-15 07:37:31   \n",
              "Marco.A.Holcman@rfb.gov.br     1bd04d13-4f84-4d26-b1df-2cc2f86bd1d1 2020-09-15 07:45:02   \n",
              "hadalton.martinelli@rfb.gov.br cc30b0e4-4cca-44ec-87d0-c0460a3b6ddf 2020-09-15 07:49:52   \n",
              "thiago.pizzolato@rfb.gov.br    28de2425-1ca6-4cc1-8f22-bd4c465310ee 2020-09-15 09:08:45   \n",
              "carolina.pinheiro@rfb.gov.br   86033e7c-5bbf-47ed-bdae-79f44f4463ce 2020-09-15 09:10:16   \n",
              "\n",
              "action                                                                             Left  \\\n",
              "participant_id                 session_id                                                 \n",
              "hadalton.martinelli@rfb.gov.br 48c47ced-2146-4739-a55c-09fc30355e1e 2020-09-15 07:50:15   \n",
              "Marco.A.Holcman@rfb.gov.br     1bd04d13-4f84-4d26-b1df-2cc2f86bd1d1 2020-09-15 07:51:28   \n",
              "hadalton.martinelli@rfb.gov.br cc30b0e4-4cca-44ec-87d0-c0460a3b6ddf 2020-09-15 09:09:00   \n",
              "thiago.pizzolato@rfb.gov.br    28de2425-1ca6-4cc1-8f22-bd4c465310ee 2020-09-15 09:21:56   \n",
              "carolina.pinheiro@rfb.gov.br   86033e7c-5bbf-47ed-bdae-79f44f4463ce 2020-09-14 18:00:00   \n",
              "\n",
              "action                                                                           inicio  \\\n",
              "participant_id                 session_id                                                 \n",
              "hadalton.martinelli@rfb.gov.br 48c47ced-2146-4739-a55c-09fc30355e1e 2020-09-14 18:00:00   \n",
              "Marco.A.Holcman@rfb.gov.br     1bd04d13-4f84-4d26-b1df-2cc2f86bd1d1 2020-09-14 18:00:00   \n",
              "hadalton.martinelli@rfb.gov.br cc30b0e4-4cca-44ec-87d0-c0460a3b6ddf 2020-09-14 18:00:00   \n",
              "thiago.pizzolato@rfb.gov.br    28de2425-1ca6-4cc1-8f22-bd4c465310ee 2020-09-14 18:00:00   \n",
              "carolina.pinheiro@rfb.gov.br   86033e7c-5bbf-47ed-bdae-79f44f4463ce 2020-09-14 18:00:00   \n",
              "\n",
              "action                                                                          termino  \n",
              "participant_id                 session_id                                                \n",
              "hadalton.martinelli@rfb.gov.br 48c47ced-2146-4739-a55c-09fc30355e1e 2020-09-14 18:00:00  \n",
              "Marco.A.Holcman@rfb.gov.br     1bd04d13-4f84-4d26-b1df-2cc2f86bd1d1 2020-09-14 18:00:00  \n",
              "hadalton.martinelli@rfb.gov.br cc30b0e4-4cca-44ec-87d0-c0460a3b6ddf 2020-09-14 18:00:00  \n",
              "thiago.pizzolato@rfb.gov.br    28de2425-1ca6-4cc1-8f22-bd4c465310ee 2020-09-14 18:00:00  \n",
              "carolina.pinheiro@rfb.gov.br   86033e7c-5bbf-47ed-bdae-79f44f4463ce 2020-09-14 18:00:00  "
            ]
          },
          "metadata": {
            "tags": []
          }
        },
        {
          "output_type": "display_data",
          "data": {
            "text/plain": [
              "(5823, 4)"
            ]
          },
          "metadata": {
            "tags": []
          }
        }
      ]
    },
    {
      "cell_type": "code",
      "metadata": {
        "id": "gP55MUwTN2wz",
        "outputId": "c38c59f8-bd93-4b3a-aa2b-7b6983fd6087"
      },
      "source": [
        "df_final = (\n",
        "    df_completo\n",
        "    .reset_index()\n",
        "    .groupby('participant_id')\n",
        "    .agg({'inicio':'min', 'termino':'max'})\n",
        "    .reset_index()\n",
        ")\n",
        "d_pd(df_final, n=5)"
      ],
      "execution_count": null,
      "outputs": [
        {
          "output_type": "display_data",
          "data": {
            "text/html": [
              "<div>\n",
              "<style scoped>\n",
              "    .dataframe tbody tr th:only-of-type {\n",
              "        vertical-align: middle;\n",
              "    }\n",
              "\n",
              "    .dataframe tbody tr th {\n",
              "        vertical-align: top;\n",
              "    }\n",
              "\n",
              "    .dataframe thead th {\n",
              "        text-align: right;\n",
              "    }\n",
              "</style>\n",
              "<table border=\"1\" class=\"dataframe\">\n",
              "  <thead>\n",
              "    <tr style=\"text-align: right;\">\n",
              "      <th></th>\n",
              "      <th>participant_id</th>\n",
              "      <th>inicio</th>\n",
              "      <th>termino</th>\n",
              "    </tr>\n",
              "  </thead>\n",
              "  <tbody>\n",
              "    <tr>\n",
              "      <th>0</th>\n",
              "      <td>ANA.BEJAR@rfb.gov.br</td>\n",
              "      <td>2020-09-14 14:30:11</td>\n",
              "      <td>2020-09-14 17:53:09</td>\n",
              "    </tr>\n",
              "    <tr>\n",
              "      <th>1</th>\n",
              "      <td>Abrahao.Lima@rfb.gov.br</td>\n",
              "      <td>2020-09-14 14:00:00</td>\n",
              "      <td>2020-09-14 18:00:00</td>\n",
              "    </tr>\n",
              "    <tr>\n",
              "      <th>2</th>\n",
              "      <td>Adalto.Goncalves@rfb.gov.br</td>\n",
              "      <td>2020-09-14 14:00:54</td>\n",
              "      <td>2020-09-14 17:59:24</td>\n",
              "    </tr>\n",
              "    <tr>\n",
              "      <th>3</th>\n",
              "      <td>Adauri.Souza@rfb.gov.br</td>\n",
              "      <td>2020-09-14 15:19:11</td>\n",
              "      <td>2020-09-14 18:00:00</td>\n",
              "    </tr>\n",
              "    <tr>\n",
              "      <th>4</th>\n",
              "      <td>Adelino.Maeda@rfb.gov.br</td>\n",
              "      <td>2020-09-14 15:53:27</td>\n",
              "      <td>2020-09-14 17:58:09</td>\n",
              "    </tr>\n",
              "    <tr>\n",
              "      <th>2818</th>\n",
              "      <td>wilson.m.rodrigues-junior@rfb.gov.br</td>\n",
              "      <td>2020-09-14 14:10:28</td>\n",
              "      <td>2020-09-14 16:36:34</td>\n",
              "    </tr>\n",
              "    <tr>\n",
              "      <th>2819</th>\n",
              "      <td>yoshiaki.fujinohara@rfb.gov.br</td>\n",
              "      <td>2020-09-14 14:00:00</td>\n",
              "      <td>2020-09-14 14:00:00</td>\n",
              "    </tr>\n",
              "    <tr>\n",
              "      <th>2820</th>\n",
              "      <td>yuri-gagharin.braga@rfb.gov.br</td>\n",
              "      <td>2020-09-14 14:12:30</td>\n",
              "      <td>2020-09-14 17:59:35</td>\n",
              "    </tr>\n",
              "    <tr>\n",
              "      <th>2821</th>\n",
              "      <td>yuri.godoi@rfb.gov.br</td>\n",
              "      <td>2020-09-14 14:00:00</td>\n",
              "      <td>2020-09-14 16:57:06</td>\n",
              "    </tr>\n",
              "    <tr>\n",
              "      <th>2822</th>\n",
              "      <td>zilda.h.pires@rfb.gov.br</td>\n",
              "      <td>2020-09-14 14:00:03</td>\n",
              "      <td>2020-09-14 18:00:00</td>\n",
              "    </tr>\n",
              "  </tbody>\n",
              "</table>\n",
              "</div>"
            ],
            "text/plain": [
              "                            participant_id              inicio  \\\n",
              "0                     ANA.BEJAR@rfb.gov.br 2020-09-14 14:30:11   \n",
              "1                  Abrahao.Lima@rfb.gov.br 2020-09-14 14:00:00   \n",
              "2              Adalto.Goncalves@rfb.gov.br 2020-09-14 14:00:54   \n",
              "3                  Adauri.Souza@rfb.gov.br 2020-09-14 15:19:11   \n",
              "4                 Adelino.Maeda@rfb.gov.br 2020-09-14 15:53:27   \n",
              "2818  wilson.m.rodrigues-junior@rfb.gov.br 2020-09-14 14:10:28   \n",
              "2819        yoshiaki.fujinohara@rfb.gov.br 2020-09-14 14:00:00   \n",
              "2820        yuri-gagharin.braga@rfb.gov.br 2020-09-14 14:12:30   \n",
              "2821                 yuri.godoi@rfb.gov.br 2020-09-14 14:00:00   \n",
              "2822              zilda.h.pires@rfb.gov.br 2020-09-14 14:00:03   \n",
              "\n",
              "                 termino  \n",
              "0    2020-09-14 17:53:09  \n",
              "1    2020-09-14 18:00:00  \n",
              "2    2020-09-14 17:59:24  \n",
              "3    2020-09-14 18:00:00  \n",
              "4    2020-09-14 17:58:09  \n",
              "2818 2020-09-14 16:36:34  \n",
              "2819 2020-09-14 14:00:00  \n",
              "2820 2020-09-14 17:59:35  \n",
              "2821 2020-09-14 16:57:06  \n",
              "2822 2020-09-14 18:00:00  "
            ]
          },
          "metadata": {
            "tags": []
          }
        },
        {
          "output_type": "display_data",
          "data": {
            "text/plain": [
              "(2823, 3)"
            ]
          },
          "metadata": {
            "tags": []
          }
        }
      ]
    },
    {
      "cell_type": "code",
      "metadata": {
        "id": "1KsAfS2sN2w2",
        "outputId": "5945851e-7411-41d2-bfd9-8b71b7e06df6"
      },
      "source": [
        "nome_xlsx = (f\"{dct_horarios['Joined']:%Y-%m-%d %H-%M-%S} - \"\n",
        "             f\"{dct_horarios['Left']:%Y-%m-%d %H-%M-%S}.xlsx\")\n",
        "nome_xlsx"
      ],
      "execution_count": null,
      "outputs": [
        {
          "output_type": "execute_result",
          "data": {
            "text/plain": [
              "'2020-09-14 14-00-00 - 2020-09-14 18-00-00.xlsx'"
            ]
          },
          "metadata": {
            "tags": []
          },
          "execution_count": 47
        }
      ]
    },
    {
      "cell_type": "code",
      "metadata": {
        "id": "THwyNw52N2w5"
      },
      "source": [
        "df_final.to_excel(nome_xlsx, index=False)"
      ],
      "execution_count": null,
      "outputs": []
    },
    {
      "cell_type": "code",
      "metadata": {
        "id": "-g7dW_IxN2w7"
      },
      "source": [
        ""
      ],
      "execution_count": null,
      "outputs": []
    }
  ]
}