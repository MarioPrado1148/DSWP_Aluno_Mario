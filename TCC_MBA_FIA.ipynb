{
  "nbformat": 4,
  "nbformat_minor": 0,
  "metadata": {
    "kernelspec": {
      "display_name": "Python 3",
      "language": "python",
      "name": "python3"
    },
    "toc": {
      "base_numbering": 1,
      "nav_menu": {},
      "number_sections": true,
      "sideBar": false,
      "skip_h1_title": false,
      "title_cell": "Table of Contents",
      "title_sidebar": "Contents",
      "toc_cell": false,
      "toc_position": {
        "height": "559.556px",
        "left": "1365.36px",
        "top": "118.556px",
        "width": "341.306px"
      },
      "toc_section_display": true,
      "toc_window_display": true
    },
    "varInspector": {
      "cols": {
        "lenName": 16,
        "lenType": 16,
        "lenVar": 40
      },
      "kernels_config": {
        "python": {
          "delete_cmd_postfix": "",
          "delete_cmd_prefix": "del ",
          "library": "var_list.py",
          "varRefreshCmd": "print(var_dic_list())"
        },
        "r": {
          "delete_cmd_postfix": ") ",
          "delete_cmd_prefix": "rm(",
          "library": "var_list.r",
          "varRefreshCmd": "cat(var_dic_list()) "
        }
      },
      "types_to_exclude": [
        "module",
        "function",
        "builtin_function_or_method",
        "instance",
        "_Feature"
      ],
      "window_display": false
    },
    "colab": {
      "name": "TCC_MBA_FIA.ipynb",
      "provenance": [],
      "include_colab_link": true
    }
  },
  "cells": [
    {
      "cell_type": "markdown",
      "metadata": {
        "id": "view-in-github",
        "colab_type": "text"
      },
      "source": [
        "<a href=\"https://colab.research.google.com/github/MarioPrado1148/DSWP_Aluno_Mario/blob/MarioPrado1148-Notebooks/TCC_MBA_FIA.ipynb\" target=\"_parent\"><img src=\"https://colab.research.google.com/assets/colab-badge.svg\" alt=\"Open In Colab\"/></a>"
      ]
    },
    {
      "cell_type": "markdown",
      "metadata": {
        "id": "_yAxyjUWA7to"
      },
      "source": [
        "# Preparação do ambiente de trabalho"
      ]
    },
    {
      "cell_type": "markdown",
      "metadata": {
        "id": "F0aCTbk7A7tp"
      },
      "source": [
        "## Importação das bibliotecas necessárias para o Projeto de Ciência de Dados¶"
      ]
    },
    {
      "cell_type": "code",
      "metadata": {
        "id": "q4leDn2LA7tq"
      },
      "source": [
        "# visualização\n",
        "import matplotlib.pyplot as plt\n",
        "import seaborn as sns\n",
        "\n",
        "# manipulação de dados\n",
        "import pandas as pd\n",
        "import numpy as np\n",
        "\n",
        "# data\n",
        "from datetime import datetime\n",
        "\n",
        "# modelos de machine learning\n",
        "import sklearn as sk\n"
      ],
      "execution_count": null,
      "outputs": []
    },
    {
      "cell_type": "markdown",
      "metadata": {
        "id": "oC-IDFfVA7tu"
      },
      "source": [
        "## Demais configurações\n",
        "\n",
        "Referência: https://pandas.pydata.org/pandas-docs/stable/user_guide/options.html"
      ]
    },
    {
      "cell_type": "code",
      "metadata": {
        "id": "h7U5sUjVA7tu"
      },
      "source": [
        "d_configuracao = {\n",
        "    'display.max_columns': 1000,\n",
        "    'display.expand_frame_repr': True,\n",
        "    'display.max_rows': 20,\n",
        "  #  'display.precision': 2,\n",
        "    'display.show_dimensions': True,\n",
        "    'display.float_format': (lambda x: '%.2f' % x)\n",
        "                  }"
      ],
      "execution_count": null,
      "outputs": []
    },
    {
      "cell_type": "code",
      "metadata": {
        "id": "ZteWl8FOA7tx",
        "outputId": "145290f1-3d02-42cc-8df3-60ab7864026b"
      },
      "source": [
        "for op, value in d_configuracao.items():\n",
        "    pd.set_option(op, value)\n",
        "    print(op, value)"
      ],
      "execution_count": null,
      "outputs": [
        {
          "output_type": "stream",
          "text": [
            "display.max_columns 1000\n",
            "display.expand_frame_repr True\n",
            "display.max_rows 20\n",
            "display.show_dimensions True\n",
            "display.float_format <function <lambda> at 0x0000027C88A371F8>\n"
          ],
          "name": "stdout"
        }
      ]
    },
    {
      "cell_type": "markdown",
      "metadata": {
        "id": "4NpJlXJBA7t0"
      },
      "source": [
        "## Verificação da versões instaladas do python, pandas e numpy"
      ]
    },
    {
      "cell_type": "code",
      "metadata": {
        "id": "p2MBwaQ5A7t0",
        "outputId": "5d9a3d85-2288-4b36-9b2a-0a6d45fb5a0d"
      },
      "source": [
        "import platform\n",
        "print(f'Versão do Python: {platform.python_version()}')\n",
        "print(f'Versão do Pandas: {pd.__version__}')\n",
        "print(f'Versão do NumPy.: {np.__version__}')"
      ],
      "execution_count": null,
      "outputs": [
        {
          "output_type": "stream",
          "text": [
            "Versão do Python: 3.7.6\n",
            "Versão do Pandas: 1.1.3\n",
            "Versão do NumPy.: 1.18.1\n"
          ],
          "name": "stdout"
        }
      ]
    },
    {
      "cell_type": "markdown",
      "metadata": {
        "id": "XRKBQgvLA7t5"
      },
      "source": [
        "# Importação do dataset a ser analisado e verificações iniciais"
      ]
    },
    {
      "cell_type": "markdown",
      "metadata": {
        "id": "VdyG7rdXA7t6"
      },
      "source": [
        "## Carregamento do dataset"
      ]
    },
    {
      "cell_type": "code",
      "metadata": {
        "id": "ZreLAkjdA7t6"
      },
      "source": [
        "dados = pd.read_csv(\"base_balanceada_seed_3456.csv\",index_col=0)"
      ],
      "execution_count": null,
      "outputs": []
    },
    {
      "cell_type": "markdown",
      "metadata": {
        "id": "bV7nArg6A7t9"
      },
      "source": [
        "## Amostragem do banco de dados importado"
      ]
    },
    {
      "cell_type": "code",
      "metadata": {
        "id": "-fl6QcBIA7t9",
        "outputId": "8fbcefef-830f-46d1-f4ce-8218fd9d7957"
      },
      "source": [
        "dados.sample(100, replace= False, random_state= 42)"
      ],
      "execution_count": null,
      "outputs": [
        {
          "output_type": "execute_result",
          "data": {
            "text/html": [
              "<div>\n",
              "<style scoped>\n",
              "    .dataframe tbody tr th:only-of-type {\n",
              "        vertical-align: middle;\n",
              "    }\n",
              "\n",
              "    .dataframe tbody tr th {\n",
              "        vertical-align: top;\n",
              "    }\n",
              "\n",
              "    .dataframe thead th {\n",
              "        text-align: right;\n",
              "    }\n",
              "</style>\n",
              "<table border=\"1\" class=\"dataframe\">\n",
              "  <thead>\n",
              "    <tr style=\"text-align: right;\">\n",
              "      <th></th>\n",
              "      <th>numeroCNAESecundarios</th>\n",
              "      <th>tempoExistencia</th>\n",
              "      <th>qtdContratos</th>\n",
              "      <th>qtdOcorrencias</th>\n",
              "      <th>totalVenda</th>\n",
              "      <th>classRisco</th>\n",
              "      <th>porte_id</th>\n",
              "    </tr>\n",
              "  </thead>\n",
              "  <tbody>\n",
              "    <tr>\n",
              "      <th>92989</th>\n",
              "      <td>7</td>\n",
              "      <td>3586</td>\n",
              "      <td>1</td>\n",
              "      <td>0</td>\n",
              "      <td>48500.00</td>\n",
              "      <td>BR</td>\n",
              "      <td>3</td>\n",
              "    </tr>\n",
              "    <tr>\n",
              "      <th>17155</th>\n",
              "      <td>1</td>\n",
              "      <td>13123</td>\n",
              "      <td>1</td>\n",
              "      <td>0</td>\n",
              "      <td>32226.00</td>\n",
              "      <td>BR</td>\n",
              "      <td>0</td>\n",
              "    </tr>\n",
              "    <tr>\n",
              "      <th>15096</th>\n",
              "      <td>0</td>\n",
              "      <td>4504</td>\n",
              "      <td>1</td>\n",
              "      <td>0</td>\n",
              "      <td>2200.00</td>\n",
              "      <td>BR</td>\n",
              "      <td>1</td>\n",
              "    </tr>\n",
              "    <tr>\n",
              "      <th>8376</th>\n",
              "      <td>1</td>\n",
              "      <td>1427</td>\n",
              "      <td>2</td>\n",
              "      <td>0</td>\n",
              "      <td>1590.80</td>\n",
              "      <td>BR</td>\n",
              "      <td>1</td>\n",
              "    </tr>\n",
              "    <tr>\n",
              "      <th>71223</th>\n",
              "      <td>4</td>\n",
              "      <td>4143</td>\n",
              "      <td>12</td>\n",
              "      <td>1</td>\n",
              "      <td>1146797.89</td>\n",
              "      <td>BR</td>\n",
              "      <td>3</td>\n",
              "    </tr>\n",
              "    <tr>\n",
              "      <th>...</th>\n",
              "      <td>...</td>\n",
              "      <td>...</td>\n",
              "      <td>...</td>\n",
              "      <td>...</td>\n",
              "      <td>...</td>\n",
              "      <td>...</td>\n",
              "      <td>...</td>\n",
              "    </tr>\n",
              "    <tr>\n",
              "      <th>47494</th>\n",
              "      <td>0</td>\n",
              "      <td>2254</td>\n",
              "      <td>42</td>\n",
              "      <td>32</td>\n",
              "      <td>697907.44</td>\n",
              "      <td>AR</td>\n",
              "      <td>1</td>\n",
              "    </tr>\n",
              "    <tr>\n",
              "      <th>78262</th>\n",
              "      <td>30</td>\n",
              "      <td>3685</td>\n",
              "      <td>21</td>\n",
              "      <td>22</td>\n",
              "      <td>419225.98</td>\n",
              "      <td>AR</td>\n",
              "      <td>3</td>\n",
              "    </tr>\n",
              "    <tr>\n",
              "      <th>88435</th>\n",
              "      <td>9</td>\n",
              "      <td>1575</td>\n",
              "      <td>1</td>\n",
              "      <td>4</td>\n",
              "      <td>2620.40</td>\n",
              "      <td>AR</td>\n",
              "      <td>1</td>\n",
              "    </tr>\n",
              "    <tr>\n",
              "      <th>71785</th>\n",
              "      <td>1</td>\n",
              "      <td>2789</td>\n",
              "      <td>11</td>\n",
              "      <td>14</td>\n",
              "      <td>2590631.80</td>\n",
              "      <td>BR</td>\n",
              "      <td>1</td>\n",
              "    </tr>\n",
              "    <tr>\n",
              "      <th>46483</th>\n",
              "      <td>29</td>\n",
              "      <td>2666</td>\n",
              "      <td>4</td>\n",
              "      <td>0</td>\n",
              "      <td>3022150.93</td>\n",
              "      <td>BR</td>\n",
              "      <td>0</td>\n",
              "    </tr>\n",
              "  </tbody>\n",
              "</table>\n",
              "<p>100 rows × 7 columns</p>\n",
              "</div>"
            ],
            "text/plain": [
              "       numeroCNAESecundarios  tempoExistencia  qtdContratos  qtdOcorrencias  \\\n",
              "92989                      7             3586             1               0   \n",
              "17155                      1            13123             1               0   \n",
              "15096                      0             4504             1               0   \n",
              "8376                       1             1427             2               0   \n",
              "71223                      4             4143            12               1   \n",
              "...                      ...              ...           ...             ...   \n",
              "47494                      0             2254            42              32   \n",
              "78262                     30             3685            21              22   \n",
              "88435                      9             1575             1               4   \n",
              "71785                      1             2789            11              14   \n",
              "46483                     29             2666             4               0   \n",
              "\n",
              "       totalVenda classRisco  porte_id  \n",
              "92989    48500.00         BR         3  \n",
              "17155    32226.00         BR         0  \n",
              "15096     2200.00         BR         1  \n",
              "8376      1590.80         BR         1  \n",
              "71223  1146797.89         BR         3  \n",
              "...           ...        ...       ...  \n",
              "47494   697907.44         AR         1  \n",
              "78262   419225.98         AR         3  \n",
              "88435     2620.40         AR         1  \n",
              "71785  2590631.80         BR         1  \n",
              "46483  3022150.93         BR         0  \n",
              "\n",
              "[100 rows x 7 columns]"
            ]
          },
          "metadata": {
            "tags": []
          },
          "execution_count": 15
        }
      ]
    },
    {
      "cell_type": "markdown",
      "metadata": {
        "id": "eFplTLPyA7uC"
      },
      "source": [
        "## Dimensões do dataset importado"
      ]
    },
    {
      "cell_type": "code",
      "metadata": {
        "id": "uycC4O5eA7uD",
        "outputId": "d5e39f1b-2801-4321-b163-f173ec92ab51"
      },
      "source": [
        "dados.shape"
      ],
      "execution_count": null,
      "outputs": [
        {
          "output_type": "execute_result",
          "data": {
            "text/plain": [
              "(12844, 7)"
            ]
          },
          "metadata": {
            "tags": []
          },
          "execution_count": 16
        }
      ]
    },
    {
      "cell_type": "markdown",
      "metadata": {
        "id": "EM4ea2P2A7uH"
      },
      "source": [
        "## Exemplo das linhas com dtype e classe das variáveis"
      ]
    },
    {
      "cell_type": "markdown",
      "metadata": {
        "id": "aFR0AG8mA7uI"
      },
      "source": [
        "### Criação da função"
      ]
    },
    {
      "cell_type": "code",
      "metadata": {
        "id": "Aa_bj3nmA7uJ"
      },
      "source": [
        "def exemplo_linha(frame, iloc=0):\n",
        "    df_info = pd.DataFrame(dict(valor_exemplo=frame.iloc[iloc].copy()))\n",
        "    df_info['dtype_coluna'] = frame.dtypes.map(lambda x: x.name)\n",
        "    df_info['classe_valor'] = df_info['valor_exemplo'].map(lambda x: x.__class__.__name__)\n",
        "    df_info.index.name = 'nome_coluna'\n",
        "    return df_info"
      ],
      "execution_count": null,
      "outputs": []
    },
    {
      "cell_type": "markdown",
      "metadata": {
        "id": "I6AZ80dKA7uM"
      },
      "source": [
        "### Exemplo_linha"
      ]
    },
    {
      "cell_type": "code",
      "metadata": {
        "id": "6JL1sCnBA7uM",
        "outputId": "452344f3-5830-4a0b-f6e4-5dc66e5efeea"
      },
      "source": [
        "exemplo_linha(dados)"
      ],
      "execution_count": null,
      "outputs": [
        {
          "output_type": "execute_result",
          "data": {
            "text/html": [
              "<div>\n",
              "<style scoped>\n",
              "    .dataframe tbody tr th:only-of-type {\n",
              "        vertical-align: middle;\n",
              "    }\n",
              "\n",
              "    .dataframe tbody tr th {\n",
              "        vertical-align: top;\n",
              "    }\n",
              "\n",
              "    .dataframe thead th {\n",
              "        text-align: right;\n",
              "    }\n",
              "</style>\n",
              "<table border=\"1\" class=\"dataframe\">\n",
              "  <thead>\n",
              "    <tr style=\"text-align: right;\">\n",
              "      <th></th>\n",
              "      <th>valor_exemplo</th>\n",
              "      <th>dtype_coluna</th>\n",
              "      <th>classe_valor</th>\n",
              "    </tr>\n",
              "    <tr>\n",
              "      <th>nome_coluna</th>\n",
              "      <th></th>\n",
              "      <th></th>\n",
              "      <th></th>\n",
              "    </tr>\n",
              "  </thead>\n",
              "  <tbody>\n",
              "    <tr>\n",
              "      <th>numeroCNAESecundarios</th>\n",
              "      <td>1</td>\n",
              "      <td>int64</td>\n",
              "      <td>int64</td>\n",
              "    </tr>\n",
              "    <tr>\n",
              "      <th>tempoExistencia</th>\n",
              "      <td>1077</td>\n",
              "      <td>int64</td>\n",
              "      <td>int64</td>\n",
              "    </tr>\n",
              "    <tr>\n",
              "      <th>qtdContratos</th>\n",
              "      <td>1</td>\n",
              "      <td>int64</td>\n",
              "      <td>int64</td>\n",
              "    </tr>\n",
              "    <tr>\n",
              "      <th>qtdOcorrencias</th>\n",
              "      <td>1</td>\n",
              "      <td>int64</td>\n",
              "      <td>int64</td>\n",
              "    </tr>\n",
              "    <tr>\n",
              "      <th>totalVenda</th>\n",
              "      <td>800.00</td>\n",
              "      <td>float64</td>\n",
              "      <td>float64</td>\n",
              "    </tr>\n",
              "    <tr>\n",
              "      <th>classRisco</th>\n",
              "      <td>AR</td>\n",
              "      <td>object</td>\n",
              "      <td>str</td>\n",
              "    </tr>\n",
              "    <tr>\n",
              "      <th>porte_id</th>\n",
              "      <td>1</td>\n",
              "      <td>int64</td>\n",
              "      <td>int64</td>\n",
              "    </tr>\n",
              "  </tbody>\n",
              "</table>\n",
              "<p>7 rows × 3 columns</p>\n",
              "</div>"
            ],
            "text/plain": [
              "                      valor_exemplo dtype_coluna classe_valor\n",
              "nome_coluna                                                  \n",
              "numeroCNAESecundarios             1        int64        int64\n",
              "tempoExistencia                1077        int64        int64\n",
              "qtdContratos                      1        int64        int64\n",
              "qtdOcorrencias                    1        int64        int64\n",
              "totalVenda                   800.00      float64      float64\n",
              "classRisco                       AR       object          str\n",
              "porte_id                          1        int64        int64\n",
              "\n",
              "[7 rows x 3 columns]"
            ]
          },
          "metadata": {
            "tags": []
          },
          "execution_count": 18
        }
      ]
    },
    {
      "cell_type": "markdown",
      "metadata": {
        "id": "P7w7uM6fA7uP"
      },
      "source": [
        "## Verificação dos valores não nulos e tipos de dados"
      ]
    },
    {
      "cell_type": "code",
      "metadata": {
        "id": "4mc0Ye9dA7uP",
        "outputId": "70eed1f5-7907-48ea-f5fc-116b5e7127c9"
      },
      "source": [
        "dados.info()"
      ],
      "execution_count": null,
      "outputs": [
        {
          "output_type": "stream",
          "text": [
            "<class 'pandas.core.frame.DataFrame'>\n",
            "Int64Index: 12844 entries, 0 to 28992\n",
            "Data columns (total 7 columns):\n",
            " #   Column                 Non-Null Count  Dtype  \n",
            "---  ------                 --------------  -----  \n",
            " 0   numeroCNAESecundarios  12844 non-null  int64  \n",
            " 1   tempoExistencia        12844 non-null  int64  \n",
            " 2   qtdContratos           12844 non-null  int64  \n",
            " 3   qtdOcorrencias         12844 non-null  int64  \n",
            " 4   totalVenda             12844 non-null  float64\n",
            " 5   classRisco             12844 non-null  object \n",
            " 6   porte_id               12844 non-null  int64  \n",
            "dtypes: float64(1), int64(5), object(1)\n",
            "memory usage: 802.8+ KB\n"
          ],
          "name": "stdout"
        }
      ]
    },
    {
      "cell_type": "markdown",
      "metadata": {
        "id": "94bh6fJAA7uS"
      },
      "source": [
        "## Verificação dos Missing Values\n",
        "Constata-se que não há valores faltantes nas variáveis do DataFrame em estudo."
      ]
    },
    {
      "cell_type": "code",
      "metadata": {
        "id": "9fwbnSG6A7uS",
        "outputId": "99a3c03e-1974-4b73-badb-f4eae76de1a7"
      },
      "source": [
        "dados.isnull().sum()"
      ],
      "execution_count": null,
      "outputs": [
        {
          "output_type": "execute_result",
          "data": {
            "text/plain": [
              "numeroCNAESecundarios    0\n",
              "tempoExistencia          0\n",
              "qtdContratos             0\n",
              "qtdOcorrencias           0\n",
              "totalVenda               0\n",
              "classRisco               0\n",
              "porte_id                 0\n",
              "Length: 7, dtype: int64"
            ]
          },
          "metadata": {
            "tags": []
          },
          "execution_count": 20
        }
      ]
    },
    {
      "cell_type": "markdown",
      "metadata": {
        "id": "gEp2AimeA7uV"
      },
      "source": [
        "## Ordenação dos dados pela variável totalVendas\n",
        "Verifica-se que os maiores valores constantes do dataframe foram importados corretamente."
      ]
    },
    {
      "cell_type": "code",
      "metadata": {
        "id": "Yclt67o2A7uW",
        "outputId": "b23faff0-681b-44dc-d824-79bc49900067"
      },
      "source": [
        "dados_ordenado = dados.sort_values(['totalVenda'],\n",
        "                                   ascending = False, \n",
        "                                   kind = 'mergesort')\n",
        "dados_ordenado.head()"
      ],
      "execution_count": null,
      "outputs": [
        {
          "output_type": "execute_result",
          "data": {
            "text/html": [
              "<div>\n",
              "<style scoped>\n",
              "    .dataframe tbody tr th:only-of-type {\n",
              "        vertical-align: middle;\n",
              "    }\n",
              "\n",
              "    .dataframe tbody tr th {\n",
              "        vertical-align: top;\n",
              "    }\n",
              "\n",
              "    .dataframe thead th {\n",
              "        text-align: right;\n",
              "    }\n",
              "</style>\n",
              "<table border=\"1\" class=\"dataframe\">\n",
              "  <thead>\n",
              "    <tr style=\"text-align: right;\">\n",
              "      <th></th>\n",
              "      <th>numeroCNAESecundarios</th>\n",
              "      <th>tempoExistencia</th>\n",
              "      <th>qtdContratos</th>\n",
              "      <th>qtdOcorrencias</th>\n",
              "      <th>totalVenda</th>\n",
              "      <th>classRisco</th>\n",
              "      <th>porte_id</th>\n",
              "    </tr>\n",
              "  </thead>\n",
              "  <tbody>\n",
              "    <tr>\n",
              "      <th>63683</th>\n",
              "      <td>0</td>\n",
              "      <td>9580</td>\n",
              "      <td>235</td>\n",
              "      <td>0</td>\n",
              "      <td>9929901354.15</td>\n",
              "      <td>BR</td>\n",
              "      <td>0</td>\n",
              "    </tr>\n",
              "    <tr>\n",
              "      <th>86884</th>\n",
              "      <td>1</td>\n",
              "      <td>8927</td>\n",
              "      <td>6</td>\n",
              "      <td>4</td>\n",
              "      <td>8423809823.99</td>\n",
              "      <td>BR</td>\n",
              "      <td>0</td>\n",
              "    </tr>\n",
              "    <tr>\n",
              "      <th>43201</th>\n",
              "      <td>21</td>\n",
              "      <td>9778</td>\n",
              "      <td>421</td>\n",
              "      <td>20</td>\n",
              "      <td>4228389243.33</td>\n",
              "      <td>AR</td>\n",
              "      <td>0</td>\n",
              "    </tr>\n",
              "    <tr>\n",
              "      <th>42261</th>\n",
              "      <td>1</td>\n",
              "      <td>13941</td>\n",
              "      <td>38</td>\n",
              "      <td>7</td>\n",
              "      <td>3738112991.40</td>\n",
              "      <td>AR</td>\n",
              "      <td>0</td>\n",
              "    </tr>\n",
              "    <tr>\n",
              "      <th>48215</th>\n",
              "      <td>6</td>\n",
              "      <td>5452</td>\n",
              "      <td>132</td>\n",
              "      <td>2</td>\n",
              "      <td>3557719575.16</td>\n",
              "      <td>AR</td>\n",
              "      <td>0</td>\n",
              "    </tr>\n",
              "  </tbody>\n",
              "</table>\n",
              "<p>5 rows × 7 columns</p>\n",
              "</div>"
            ],
            "text/plain": [
              "       numeroCNAESecundarios  tempoExistencia  qtdContratos  qtdOcorrencias  \\\n",
              "63683                      0             9580           235               0   \n",
              "86884                      1             8927             6               4   \n",
              "43201                     21             9778           421              20   \n",
              "42261                      1            13941            38               7   \n",
              "48215                      6             5452           132               2   \n",
              "\n",
              "         totalVenda classRisco  porte_id  \n",
              "63683 9929901354.15         BR         0  \n",
              "86884 8423809823.99         BR         0  \n",
              "43201 4228389243.33         AR         0  \n",
              "42261 3738112991.40         AR         0  \n",
              "48215 3557719575.16         AR         0  \n",
              "\n",
              "[5 rows x 7 columns]"
            ]
          },
          "metadata": {
            "tags": []
          },
          "execution_count": 21
        }
      ]
    },
    {
      "cell_type": "markdown",
      "metadata": {
        "id": "m_hDv1v9A7uZ"
      },
      "source": [
        "## Criação de variável classRisco2 com valores numéricos\n",
        "AR (Alto Risco) será substituído por 1. <br>\n",
        "BR (Baixo Risco) será substituído por 0."
      ]
    },
    {
      "cell_type": "markdown",
      "metadata": {
        "id": "WDL-Vcm5A7ub"
      },
      "source": [
        "### Criação da nova variável"
      ]
    },
    {
      "cell_type": "code",
      "metadata": {
        "id": "q8TGfBf3A7ub"
      },
      "source": [
        "dados['classRisco2'] = dados['classRisco']\n",
        "d_alteracoes = {'AR': '1',\n",
        "              'BR': '0'}\n",
        "dados['classRisco2'] = dados['classRisco2'].replace(d_alteracoes)\n",
        "dados['classRisco2'] = dados['classRisco2'].astype(int)"
      ],
      "execution_count": null,
      "outputs": []
    },
    {
      "cell_type": "markdown",
      "metadata": {
        "id": "2c3u0V_sA7ue"
      },
      "source": [
        "### Nova amostragem para conferência"
      ]
    },
    {
      "cell_type": "code",
      "metadata": {
        "id": "pxlxI9MTA7uf",
        "outputId": "d2999d8b-3293-4afc-eeb9-d2cf2e9c6919"
      },
      "source": [
        "dados.sample(100, replace= False, random_state= 42)"
      ],
      "execution_count": null,
      "outputs": [
        {
          "output_type": "execute_result",
          "data": {
            "text/html": [
              "<div>\n",
              "<style scoped>\n",
              "    .dataframe tbody tr th:only-of-type {\n",
              "        vertical-align: middle;\n",
              "    }\n",
              "\n",
              "    .dataframe tbody tr th {\n",
              "        vertical-align: top;\n",
              "    }\n",
              "\n",
              "    .dataframe thead th {\n",
              "        text-align: right;\n",
              "    }\n",
              "</style>\n",
              "<table border=\"1\" class=\"dataframe\">\n",
              "  <thead>\n",
              "    <tr style=\"text-align: right;\">\n",
              "      <th></th>\n",
              "      <th>numeroCNAESecundarios</th>\n",
              "      <th>tempoExistencia</th>\n",
              "      <th>qtdContratos</th>\n",
              "      <th>qtdOcorrencias</th>\n",
              "      <th>totalVenda</th>\n",
              "      <th>classRisco</th>\n",
              "      <th>porte_id</th>\n",
              "      <th>classRisco2</th>\n",
              "    </tr>\n",
              "  </thead>\n",
              "  <tbody>\n",
              "    <tr>\n",
              "      <th>92989</th>\n",
              "      <td>7</td>\n",
              "      <td>3586</td>\n",
              "      <td>1</td>\n",
              "      <td>0</td>\n",
              "      <td>48500.00</td>\n",
              "      <td>BR</td>\n",
              "      <td>3</td>\n",
              "      <td>0</td>\n",
              "    </tr>\n",
              "    <tr>\n",
              "      <th>17155</th>\n",
              "      <td>1</td>\n",
              "      <td>13123</td>\n",
              "      <td>1</td>\n",
              "      <td>0</td>\n",
              "      <td>32226.00</td>\n",
              "      <td>BR</td>\n",
              "      <td>0</td>\n",
              "      <td>0</td>\n",
              "    </tr>\n",
              "    <tr>\n",
              "      <th>15096</th>\n",
              "      <td>0</td>\n",
              "      <td>4504</td>\n",
              "      <td>1</td>\n",
              "      <td>0</td>\n",
              "      <td>2200.00</td>\n",
              "      <td>BR</td>\n",
              "      <td>1</td>\n",
              "      <td>0</td>\n",
              "    </tr>\n",
              "    <tr>\n",
              "      <th>8376</th>\n",
              "      <td>1</td>\n",
              "      <td>1427</td>\n",
              "      <td>2</td>\n",
              "      <td>0</td>\n",
              "      <td>1590.80</td>\n",
              "      <td>BR</td>\n",
              "      <td>1</td>\n",
              "      <td>0</td>\n",
              "    </tr>\n",
              "    <tr>\n",
              "      <th>71223</th>\n",
              "      <td>4</td>\n",
              "      <td>4143</td>\n",
              "      <td>12</td>\n",
              "      <td>1</td>\n",
              "      <td>1146797.89</td>\n",
              "      <td>BR</td>\n",
              "      <td>3</td>\n",
              "      <td>0</td>\n",
              "    </tr>\n",
              "    <tr>\n",
              "      <th>...</th>\n",
              "      <td>...</td>\n",
              "      <td>...</td>\n",
              "      <td>...</td>\n",
              "      <td>...</td>\n",
              "      <td>...</td>\n",
              "      <td>...</td>\n",
              "      <td>...</td>\n",
              "      <td>...</td>\n",
              "    </tr>\n",
              "    <tr>\n",
              "      <th>47494</th>\n",
              "      <td>0</td>\n",
              "      <td>2254</td>\n",
              "      <td>42</td>\n",
              "      <td>32</td>\n",
              "      <td>697907.44</td>\n",
              "      <td>AR</td>\n",
              "      <td>1</td>\n",
              "      <td>1</td>\n",
              "    </tr>\n",
              "    <tr>\n",
              "      <th>78262</th>\n",
              "      <td>30</td>\n",
              "      <td>3685</td>\n",
              "      <td>21</td>\n",
              "      <td>22</td>\n",
              "      <td>419225.98</td>\n",
              "      <td>AR</td>\n",
              "      <td>3</td>\n",
              "      <td>1</td>\n",
              "    </tr>\n",
              "    <tr>\n",
              "      <th>88435</th>\n",
              "      <td>9</td>\n",
              "      <td>1575</td>\n",
              "      <td>1</td>\n",
              "      <td>4</td>\n",
              "      <td>2620.40</td>\n",
              "      <td>AR</td>\n",
              "      <td>1</td>\n",
              "      <td>1</td>\n",
              "    </tr>\n",
              "    <tr>\n",
              "      <th>71785</th>\n",
              "      <td>1</td>\n",
              "      <td>2789</td>\n",
              "      <td>11</td>\n",
              "      <td>14</td>\n",
              "      <td>2590631.80</td>\n",
              "      <td>BR</td>\n",
              "      <td>1</td>\n",
              "      <td>0</td>\n",
              "    </tr>\n",
              "    <tr>\n",
              "      <th>46483</th>\n",
              "      <td>29</td>\n",
              "      <td>2666</td>\n",
              "      <td>4</td>\n",
              "      <td>0</td>\n",
              "      <td>3022150.93</td>\n",
              "      <td>BR</td>\n",
              "      <td>0</td>\n",
              "      <td>0</td>\n",
              "    </tr>\n",
              "  </tbody>\n",
              "</table>\n",
              "<p>100 rows × 8 columns</p>\n",
              "</div>"
            ],
            "text/plain": [
              "       numeroCNAESecundarios  tempoExistencia  qtdContratos  qtdOcorrencias  \\\n",
              "92989                      7             3586             1               0   \n",
              "17155                      1            13123             1               0   \n",
              "15096                      0             4504             1               0   \n",
              "8376                       1             1427             2               0   \n",
              "71223                      4             4143            12               1   \n",
              "...                      ...              ...           ...             ...   \n",
              "47494                      0             2254            42              32   \n",
              "78262                     30             3685            21              22   \n",
              "88435                      9             1575             1               4   \n",
              "71785                      1             2789            11              14   \n",
              "46483                     29             2666             4               0   \n",
              "\n",
              "       totalVenda classRisco  porte_id  classRisco2  \n",
              "92989    48500.00         BR         3            0  \n",
              "17155    32226.00         BR         0            0  \n",
              "15096     2200.00         BR         1            0  \n",
              "8376      1590.80         BR         1            0  \n",
              "71223  1146797.89         BR         3            0  \n",
              "...           ...        ...       ...          ...  \n",
              "47494   697907.44         AR         1            1  \n",
              "78262   419225.98         AR         3            1  \n",
              "88435     2620.40         AR         1            1  \n",
              "71785  2590631.80         BR         1            0  \n",
              "46483  3022150.93         BR         0            0  \n",
              "\n",
              "[100 rows x 8 columns]"
            ]
          },
          "metadata": {
            "tags": []
          },
          "execution_count": 23
        }
      ]
    },
    {
      "cell_type": "markdown",
      "metadata": {
        "id": "WnDSwIcPA7ui"
      },
      "source": [
        "### Conferência do tipo de dado da variável recém criada.\n",
        "Verifica-se que dados['classRisco2'] está como integer, o que é correto."
      ]
    },
    {
      "cell_type": "code",
      "metadata": {
        "id": "xpGDaV5BA7ui",
        "outputId": "c7721329-d6b7-48cc-c7eb-26758ba382af"
      },
      "source": [
        "dados['classRisco2'].dtype"
      ],
      "execution_count": null,
      "outputs": [
        {
          "output_type": "execute_result",
          "data": {
            "text/plain": [
              "dtype('int32')"
            ]
          },
          "metadata": {
            "tags": []
          },
          "execution_count": 24
        }
      ]
    },
    {
      "cell_type": "markdown",
      "metadata": {
        "id": "ncU2JpBJA7ul"
      },
      "source": [
        "## Verificação do balanceamento da base\n",
        "\n",
        "Verifica-se que a base está balanceada pois a quantidade de casos de Alto Risco é igual à quantidade de casos de Baixo Risco."
      ]
    },
    {
      "cell_type": "markdown",
      "metadata": {
        "id": "Uhh4zrGQA7ul"
      },
      "source": [
        "### Tabela de Contigência"
      ]
    },
    {
      "cell_type": "code",
      "metadata": {
        "id": "l45VLYBAA7um",
        "outputId": "bad9f30a-1ce8-4de3-aa96-ac9167943131"
      },
      "source": [
        "count = pd.DataFrame(dados['classRisco'].value_counts())\n",
        "percent = pd.DataFrame(dados['classRisco'].value_counts(normalize=True)*100)\n",
        "table = pd.concat([count, percent], axis=1)\n",
        "table.columns = ['# target', '% target']\n",
        "table"
      ],
      "execution_count": null,
      "outputs": [
        {
          "output_type": "execute_result",
          "data": {
            "text/html": [
              "<div>\n",
              "<style scoped>\n",
              "    .dataframe tbody tr th:only-of-type {\n",
              "        vertical-align: middle;\n",
              "    }\n",
              "\n",
              "    .dataframe tbody tr th {\n",
              "        vertical-align: top;\n",
              "    }\n",
              "\n",
              "    .dataframe thead th {\n",
              "        text-align: right;\n",
              "    }\n",
              "</style>\n",
              "<table border=\"1\" class=\"dataframe\">\n",
              "  <thead>\n",
              "    <tr style=\"text-align: right;\">\n",
              "      <th></th>\n",
              "      <th># target</th>\n",
              "      <th>% target</th>\n",
              "    </tr>\n",
              "  </thead>\n",
              "  <tbody>\n",
              "    <tr>\n",
              "      <th>BR</th>\n",
              "      <td>6422</td>\n",
              "      <td>50.00</td>\n",
              "    </tr>\n",
              "    <tr>\n",
              "      <th>AR</th>\n",
              "      <td>6422</td>\n",
              "      <td>50.00</td>\n",
              "    </tr>\n",
              "  </tbody>\n",
              "</table>\n",
              "<p>2 rows × 2 columns</p>\n",
              "</div>"
            ],
            "text/plain": [
              "    # target  % target\n",
              "BR      6422     50.00\n",
              "AR      6422     50.00\n",
              "\n",
              "[2 rows x 2 columns]"
            ]
          },
          "metadata": {
            "tags": []
          },
          "execution_count": 25
        }
      ]
    },
    {
      "cell_type": "markdown",
      "metadata": {
        "id": "CyF8hULIA7uo"
      },
      "source": [
        "### Visualização"
      ]
    },
    {
      "cell_type": "code",
      "metadata": {
        "id": "tdjhyEOcA7up",
        "outputId": "5ad9f6aa-eac7-4449-91f0-77362c302d39"
      },
      "source": [
        "target_count = dados['classRisco'].value_counts()\n",
        "print('Class 0:', target_count[0])\n",
        "print('Class 1:', target_count[1])\n",
        "print('Proportion:', round(target_count[0] / target_count[1], 2), ': 1')\n",
        "target_count.plot(kind='bar', title='Count (target)',color = ['#1F77B4', '#FF7F0E']);"
      ],
      "execution_count": null,
      "outputs": [
        {
          "output_type": "stream",
          "text": [
            "Class 0: 6422\n",
            "Class 1: 6422\n",
            "Proportion: 1.0 : 1\n"
          ],
          "name": "stdout"
        },
        {
          "output_type": "display_data",
          "data": {
            "image/png": "[encoded data removed]",
            "text/plain": [
              "<Figure size 432x288 with 1 Axes>"
            ]
          },
          "metadata": {
            "tags": [],
            "needs_background": "light"
          }
        }
      ]
    },
    {
      "cell_type": "markdown",
      "metadata": {
        "id": "RNtY95iaA7us"
      },
      "source": [
        "## Verificação da correlação entre as variáveis"
      ]
    },
    {
      "cell_type": "code",
      "metadata": {
        "id": "Yxo2WzSfA7ut",
        "outputId": "51dfaaed-5613-45af-a3b2-c0b5d4faa441"
      },
      "source": [
        "dados.corr()"
      ],
      "execution_count": null,
      "outputs": [
        {
          "output_type": "execute_result",
          "data": {
            "text/html": [
              "<div>\n",
              "<style scoped>\n",
              "    .dataframe tbody tr th:only-of-type {\n",
              "        vertical-align: middle;\n",
              "    }\n",
              "\n",
              "    .dataframe tbody tr th {\n",
              "        vertical-align: top;\n",
              "    }\n",
              "\n",
              "    .dataframe thead th {\n",
              "        text-align: right;\n",
              "    }\n",
              "</style>\n",
              "<table border=\"1\" class=\"dataframe\">\n",
              "  <thead>\n",
              "    <tr style=\"text-align: right;\">\n",
              "      <th></th>\n",
              "      <th>numeroCNAESecundarios</th>\n",
              "      <th>tempoExistencia</th>\n",
              "      <th>qtdContratos</th>\n",
              "      <th>qtdOcorrencias</th>\n",
              "      <th>totalVenda</th>\n",
              "      <th>porte_id</th>\n",
              "      <th>classRisco2</th>\n",
              "    </tr>\n",
              "  </thead>\n",
              "  <tbody>\n",
              "    <tr>\n",
              "      <th>numeroCNAESecundarios</th>\n",
              "      <td>1.00</td>\n",
              "      <td>-0.07</td>\n",
              "      <td>0.01</td>\n",
              "      <td>0.04</td>\n",
              "      <td>-0.01</td>\n",
              "      <td>0.11</td>\n",
              "      <td>0.19</td>\n",
              "    </tr>\n",
              "    <tr>\n",
              "      <th>tempoExistencia</th>\n",
              "      <td>-0.07</td>\n",
              "      <td>1.00</td>\n",
              "      <td>0.06</td>\n",
              "      <td>-0.02</td>\n",
              "      <td>0.07</td>\n",
              "      <td>-0.12</td>\n",
              "      <td>-0.17</td>\n",
              "    </tr>\n",
              "    <tr>\n",
              "      <th>qtdContratos</th>\n",
              "      <td>0.01</td>\n",
              "      <td>0.06</td>\n",
              "      <td>1.00</td>\n",
              "      <td>0.58</td>\n",
              "      <td>0.23</td>\n",
              "      <td>-0.04</td>\n",
              "      <td>0.10</td>\n",
              "    </tr>\n",
              "    <tr>\n",
              "      <th>qtdOcorrencias</th>\n",
              "      <td>0.04</td>\n",
              "      <td>-0.02</td>\n",
              "      <td>0.58</td>\n",
              "      <td>1.00</td>\n",
              "      <td>0.11</td>\n",
              "      <td>-0.03</td>\n",
              "      <td>0.29</td>\n",
              "    </tr>\n",
              "    <tr>\n",
              "      <th>totalVenda</th>\n",
              "      <td>-0.01</td>\n",
              "      <td>0.07</td>\n",
              "      <td>0.23</td>\n",
              "      <td>0.11</td>\n",
              "      <td>1.00</td>\n",
              "      <td>-0.05</td>\n",
              "      <td>0.01</td>\n",
              "    </tr>\n",
              "    <tr>\n",
              "      <th>porte_id</th>\n",
              "      <td>0.11</td>\n",
              "      <td>-0.12</td>\n",
              "      <td>-0.04</td>\n",
              "      <td>-0.03</td>\n",
              "      <td>-0.05</td>\n",
              "      <td>1.00</td>\n",
              "      <td>0.14</td>\n",
              "    </tr>\n",
              "    <tr>\n",
              "      <th>classRisco2</th>\n",
              "      <td>0.19</td>\n",
              "      <td>-0.17</td>\n",
              "      <td>0.10</td>\n",
              "      <td>0.29</td>\n",
              "      <td>0.01</td>\n",
              "      <td>0.14</td>\n",
              "      <td>1.00</td>\n",
              "    </tr>\n",
              "  </tbody>\n",
              "</table>\n",
              "<p>7 rows × 7 columns</p>\n",
              "</div>"
            ],
            "text/plain": [
              "                       numeroCNAESecundarios  tempoExistencia  qtdContratos  \\\n",
              "numeroCNAESecundarios                   1.00            -0.07          0.01   \n",
              "tempoExistencia                        -0.07             1.00          0.06   \n",
              "qtdContratos                            0.01             0.06          1.00   \n",
              "qtdOcorrencias                          0.04            -0.02          0.58   \n",
              "totalVenda                             -0.01             0.07          0.23   \n",
              "porte_id                                0.11            -0.12         -0.04   \n",
              "classRisco2                             0.19            -0.17          0.10   \n",
              "\n",
              "                       qtdOcorrencias  totalVenda  porte_id  classRisco2  \n",
              "numeroCNAESecundarios            0.04       -0.01      0.11         0.19  \n",
              "tempoExistencia                 -0.02        0.07     -0.12        -0.17  \n",
              "qtdContratos                     0.58        0.23     -0.04         0.10  \n",
              "qtdOcorrencias                   1.00        0.11     -0.03         0.29  \n",
              "totalVenda                       0.11        1.00     -0.05         0.01  \n",
              "porte_id                        -0.03       -0.05      1.00         0.14  \n",
              "classRisco2                      0.29        0.01      0.14         1.00  \n",
              "\n",
              "[7 rows x 7 columns]"
            ]
          },
          "metadata": {
            "tags": []
          },
          "execution_count": 27
        }
      ]
    },
    {
      "cell_type": "markdown",
      "metadata": {
        "id": "0uhI5LQuA7uv"
      },
      "source": [
        "###  Mapa de calor das correlações"
      ]
    },
    {
      "cell_type": "code",
      "metadata": {
        "id": "32qsO7RVA7uv",
        "outputId": "3881f69c-5b78-4eb5-986f-0997af2d6f70"
      },
      "source": [
        "corr = dados.corr()\n",
        "corr.style.background_gradient(cmap='coolwarm')"
      ],
      "execution_count": null,
      "outputs": [
        {
          "output_type": "execute_result",
          "data": {
            "text/html": [
              "<style  type=\"text/css\" >\n",
              "#T_4e31c638_18bb_11eb_b238_1063c8f96346row0_col0,#T_4e31c638_18bb_11eb_b238_1063c8f96346row1_col1,#T_4e31c638_18bb_11eb_b238_1063c8f96346row2_col2,#T_4e31c638_18bb_11eb_b238_1063c8f96346row3_col3,#T_4e31c638_18bb_11eb_b238_1063c8f96346row4_col4,#T_4e31c638_18bb_11eb_b238_1063c8f96346row5_col5,#T_4e31c638_18bb_11eb_b238_1063c8f96346row6_col6{\n",
              "            background-color:  #b40426;\n",
              "            color:  #f1f1f1;\n",
              "        }#T_4e31c638_18bb_11eb_b238_1063c8f96346row0_col1{\n",
              "            background-color:  #5572df;\n",
              "            color:  #000000;\n",
              "        }#T_4e31c638_18bb_11eb_b238_1063c8f96346row0_col2,#T_4e31c638_18bb_11eb_b238_1063c8f96346row0_col4,#T_4e31c638_18bb_11eb_b238_1063c8f96346row5_col1{\n",
              "            background-color:  #485fd1;\n",
              "            color:  #f1f1f1;\n",
              "        }#T_4e31c638_18bb_11eb_b238_1063c8f96346row0_col3{\n",
              "            background-color:  #4e68d8;\n",
              "            color:  #000000;\n",
              "        }#T_4e31c638_18bb_11eb_b238_1063c8f96346row0_col5,#T_4e31c638_18bb_11eb_b238_1063c8f96346row4_col1{\n",
              "            background-color:  #7da0f9;\n",
              "            color:  #000000;\n",
              "        }#T_4e31c638_18bb_11eb_b238_1063c8f96346row0_col6{\n",
              "            background-color:  #a2c1ff;\n",
              "            color:  #000000;\n",
              "        }#T_4e31c638_18bb_11eb_b238_1063c8f96346row1_col0,#T_4e31c638_18bb_11eb_b238_1063c8f96346row1_col3,#T_4e31c638_18bb_11eb_b238_1063c8f96346row1_col5,#T_4e31c638_18bb_11eb_b238_1063c8f96346row1_col6,#T_4e31c638_18bb_11eb_b238_1063c8f96346row5_col2,#T_4e31c638_18bb_11eb_b238_1063c8f96346row5_col3,#T_4e31c638_18bb_11eb_b238_1063c8f96346row5_col4,#T_4e31c638_18bb_11eb_b238_1063c8f96346row6_col1{\n",
              "            background-color:  #3b4cc0;\n",
              "            color:  #f1f1f1;\n",
              "        }#T_4e31c638_18bb_11eb_b238_1063c8f96346row1_col2{\n",
              "            background-color:  #5673e0;\n",
              "            color:  #000000;\n",
              "        }#T_4e31c638_18bb_11eb_b238_1063c8f96346row1_col4{\n",
              "            background-color:  #5e7de7;\n",
              "            color:  #000000;\n",
              "        }#T_4e31c638_18bb_11eb_b238_1063c8f96346row2_col0{\n",
              "            background-color:  #506bda;\n",
              "            color:  #000000;\n",
              "        }#T_4e31c638_18bb_11eb_b238_1063c8f96346row2_col1{\n",
              "            background-color:  #7a9df8;\n",
              "            color:  #000000;\n",
              "        }#T_4e31c638_18bb_11eb_b238_1063c8f96346row2_col3{\n",
              "            background-color:  #f0cdbb;\n",
              "            color:  #000000;\n",
              "        }#T_4e31c638_18bb_11eb_b238_1063c8f96346row2_col4{\n",
              "            background-color:  #94b6ff;\n",
              "            color:  #000000;\n",
              "        }#T_4e31c638_18bb_11eb_b238_1063c8f96346row2_col5{\n",
              "            background-color:  #516ddb;\n",
              "            color:  #000000;\n",
              "        }#T_4e31c638_18bb_11eb_b238_1063c8f96346row2_col6,#T_4e31c638_18bb_11eb_b238_1063c8f96346row6_col5{\n",
              "            background-color:  #86a9fc;\n",
              "            color:  #000000;\n",
              "        }#T_4e31c638_18bb_11eb_b238_1063c8f96346row3_col0{\n",
              "            background-color:  #5a78e4;\n",
              "            color:  #000000;\n",
              "        }#T_4e31c638_18bb_11eb_b238_1063c8f96346row3_col1{\n",
              "            background-color:  #6282ea;\n",
              "            color:  #000000;\n",
              "        }#T_4e31c638_18bb_11eb_b238_1063c8f96346row3_col2{\n",
              "            background-color:  #f1cdba;\n",
              "            color:  #000000;\n",
              "        }#T_4e31c638_18bb_11eb_b238_1063c8f96346row3_col4{\n",
              "            background-color:  #6a8bef;\n",
              "            color:  #000000;\n",
              "        }#T_4e31c638_18bb_11eb_b238_1063c8f96346row3_col5{\n",
              "            background-color:  #5470de;\n",
              "            color:  #000000;\n",
              "        }#T_4e31c638_18bb_11eb_b238_1063c8f96346row3_col6{\n",
              "            background-color:  #c0d4f5;\n",
              "            color:  #000000;\n",
              "        }#T_4e31c638_18bb_11eb_b238_1063c8f96346row4_col0,#T_4e31c638_18bb_11eb_b238_1063c8f96346row4_col5{\n",
              "            background-color:  #4c66d6;\n",
              "            color:  #000000;\n",
              "        }#T_4e31c638_18bb_11eb_b238_1063c8f96346row4_col2{\n",
              "            background-color:  #90b2fe;\n",
              "            color:  #000000;\n",
              "        }#T_4e31c638_18bb_11eb_b238_1063c8f96346row4_col3{\n",
              "            background-color:  #6384eb;\n",
              "            color:  #000000;\n",
              "        }#T_4e31c638_18bb_11eb_b238_1063c8f96346row4_col6{\n",
              "            background-color:  #6b8df0;\n",
              "            color:  #000000;\n",
              "        }#T_4e31c638_18bb_11eb_b238_1063c8f96346row5_col0{\n",
              "            background-color:  #6f92f3;\n",
              "            color:  #000000;\n",
              "        }#T_4e31c638_18bb_11eb_b238_1063c8f96346row5_col6{\n",
              "            background-color:  #93b5fe;\n",
              "            color:  #000000;\n",
              "        }#T_4e31c638_18bb_11eb_b238_1063c8f96346row6_col0{\n",
              "            background-color:  #8caffe;\n",
              "            color:  #000000;\n",
              "        }#T_4e31c638_18bb_11eb_b238_1063c8f96346row6_col2{\n",
              "            background-color:  #6485ec;\n",
              "            color:  #000000;\n",
              "        }#T_4e31c638_18bb_11eb_b238_1063c8f96346row6_col3{\n",
              "            background-color:  #a3c2fe;\n",
              "            color:  #000000;\n",
              "        }#T_4e31c638_18bb_11eb_b238_1063c8f96346row6_col4{\n",
              "            background-color:  #4b64d5;\n",
              "            color:  #f1f1f1;\n",
              "        }</style><table id=\"T_4e31c638_18bb_11eb_b238_1063c8f96346\" ><thead>    <tr>        <th class=\"blank level0\" ></th>        <th class=\"col_heading level0 col0\" >numeroCNAESecundarios</th>        <th class=\"col_heading level0 col1\" >tempoExistencia</th>        <th class=\"col_heading level0 col2\" >qtdContratos</th>        <th class=\"col_heading level0 col3\" >qtdOcorrencias</th>        <th class=\"col_heading level0 col4\" >totalVenda</th>        <th class=\"col_heading level0 col5\" >porte_id</th>        <th class=\"col_heading level0 col6\" >classRisco2</th>    </tr></thead><tbody>\n",
              "                <tr>\n",
              "                        <th id=\"T_4e31c638_18bb_11eb_b238_1063c8f96346level0_row0\" class=\"row_heading level0 row0\" >numeroCNAESecundarios</th>\n",
              "                        <td id=\"T_4e31c638_18bb_11eb_b238_1063c8f96346row0_col0\" class=\"data row0 col0\" >1.000000</td>\n",
              "                        <td id=\"T_4e31c638_18bb_11eb_b238_1063c8f96346row0_col1\" class=\"data row0 col1\" >-0.070158</td>\n",
              "                        <td id=\"T_4e31c638_18bb_11eb_b238_1063c8f96346row0_col2\" class=\"data row0 col2\" >0.008986</td>\n",
              "                        <td id=\"T_4e31c638_18bb_11eb_b238_1063c8f96346row0_col3\" class=\"data row0 col3\" >0.040383</td>\n",
              "                        <td id=\"T_4e31c638_18bb_11eb_b238_1063c8f96346row0_col4\" class=\"data row0 col4\" >-0.005850</td>\n",
              "                        <td id=\"T_4e31c638_18bb_11eb_b238_1063c8f96346row0_col5\" class=\"data row0 col5\" >0.109013</td>\n",
              "                        <td id=\"T_4e31c638_18bb_11eb_b238_1063c8f96346row0_col6\" class=\"data row0 col6\" >0.193342</td>\n",
              "            </tr>\n",
              "            <tr>\n",
              "                        <th id=\"T_4e31c638_18bb_11eb_b238_1063c8f96346level0_row1\" class=\"row_heading level0 row1\" >tempoExistencia</th>\n",
              "                        <td id=\"T_4e31c638_18bb_11eb_b238_1063c8f96346row1_col0\" class=\"data row1 col0\" >-0.070158</td>\n",
              "                        <td id=\"T_4e31c638_18bb_11eb_b238_1063c8f96346row1_col1\" class=\"data row1 col1\" >1.000000</td>\n",
              "                        <td id=\"T_4e31c638_18bb_11eb_b238_1063c8f96346row1_col2\" class=\"data row1 col2\" >0.058524</td>\n",
              "                        <td id=\"T_4e31c638_18bb_11eb_b238_1063c8f96346row1_col3\" class=\"data row1 col3\" >-0.024027</td>\n",
              "                        <td id=\"T_4e31c638_18bb_11eb_b238_1063c8f96346row1_col4\" class=\"data row1 col4\" >0.068439</td>\n",
              "                        <td id=\"T_4e31c638_18bb_11eb_b238_1063c8f96346row1_col5\" class=\"data row1 col5\" >-0.120123</td>\n",
              "                        <td id=\"T_4e31c638_18bb_11eb_b238_1063c8f96346row1_col6\" class=\"data row1 col6\" >-0.171999</td>\n",
              "            </tr>\n",
              "            <tr>\n",
              "                        <th id=\"T_4e31c638_18bb_11eb_b238_1063c8f96346level0_row2\" class=\"row_heading level0 row2\" >qtdContratos</th>\n",
              "                        <td id=\"T_4e31c638_18bb_11eb_b238_1063c8f96346row2_col0\" class=\"data row2 col0\" >0.008986</td>\n",
              "                        <td id=\"T_4e31c638_18bb_11eb_b238_1063c8f96346row2_col1\" class=\"data row2 col1\" >0.058524</td>\n",
              "                        <td id=\"T_4e31c638_18bb_11eb_b238_1063c8f96346row2_col2\" class=\"data row2 col2\" >1.000000</td>\n",
              "                        <td id=\"T_4e31c638_18bb_11eb_b238_1063c8f96346row2_col3\" class=\"data row2 col3\" >0.575585</td>\n",
              "                        <td id=\"T_4e31c638_18bb_11eb_b238_1063c8f96346row2_col4\" class=\"data row2 col4\" >0.232318</td>\n",
              "                        <td id=\"T_4e31c638_18bb_11eb_b238_1063c8f96346row2_col5\" class=\"data row2 col5\" >-0.036914</td>\n",
              "                        <td id=\"T_4e31c638_18bb_11eb_b238_1063c8f96346row2_col6\" class=\"data row2 col6\" >0.102356</td>\n",
              "            </tr>\n",
              "            <tr>\n",
              "                        <th id=\"T_4e31c638_18bb_11eb_b238_1063c8f96346level0_row3\" class=\"row_heading level0 row3\" >qtdOcorrencias</th>\n",
              "                        <td id=\"T_4e31c638_18bb_11eb_b238_1063c8f96346row3_col0\" class=\"data row3 col0\" >0.040383</td>\n",
              "                        <td id=\"T_4e31c638_18bb_11eb_b238_1063c8f96346row3_col1\" class=\"data row3 col1\" >-0.024027</td>\n",
              "                        <td id=\"T_4e31c638_18bb_11eb_b238_1063c8f96346row3_col2\" class=\"data row3 col2\" >0.575585</td>\n",
              "                        <td id=\"T_4e31c638_18bb_11eb_b238_1063c8f96346row3_col3\" class=\"data row3 col3\" >1.000000</td>\n",
              "                        <td id=\"T_4e31c638_18bb_11eb_b238_1063c8f96346row3_col4\" class=\"data row3 col4\" >0.106823</td>\n",
              "                        <td id=\"T_4e31c638_18bb_11eb_b238_1063c8f96346row3_col5\" class=\"data row3 col5\" >-0.027811</td>\n",
              "                        <td id=\"T_4e31c638_18bb_11eb_b238_1063c8f96346row3_col6\" class=\"data row3 col6\" >0.294996</td>\n",
              "            </tr>\n",
              "            <tr>\n",
              "                        <th id=\"T_4e31c638_18bb_11eb_b238_1063c8f96346level0_row4\" class=\"row_heading level0 row4\" >totalVenda</th>\n",
              "                        <td id=\"T_4e31c638_18bb_11eb_b238_1063c8f96346row4_col0\" class=\"data row4 col0\" >-0.005850</td>\n",
              "                        <td id=\"T_4e31c638_18bb_11eb_b238_1063c8f96346row4_col1\" class=\"data row4 col1\" >0.068439</td>\n",
              "                        <td id=\"T_4e31c638_18bb_11eb_b238_1063c8f96346row4_col2\" class=\"data row4 col2\" >0.232318</td>\n",
              "                        <td id=\"T_4e31c638_18bb_11eb_b238_1063c8f96346row4_col3\" class=\"data row4 col3\" >0.106823</td>\n",
              "                        <td id=\"T_4e31c638_18bb_11eb_b238_1063c8f96346row4_col4\" class=\"data row4 col4\" >1.000000</td>\n",
              "                        <td id=\"T_4e31c638_18bb_11eb_b238_1063c8f96346row4_col5\" class=\"data row4 col5\" >-0.052469</td>\n",
              "                        <td id=\"T_4e31c638_18bb_11eb_b238_1063c8f96346row4_col6\" class=\"data row4 col6\" >0.008143</td>\n",
              "            </tr>\n",
              "            <tr>\n",
              "                        <th id=\"T_4e31c638_18bb_11eb_b238_1063c8f96346level0_row5\" class=\"row_heading level0 row5\" >porte_id</th>\n",
              "                        <td id=\"T_4e31c638_18bb_11eb_b238_1063c8f96346row5_col0\" class=\"data row5 col0\" >0.109013</td>\n",
              "                        <td id=\"T_4e31c638_18bb_11eb_b238_1063c8f96346row5_col1\" class=\"data row5 col1\" >-0.120123</td>\n",
              "                        <td id=\"T_4e31c638_18bb_11eb_b238_1063c8f96346row5_col2\" class=\"data row5 col2\" >-0.036914</td>\n",
              "                        <td id=\"T_4e31c638_18bb_11eb_b238_1063c8f96346row5_col3\" class=\"data row5 col3\" >-0.027811</td>\n",
              "                        <td id=\"T_4e31c638_18bb_11eb_b238_1063c8f96346row5_col4\" class=\"data row5 col4\" >-0.052469</td>\n",
              "                        <td id=\"T_4e31c638_18bb_11eb_b238_1063c8f96346row5_col5\" class=\"data row5 col5\" >1.000000</td>\n",
              "                        <td id=\"T_4e31c638_18bb_11eb_b238_1063c8f96346row5_col6\" class=\"data row5 col6\" >0.139669</td>\n",
              "            </tr>\n",
              "            <tr>\n",
              "                        <th id=\"T_4e31c638_18bb_11eb_b238_1063c8f96346level0_row6\" class=\"row_heading level0 row6\" >classRisco2</th>\n",
              "                        <td id=\"T_4e31c638_18bb_11eb_b238_1063c8f96346row6_col0\" class=\"data row6 col0\" >0.193342</td>\n",
              "                        <td id=\"T_4e31c638_18bb_11eb_b238_1063c8f96346row6_col1\" class=\"data row6 col1\" >-0.171999</td>\n",
              "                        <td id=\"T_4e31c638_18bb_11eb_b238_1063c8f96346row6_col2\" class=\"data row6 col2\" >0.102356</td>\n",
              "                        <td id=\"T_4e31c638_18bb_11eb_b238_1063c8f96346row6_col3\" class=\"data row6 col3\" >0.294996</td>\n",
              "                        <td id=\"T_4e31c638_18bb_11eb_b238_1063c8f96346row6_col4\" class=\"data row6 col4\" >0.008143</td>\n",
              "                        <td id=\"T_4e31c638_18bb_11eb_b238_1063c8f96346row6_col5\" class=\"data row6 col5\" >0.139669</td>\n",
              "                        <td id=\"T_4e31c638_18bb_11eb_b238_1063c8f96346row6_col6\" class=\"data row6 col6\" >1.000000</td>\n",
              "            </tr>\n",
              "    </tbody></table>"
            ],
            "text/plain": [
              "<pandas.io.formats.style.Styler at 0x27c8aca0908>"
            ]
          },
          "metadata": {
            "tags": []
          },
          "execution_count": 28
        }
      ]
    },
    {
      "cell_type": "markdown",
      "metadata": {
        "id": "YB0TJpFBA7uy"
      },
      "source": [
        "## Verificação dos valores das correlações em ordem decrescente\n",
        "Foi utilizado o encadeamento de métodos (method chaining).<br>\n",
        "Verifica-se que existe correlação relativamente elevada entre as variáveis qtdContratos e qtdOcorrencias, de 0.58.<br>\n",
        "Constata-se também que a variável qtdOcorrencias possui correlação de 0.23 com a variável classRisco, que é nossa target."
      ]
    },
    {
      "cell_type": "code",
      "metadata": {
        "id": "jEqnegKXA7uy",
        "outputId": "33709b6e-a6d3-431c-99b5-07b58755e9b9"
      },
      "source": [
        "df_corr = dados.corr()\n",
        "(\n",
        "    df_corr\n",
        "    .pipe(lambda df: pd.DataFrame(\n",
        "        np.where(np.triu(np.ones(df.shape, dtype=int), k=1), df, np.nan),\n",
        "        index=df.index, columns=df.columns))\n",
        "    .stack()\n",
        "    .dropna()\n",
        "    .sort_values(ascending=False)\n",
        ")"
      ],
      "execution_count": null,
      "outputs": [
        {
          "output_type": "execute_result",
          "data": {
            "text/plain": [
              "qtdContratos           qtdOcorrencias     0.58\n",
              "qtdOcorrencias         classRisco2        0.29\n",
              "qtdContratos           totalVenda         0.23\n",
              "numeroCNAESecundarios  classRisco2        0.19\n",
              "porte_id               classRisco2        0.14\n",
              "                                          ... \n",
              "qtdContratos           porte_id          -0.04\n",
              "totalVenda             porte_id          -0.05\n",
              "numeroCNAESecundarios  tempoExistencia   -0.07\n",
              "tempoExistencia        porte_id          -0.12\n",
              "                       classRisco2       -0.17\n",
              "Length: 21, dtype: float64"
            ]
          },
          "metadata": {
            "tags": []
          },
          "execution_count": 29
        }
      ]
    },
    {
      "cell_type": "markdown",
      "metadata": {
        "id": "y9uJXhKcA7u1"
      },
      "source": [
        "# Análise univariada de dados"
      ]
    },
    {
      "cell_type": "markdown",
      "metadata": {
        "id": "LiU3xyj7A7u1"
      },
      "source": [
        "## Sumário estatístico univariado"
      ]
    },
    {
      "cell_type": "code",
      "metadata": {
        "id": "jbKuZtmeA7u2"
      },
      "source": [
        "def describe_do_mario(df):\n",
        "    df_descr = df.describe()\n",
        "    return df_descr.append([\n",
        "        (df_descr.loc['std'] / df_descr.loc['mean']).rename('cv').to_frame().T,\n",
        "   #     df.loc[:, df_descr.columns].mode().set_index(iter(['mode']))\n",
        "    ])\n"
      ],
      "execution_count": null,
      "outputs": []
    },
    {
      "cell_type": "code",
      "metadata": {
        "id": "UirVVTgMA7u9",
        "outputId": "356a7470-be8d-45f8-c875-128c4f257bd9"
      },
      "source": [
        "describe_do_mario(dados)"
      ],
      "execution_count": null,
      "outputs": [
        {
          "output_type": "execute_result",
          "data": {
            "text/html": [
              "<div>\n",
              "<style scoped>\n",
              "    .dataframe tbody tr th:only-of-type {\n",
              "        vertical-align: middle;\n",
              "    }\n",
              "\n",
              "    .dataframe tbody tr th {\n",
              "        vertical-align: top;\n",
              "    }\n",
              "\n",
              "    .dataframe thead th {\n",
              "        text-align: right;\n",
              "    }\n",
              "</style>\n",
              "<table border=\"1\" class=\"dataframe\">\n",
              "  <thead>\n",
              "    <tr style=\"text-align: right;\">\n",
              "      <th></th>\n",
              "      <th>numeroCNAESecundarios</th>\n",
              "      <th>tempoExistencia</th>\n",
              "      <th>qtdContratos</th>\n",
              "      <th>qtdOcorrencias</th>\n",
              "      <th>totalVenda</th>\n",
              "      <th>porte_id</th>\n",
              "      <th>classRisco2</th>\n",
              "    </tr>\n",
              "  </thead>\n",
              "  <tbody>\n",
              "    <tr>\n",
              "      <th>count</th>\n",
              "      <td>12844.00</td>\n",
              "      <td>12844.00</td>\n",
              "      <td>12844.00</td>\n",
              "      <td>12844.00</td>\n",
              "      <td>12844.00</td>\n",
              "      <td>12844.00</td>\n",
              "      <td>12844.00</td>\n",
              "    </tr>\n",
              "    <tr>\n",
              "      <th>mean</th>\n",
              "      <td>8.28</td>\n",
              "      <td>3639.11</td>\n",
              "      <td>10.44</td>\n",
              "      <td>5.64</td>\n",
              "      <td>8689638.16</td>\n",
              "      <td>1.30</td>\n",
              "      <td>0.50</td>\n",
              "    </tr>\n",
              "    <tr>\n",
              "      <th>std</th>\n",
              "      <td>13.18</td>\n",
              "      <td>3403.29</td>\n",
              "      <td>51.96</td>\n",
              "      <td>16.55</td>\n",
              "      <td>144903867.11</td>\n",
              "      <td>1.16</td>\n",
              "      <td>0.50</td>\n",
              "    </tr>\n",
              "    <tr>\n",
              "      <th>min</th>\n",
              "      <td>0.00</td>\n",
              "      <td>16.00</td>\n",
              "      <td>1.00</td>\n",
              "      <td>0.00</td>\n",
              "      <td>0.00</td>\n",
              "      <td>0.00</td>\n",
              "      <td>0.00</td>\n",
              "    </tr>\n",
              "    <tr>\n",
              "      <th>25%</th>\n",
              "      <td>1.00</td>\n",
              "      <td>1113.75</td>\n",
              "      <td>1.00</td>\n",
              "      <td>0.00</td>\n",
              "      <td>30000.00</td>\n",
              "      <td>0.00</td>\n",
              "      <td>0.00</td>\n",
              "    </tr>\n",
              "    <tr>\n",
              "      <th>50%</th>\n",
              "      <td>4.00</td>\n",
              "      <td>2535.50</td>\n",
              "      <td>3.00</td>\n",
              "      <td>1.00</td>\n",
              "      <td>209321.04</td>\n",
              "      <td>1.00</td>\n",
              "      <td>0.50</td>\n",
              "    </tr>\n",
              "    <tr>\n",
              "      <th>75%</th>\n",
              "      <td>10.00</td>\n",
              "      <td>5134.75</td>\n",
              "      <td>9.00</td>\n",
              "      <td>6.00</td>\n",
              "      <td>1441694.10</td>\n",
              "      <td>3.00</td>\n",
              "      <td>1.00</td>\n",
              "    </tr>\n",
              "    <tr>\n",
              "      <th>max</th>\n",
              "      <td>99.00</td>\n",
              "      <td>27922.00</td>\n",
              "      <td>3125.00</td>\n",
              "      <td>627.00</td>\n",
              "      <td>9929901354.15</td>\n",
              "      <td>3.00</td>\n",
              "      <td>1.00</td>\n",
              "    </tr>\n",
              "    <tr>\n",
              "      <th>cv</th>\n",
              "      <td>1.59</td>\n",
              "      <td>0.94</td>\n",
              "      <td>4.98</td>\n",
              "      <td>2.94</td>\n",
              "      <td>16.68</td>\n",
              "      <td>0.89</td>\n",
              "      <td>1.00</td>\n",
              "    </tr>\n",
              "  </tbody>\n",
              "</table>\n",
              "<p>9 rows × 7 columns</p>\n",
              "</div>"
            ],
            "text/plain": [
              "       numeroCNAESecundarios  tempoExistencia  qtdContratos  qtdOcorrencias  \\\n",
              "count               12844.00         12844.00      12844.00        12844.00   \n",
              "mean                    8.28          3639.11         10.44            5.64   \n",
              "std                    13.18          3403.29         51.96           16.55   \n",
              "min                     0.00            16.00          1.00            0.00   \n",
              "25%                     1.00          1113.75          1.00            0.00   \n",
              "50%                     4.00          2535.50          3.00            1.00   \n",
              "75%                    10.00          5134.75          9.00            6.00   \n",
              "max                    99.00         27922.00       3125.00          627.00   \n",
              "cv                      1.59             0.94          4.98            2.94   \n",
              "\n",
              "         totalVenda  porte_id  classRisco2  \n",
              "count      12844.00  12844.00     12844.00  \n",
              "mean     8689638.16      1.30         0.50  \n",
              "std    144903867.11      1.16         0.50  \n",
              "min            0.00      0.00         0.00  \n",
              "25%        30000.00      0.00         0.00  \n",
              "50%       209321.04      1.00         0.50  \n",
              "75%      1441694.10      3.00         1.00  \n",
              "max   9929901354.15      3.00         1.00  \n",
              "cv            16.68      0.89         1.00  \n",
              "\n",
              "[9 rows x 7 columns]"
            ]
          },
          "metadata": {
            "tags": []
          },
          "execution_count": 31
        }
      ]
    },
    {
      "cell_type": "markdown",
      "metadata": {
        "id": "CEJkL-YBA7u_"
      },
      "source": [
        "## Gráficos de densidade"
      ]
    },
    {
      "cell_type": "code",
      "metadata": {
        "id": "Lo_dQkFnA7vA",
        "outputId": "6c8476d3-ad90-4b2e-918e-ff4032346334"
      },
      "source": [
        "sns.set(rc = {'figure.figsize': (5, 5)})\n",
        "fnum = ['numeroCNAESecundarios', 'tempoExistencia', 'qtdContratos',\n",
        "       'qtdOcorrencias', 'totalVenda', 'porte_id']\n",
        "\n",
        "for col in fnum:\n",
        "    plt.figure()\n",
        "    sns.distplot(dados[col], bins=10)\n",
        "    plt.xticks(rotation=45)\n",
        "    plt.show()"
      ],
      "execution_count": null,
      "outputs": [
        {
          "output_type": "display_data",
          "data": {
            "image/png": "[encoded data removed]",
            "text/plain": [
              "<Figure size 360x360 with 1 Axes>"
            ]
          },
          "metadata": {
            "tags": []
          }
        },
        {
          "output_type": "display_data",
          "data": {
            "image/png": "[encoded data removed]",
            "text/plain": [
              "<Figure size 360x360 with 1 Axes>"
            ]
          },
          "metadata": {
            "tags": []
          }
        },
        {
          "output_type": "display_data",
          "data": {
            "image/png": "[encoded data removed]",
            "text/plain": [
              "<Figure size 360x360 with 1 Axes>"
            ]
          },
          "metadata": {
            "tags": []
          }
        },
        {
          "output_type": "display_data",
          "data": {
            "image/png": "[encoded data removed]",
            "text/plain": [
              "<Figure size 360x360 with 1 Axes>"
            ]
          },
          "metadata": {
            "tags": []
          }
        },
        {
          "output_type": "display_data",
          "data": {
            "image/png": "[encoded data removed]",
            "text/plain": [
              "<Figure size 360x360 with 1 Axes>"
            ]
          },
          "metadata": {
            "tags": []
          }
        },
        {
          "output_type": "display_data",
          "data": {
            "image/png": "[encoded data removed]",
            "text/plain": [
              "<Figure size 360x360 with 1 Axes>"
            ]
          },
          "metadata": {
            "tags": []
          }
        }
      ]
    },
    {
      "cell_type": "markdown",
      "metadata": {
        "id": "AZ3opl0cA7vC"
      },
      "source": [
        "## Boxplots"
      ]
    },
    {
      "cell_type": "code",
      "metadata": {
        "id": "e9u1eJLNA7vC",
        "outputId": "9e54eb36-1fda-4390-a8f1-6a60f162c84e"
      },
      "source": [
        "sns.set( rc = {'figure.figsize': (5, 5)})\n",
        "fnum = ['numeroCNAESecundarios', 'tempoExistencia', 'qtdContratos',\n",
        "       'qtdOcorrencias', 'totalVenda']\n",
        "\n",
        "for col in fnum:\n",
        "    plt.figure()\n",
        "    sns.boxplot(y=dados[col])\n",
        "    plt.xticks(rotation=45)\n",
        "    plt.show()"
      ],
      "execution_count": null,
      "outputs": [
        {
          "output_type": "display_data",
          "data": {
            "image/png": "[encoded data removed]",
            "text/plain": [
              "<Figure size 360x360 with 1 Axes>"
            ]
          },
          "metadata": {
            "tags": []
          }
        },
        {
          "output_type": "display_data",
          "data": {
            "image/png": "[encoded data removed]",
            "text/plain": [
              "<Figure size 360x360 with 1 Axes>"
            ]
          },
          "metadata": {
            "tags": []
          }
        },
        {
          "output_type": "display_data",
          "data": {
            "image/png": "[encoded data removed]",
            "text/plain": [
              "<Figure size 360x360 with 1 Axes>"
            ]
          },
          "metadata": {
            "tags": []
          }
        },
        {
          "output_type": "display_data",
          "data": {
            "image/png": "[encoded data removed]",
            "text/plain": [
              "<Figure size 360x360 with 1 Axes>"
            ]
          },
          "metadata": {
            "tags": []
          }
        },
        {
          "output_type": "display_data",
          "data": {
            "image/png": "[encoded data removed]",
            "text/plain": [
              "<Figure size 360x360 with 1 Axes>"
            ]
          },
          "metadata": {
            "tags": []
          }
        }
      ]
    },
    {
      "cell_type": "markdown",
      "metadata": {
        "id": "FHh9doF6A7vG"
      },
      "source": [
        "# Análise Bivariada de dados"
      ]
    },
    {
      "cell_type": "markdown",
      "metadata": {
        "id": "2WzYDFXXA7vH"
      },
      "source": [
        "## Tabelas comparativas"
      ]
    },
    {
      "cell_type": "markdown",
      "metadata": {
        "id": "VcluGyPWA7vI"
      },
      "source": [
        "### Variável classRisco x numeroCNAESecundarios\n",
        "Referencia: https://towardsdatascience.com/master-pandas-groupby-for-efficient-data-summarizing-and-analysis-c6808e37c1cb <br>\n",
        "Verifica-se que, em média, as empresas de alto risco possuem uma quantidade maior de CNAESecundários."
      ]
    },
    {
      "cell_type": "code",
      "metadata": {
        "id": "klqQwKarA7vI",
        "outputId": "fb7c8df2-94a2-4135-df53-9cdb5027aeaf"
      },
      "source": [
        "dados.groupby('classRisco').agg({'numeroCNAESecundarios': ['min','mean','median','max','std']})"
      ],
      "execution_count": null,
      "outputs": [
        {
          "output_type": "execute_result",
          "data": {
            "text/html": [
              "<div>\n",
              "<style scoped>\n",
              "    .dataframe tbody tr th:only-of-type {\n",
              "        vertical-align: middle;\n",
              "    }\n",
              "\n",
              "    .dataframe tbody tr th {\n",
              "        vertical-align: top;\n",
              "    }\n",
              "\n",
              "    .dataframe thead tr th {\n",
              "        text-align: left;\n",
              "    }\n",
              "\n",
              "    .dataframe thead tr:last-of-type th {\n",
              "        text-align: right;\n",
              "    }\n",
              "</style>\n",
              "<table border=\"1\" class=\"dataframe\">\n",
              "  <thead>\n",
              "    <tr>\n",
              "      <th></th>\n",
              "      <th colspan=\"5\" halign=\"left\">numeroCNAESecundarios</th>\n",
              "    </tr>\n",
              "    <tr>\n",
              "      <th></th>\n",
              "      <th>min</th>\n",
              "      <th>mean</th>\n",
              "      <th>median</th>\n",
              "      <th>max</th>\n",
              "      <th>std</th>\n",
              "    </tr>\n",
              "    <tr>\n",
              "      <th>classRisco</th>\n",
              "      <th></th>\n",
              "      <th></th>\n",
              "      <th></th>\n",
              "      <th></th>\n",
              "      <th></th>\n",
              "    </tr>\n",
              "  </thead>\n",
              "  <tbody>\n",
              "    <tr>\n",
              "      <th>AR</th>\n",
              "      <td>0</td>\n",
              "      <td>10.83</td>\n",
              "      <td>6</td>\n",
              "      <td>99</td>\n",
              "      <td>15.16</td>\n",
              "    </tr>\n",
              "    <tr>\n",
              "      <th>BR</th>\n",
              "      <td>0</td>\n",
              "      <td>5.73</td>\n",
              "      <td>2</td>\n",
              "      <td>99</td>\n",
              "      <td>10.22</td>\n",
              "    </tr>\n",
              "  </tbody>\n",
              "</table>\n",
              "<p>2 rows × 5 columns</p>\n",
              "</div>"
            ],
            "text/plain": [
              "           numeroCNAESecundarios                       \n",
              "                             min  mean median max   std\n",
              "classRisco                                             \n",
              "AR                             0 10.83      6  99 15.16\n",
              "BR                             0  5.73      2  99 10.22\n",
              "\n",
              "[2 rows x 5 columns]"
            ]
          },
          "metadata": {
            "tags": []
          },
          "execution_count": 34
        }
      ]
    },
    {
      "cell_type": "markdown",
      "metadata": {
        "id": "IMYYInqAA7vM"
      },
      "source": [
        "### Variável classRisco x tempoExistencia\n",
        "Verifica-se que as empresas de alto risco tendem a ser mais jovens do que as empresas de alto risco."
      ]
    },
    {
      "cell_type": "code",
      "metadata": {
        "id": "tbNq8WZ8A7vM",
        "outputId": "353158e0-5660-49e1-8094-82555e2f0f55"
      },
      "source": [
        "dados.groupby('classRisco').agg({'tempoExistencia': ['min','mean','median','max','std']})"
      ],
      "execution_count": null,
      "outputs": [
        {
          "output_type": "execute_result",
          "data": {
            "text/html": [
              "<div>\n",
              "<style scoped>\n",
              "    .dataframe tbody tr th:only-of-type {\n",
              "        vertical-align: middle;\n",
              "    }\n",
              "\n",
              "    .dataframe tbody tr th {\n",
              "        vertical-align: top;\n",
              "    }\n",
              "\n",
              "    .dataframe thead tr th {\n",
              "        text-align: left;\n",
              "    }\n",
              "\n",
              "    .dataframe thead tr:last-of-type th {\n",
              "        text-align: right;\n",
              "    }\n",
              "</style>\n",
              "<table border=\"1\" class=\"dataframe\">\n",
              "  <thead>\n",
              "    <tr>\n",
              "      <th></th>\n",
              "      <th colspan=\"5\" halign=\"left\">tempoExistencia</th>\n",
              "    </tr>\n",
              "    <tr>\n",
              "      <th></th>\n",
              "      <th>min</th>\n",
              "      <th>mean</th>\n",
              "      <th>median</th>\n",
              "      <th>max</th>\n",
              "      <th>std</th>\n",
              "    </tr>\n",
              "    <tr>\n",
              "      <th>classRisco</th>\n",
              "      <th></th>\n",
              "      <th></th>\n",
              "      <th></th>\n",
              "      <th></th>\n",
              "      <th></th>\n",
              "    </tr>\n",
              "  </thead>\n",
              "  <tbody>\n",
              "    <tr>\n",
              "      <th>AR</th>\n",
              "      <td>16</td>\n",
              "      <td>3053.77</td>\n",
              "      <td>2098.00</td>\n",
              "      <td>27922</td>\n",
              "      <td>2898.77</td>\n",
              "    </tr>\n",
              "    <tr>\n",
              "      <th>BR</th>\n",
              "      <td>16</td>\n",
              "      <td>4224.45</td>\n",
              "      <td>3045.50</td>\n",
              "      <td>24171</td>\n",
              "      <td>3752.12</td>\n",
              "    </tr>\n",
              "  </tbody>\n",
              "</table>\n",
              "<p>2 rows × 5 columns</p>\n",
              "</div>"
            ],
            "text/plain": [
              "           tempoExistencia                               \n",
              "                       min    mean  median    max     std\n",
              "classRisco                                               \n",
              "AR                      16 3053.77 2098.00  27922 2898.77\n",
              "BR                      16 4224.45 3045.50  24171 3752.12\n",
              "\n",
              "[2 rows x 5 columns]"
            ]
          },
          "metadata": {
            "tags": []
          },
          "execution_count": 35
        }
      ]
    },
    {
      "cell_type": "markdown",
      "metadata": {
        "id": "1h4CFo2hA7vO"
      },
      "source": [
        "### Variável classRisco x qtdContratos"
      ]
    },
    {
      "cell_type": "code",
      "metadata": {
        "id": "AY_AUrkWA7vP",
        "outputId": "871e2909-9937-49c2-ebd4-90ab9f7f23c7"
      },
      "source": [
        "dados.groupby('classRisco').agg({'qtdContratos': ['min','mean','median','max','std']})"
      ],
      "execution_count": null,
      "outputs": [
        {
          "output_type": "execute_result",
          "data": {
            "text/html": [
              "<div>\n",
              "<style scoped>\n",
              "    .dataframe tbody tr th:only-of-type {\n",
              "        vertical-align: middle;\n",
              "    }\n",
              "\n",
              "    .dataframe tbody tr th {\n",
              "        vertical-align: top;\n",
              "    }\n",
              "\n",
              "    .dataframe thead tr th {\n",
              "        text-align: left;\n",
              "    }\n",
              "\n",
              "    .dataframe thead tr:last-of-type th {\n",
              "        text-align: right;\n",
              "    }\n",
              "</style>\n",
              "<table border=\"1\" class=\"dataframe\">\n",
              "  <thead>\n",
              "    <tr>\n",
              "      <th></th>\n",
              "      <th colspan=\"5\" halign=\"left\">qtdContratos</th>\n",
              "    </tr>\n",
              "    <tr>\n",
              "      <th></th>\n",
              "      <th>min</th>\n",
              "      <th>mean</th>\n",
              "      <th>median</th>\n",
              "      <th>max</th>\n",
              "      <th>std</th>\n",
              "    </tr>\n",
              "    <tr>\n",
              "      <th>classRisco</th>\n",
              "      <th></th>\n",
              "      <th></th>\n",
              "      <th></th>\n",
              "      <th></th>\n",
              "      <th></th>\n",
              "    </tr>\n",
              "  </thead>\n",
              "  <tbody>\n",
              "    <tr>\n",
              "      <th>AR</th>\n",
              "      <td>1</td>\n",
              "      <td>15.76</td>\n",
              "      <td>6</td>\n",
              "      <td>3125</td>\n",
              "      <td>71.73</td>\n",
              "    </tr>\n",
              "    <tr>\n",
              "      <th>BR</th>\n",
              "      <td>1</td>\n",
              "      <td>5.12</td>\n",
              "      <td>2</td>\n",
              "      <td>436</td>\n",
              "      <td>14.07</td>\n",
              "    </tr>\n",
              "  </tbody>\n",
              "</table>\n",
              "<p>2 rows × 5 columns</p>\n",
              "</div>"
            ],
            "text/plain": [
              "           qtdContratos                         \n",
              "                    min  mean median   max   std\n",
              "classRisco                                      \n",
              "AR                    1 15.76      6  3125 71.73\n",
              "BR                    1  5.12      2   436 14.07\n",
              "\n",
              "[2 rows x 5 columns]"
            ]
          },
          "metadata": {
            "tags": []
          },
          "execution_count": 36
        }
      ]
    },
    {
      "cell_type": "markdown",
      "metadata": {
        "id": "NEzJxOm5A7vS"
      },
      "source": [
        "### Variável classRisco x qtdOcorrencias\n",
        "Verifica-se que as empresas de alto risco tendem a ter muito mais ocorrências lançadas pelo Governo do que as empresas de baixo risco."
      ]
    },
    {
      "cell_type": "code",
      "metadata": {
        "id": "4dpzhvEzA7vS",
        "outputId": "a865a9f9-44bb-4966-9d84-f5519bcf3c80"
      },
      "source": [
        "dados.groupby('classRisco').agg({'qtdOcorrencias': ['min','mean','median','max','std']})"
      ],
      "execution_count": null,
      "outputs": [
        {
          "output_type": "execute_result",
          "data": {
            "text/html": [
              "<div>\n",
              "<style scoped>\n",
              "    .dataframe tbody tr th:only-of-type {\n",
              "        vertical-align: middle;\n",
              "    }\n",
              "\n",
              "    .dataframe tbody tr th {\n",
              "        vertical-align: top;\n",
              "    }\n",
              "\n",
              "    .dataframe thead tr th {\n",
              "        text-align: left;\n",
              "    }\n",
              "\n",
              "    .dataframe thead tr:last-of-type th {\n",
              "        text-align: right;\n",
              "    }\n",
              "</style>\n",
              "<table border=\"1\" class=\"dataframe\">\n",
              "  <thead>\n",
              "    <tr>\n",
              "      <th></th>\n",
              "      <th colspan=\"5\" halign=\"left\">qtdOcorrencias</th>\n",
              "    </tr>\n",
              "    <tr>\n",
              "      <th></th>\n",
              "      <th>min</th>\n",
              "      <th>mean</th>\n",
              "      <th>median</th>\n",
              "      <th>max</th>\n",
              "      <th>std</th>\n",
              "    </tr>\n",
              "    <tr>\n",
              "      <th>classRisco</th>\n",
              "      <th></th>\n",
              "      <th></th>\n",
              "      <th></th>\n",
              "      <th></th>\n",
              "      <th></th>\n",
              "    </tr>\n",
              "  </thead>\n",
              "  <tbody>\n",
              "    <tr>\n",
              "      <th>AR</th>\n",
              "      <td>1</td>\n",
              "      <td>10.52</td>\n",
              "      <td>5</td>\n",
              "      <td>627</td>\n",
              "      <td>21.04</td>\n",
              "    </tr>\n",
              "    <tr>\n",
              "      <th>BR</th>\n",
              "      <td>0</td>\n",
              "      <td>0.75</td>\n",
              "      <td>0</td>\n",
              "      <td>332</td>\n",
              "      <td>7.57</td>\n",
              "    </tr>\n",
              "  </tbody>\n",
              "</table>\n",
              "<p>2 rows × 5 columns</p>\n",
              "</div>"
            ],
            "text/plain": [
              "           qtdOcorrencias                        \n",
              "                      min  mean median  max   std\n",
              "classRisco                                       \n",
              "AR                      1 10.52      5  627 21.04\n",
              "BR                      0  0.75      0  332  7.57\n",
              "\n",
              "[2 rows x 5 columns]"
            ]
          },
          "metadata": {
            "tags": []
          },
          "execution_count": 37
        }
      ]
    },
    {
      "cell_type": "markdown",
      "metadata": {
        "id": "Vz8BKOjmA7vV"
      },
      "source": [
        "### Variável classRisco x totalVenda\n",
        "Verifica-se que, em média, as empresas de alto risco tendem a ter um valor maior de vendas para o Governo do que as empresas de baixo riscfo.}"
      ]
    },
    {
      "cell_type": "code",
      "metadata": {
        "id": "IxLcBFtnA7vV",
        "outputId": "d87f87d2-2772-4d18-b83a-52aebb854a06"
      },
      "source": [
        "dados.groupby('classRisco').agg({'totalVenda': ['min','mean','median','max','std']})"
      ],
      "execution_count": null,
      "outputs": [
        {
          "output_type": "execute_result",
          "data": {
            "text/html": [
              "<div>\n",
              "<style scoped>\n",
              "    .dataframe tbody tr th:only-of-type {\n",
              "        vertical-align: middle;\n",
              "    }\n",
              "\n",
              "    .dataframe tbody tr th {\n",
              "        vertical-align: top;\n",
              "    }\n",
              "\n",
              "    .dataframe thead tr th {\n",
              "        text-align: left;\n",
              "    }\n",
              "\n",
              "    .dataframe thead tr:last-of-type th {\n",
              "        text-align: right;\n",
              "    }\n",
              "</style>\n",
              "<table border=\"1\" class=\"dataframe\">\n",
              "  <thead>\n",
              "    <tr>\n",
              "      <th></th>\n",
              "      <th colspan=\"5\" halign=\"left\">totalVenda</th>\n",
              "    </tr>\n",
              "    <tr>\n",
              "      <th></th>\n",
              "      <th>min</th>\n",
              "      <th>mean</th>\n",
              "      <th>median</th>\n",
              "      <th>max</th>\n",
              "      <th>std</th>\n",
              "    </tr>\n",
              "    <tr>\n",
              "      <th>classRisco</th>\n",
              "      <th></th>\n",
              "      <th></th>\n",
              "      <th></th>\n",
              "      <th></th>\n",
              "      <th></th>\n",
              "    </tr>\n",
              "  </thead>\n",
              "  <tbody>\n",
              "    <tr>\n",
              "      <th>AR</th>\n",
              "      <td>0.00</td>\n",
              "      <td>9869483.90</td>\n",
              "      <td>495236.72</td>\n",
              "      <td>4228389243.33</td>\n",
              "      <td>107168437.29</td>\n",
              "    </tr>\n",
              "    <tr>\n",
              "      <th>BR</th>\n",
              "      <td>0.00</td>\n",
              "      <td>7509792.42</td>\n",
              "      <td>98435.75</td>\n",
              "      <td>9929901354.15</td>\n",
              "      <td>174670183.54</td>\n",
              "    </tr>\n",
              "  </tbody>\n",
              "</table>\n",
              "<p>2 rows × 5 columns</p>\n",
              "</div>"
            ],
            "text/plain": [
              "           totalVenda                                                \n",
              "                  min       mean    median           max          std\n",
              "classRisco                                                           \n",
              "AR               0.00 9869483.90 495236.72 4228389243.33 107168437.29\n",
              "BR               0.00 7509792.42  98435.75 9929901354.15 174670183.54\n",
              "\n",
              "[2 rows x 5 columns]"
            ]
          },
          "metadata": {
            "tags": []
          },
          "execution_count": 38
        }
      ]
    },
    {
      "cell_type": "markdown",
      "metadata": {
        "id": "fW9KvTzKA7va"
      },
      "source": [
        "### Variável classRisco x porte_id\n",
        "Verifica-se que as empresas de pequeno porte (0) tendem a ter um risco menor do que as de médio e grande porte."
      ]
    },
    {
      "cell_type": "code",
      "metadata": {
        "id": "yOcxMSNXA7vd",
        "outputId": "2f15a33d-6322-41f4-b3d2-8e07ecadf3f3"
      },
      "source": [
        "pd.crosstab(dados['classRisco'],dados['porte_id'])"
      ],
      "execution_count": null,
      "outputs": [
        {
          "output_type": "execute_result",
          "data": {
            "text/html": [
              "<div>\n",
              "<style scoped>\n",
              "    .dataframe tbody tr th:only-of-type {\n",
              "        vertical-align: middle;\n",
              "    }\n",
              "\n",
              "    .dataframe tbody tr th {\n",
              "        vertical-align: top;\n",
              "    }\n",
              "\n",
              "    .dataframe thead th {\n",
              "        text-align: right;\n",
              "    }\n",
              "</style>\n",
              "<table border=\"1\" class=\"dataframe\">\n",
              "  <thead>\n",
              "    <tr style=\"text-align: right;\">\n",
              "      <th>porte_id</th>\n",
              "      <th>0</th>\n",
              "      <th>1</th>\n",
              "      <th>3</th>\n",
              "    </tr>\n",
              "    <tr>\n",
              "      <th>classRisco</th>\n",
              "      <th></th>\n",
              "      <th></th>\n",
              "      <th></th>\n",
              "    </tr>\n",
              "  </thead>\n",
              "  <tbody>\n",
              "    <tr>\n",
              "      <th>AR</th>\n",
              "      <td>1244</td>\n",
              "      <td>3058</td>\n",
              "      <td>2120</td>\n",
              "    </tr>\n",
              "    <tr>\n",
              "      <th>BR</th>\n",
              "      <td>2307</td>\n",
              "      <td>2504</td>\n",
              "      <td>1611</td>\n",
              "    </tr>\n",
              "  </tbody>\n",
              "</table>\n",
              "<p>2 rows × 3 columns</p>\n",
              "</div>"
            ],
            "text/plain": [
              "porte_id       0     1     3\n",
              "classRisco                  \n",
              "AR          1244  3058  2120\n",
              "BR          2307  2504  1611\n",
              "\n",
              "[2 rows x 3 columns]"
            ]
          },
          "metadata": {
            "tags": []
          },
          "execution_count": 39
        }
      ]
    },
    {
      "cell_type": "markdown",
      "metadata": {
        "id": "BWCjvS7dA7vh"
      },
      "source": [
        "### Variável classRisco x todas as demais"
      ]
    },
    {
      "cell_type": "code",
      "metadata": {
        "id": "E0kH3cuiA7vh",
        "outputId": "4e282e75-f37f-4876-963d-28908114a513"
      },
      "source": [
        "dados_agrupados = dados.groupby(['classRisco']).mean()\n",
        "dados_agrupados"
      ],
      "execution_count": null,
      "outputs": [
        {
          "output_type": "execute_result",
          "data": {
            "text/html": [
              "<div>\n",
              "<style scoped>\n",
              "    .dataframe tbody tr th:only-of-type {\n",
              "        vertical-align: middle;\n",
              "    }\n",
              "\n",
              "    .dataframe tbody tr th {\n",
              "        vertical-align: top;\n",
              "    }\n",
              "\n",
              "    .dataframe thead th {\n",
              "        text-align: right;\n",
              "    }\n",
              "</style>\n",
              "<table border=\"1\" class=\"dataframe\">\n",
              "  <thead>\n",
              "    <tr style=\"text-align: right;\">\n",
              "      <th></th>\n",
              "      <th>numeroCNAESecundarios</th>\n",
              "      <th>tempoExistencia</th>\n",
              "      <th>qtdContratos</th>\n",
              "      <th>qtdOcorrencias</th>\n",
              "      <th>totalVenda</th>\n",
              "      <th>porte_id</th>\n",
              "      <th>classRisco2</th>\n",
              "    </tr>\n",
              "    <tr>\n",
              "      <th>classRisco</th>\n",
              "      <th></th>\n",
              "      <th></th>\n",
              "      <th></th>\n",
              "      <th></th>\n",
              "      <th></th>\n",
              "      <th></th>\n",
              "      <th></th>\n",
              "    </tr>\n",
              "  </thead>\n",
              "  <tbody>\n",
              "    <tr>\n",
              "      <th>AR</th>\n",
              "      <td>10.83</td>\n",
              "      <td>3053.77</td>\n",
              "      <td>15.76</td>\n",
              "      <td>10.52</td>\n",
              "      <td>9869483.90</td>\n",
              "      <td>1.47</td>\n",
              "      <td>1</td>\n",
              "    </tr>\n",
              "    <tr>\n",
              "      <th>BR</th>\n",
              "      <td>5.73</td>\n",
              "      <td>4224.45</td>\n",
              "      <td>5.12</td>\n",
              "      <td>0.75</td>\n",
              "      <td>7509792.42</td>\n",
              "      <td>1.14</td>\n",
              "      <td>0</td>\n",
              "    </tr>\n",
              "  </tbody>\n",
              "</table>\n",
              "<p>2 rows × 7 columns</p>\n",
              "</div>"
            ],
            "text/plain": [
              "            numeroCNAESecundarios  tempoExistencia  qtdContratos  \\\n",
              "classRisco                                                         \n",
              "AR                          10.83          3053.77         15.76   \n",
              "BR                           5.73          4224.45          5.12   \n",
              "\n",
              "            qtdOcorrencias  totalVenda  porte_id  classRisco2  \n",
              "classRisco                                                     \n",
              "AR                   10.52  9869483.90      1.47            1  \n",
              "BR                    0.75  7509792.42      1.14            0  \n",
              "\n",
              "[2 rows x 7 columns]"
            ]
          },
          "metadata": {
            "tags": []
          },
          "execution_count": 40
        }
      ]
    },
    {
      "cell_type": "markdown",
      "metadata": {
        "id": "nhewZYLPA7vk"
      },
      "source": [
        "### Pairplot"
      ]
    },
    {
      "cell_type": "code",
      "metadata": {
        "id": "CG2xbS4eA7vl",
        "outputId": "3a31d668-b66a-4523-abec-e757e01ca928"
      },
      "source": [
        "sns.pairplot(dados)"
      ],
      "execution_count": null,
      "outputs": [
        {
          "output_type": "execute_result",
          "data": {
            "text/plain": [
              "<seaborn.axisgrid.PairGrid at 0x27c8c114b88>"
            ]
          },
          "metadata": {
            "tags": []
          },
          "execution_count": 41
        },
        {
          "output_type": "display_data",
          "data": {
            "image/png": "[encoded data removed]",
            "text/plain": [
              "<Figure size 1260x1260 with 56 Axes>"
            ]
          },
          "metadata": {
            "tags": []
          }
        }
      ]
    },
    {
      "cell_type": "markdown",
      "metadata": {
        "id": "oeTr6K6TA7vn"
      },
      "source": [
        "## Gráficos comparativos dos valores da variável classRisco com as demais variáveis"
      ]
    },
    {
      "cell_type": "markdown",
      "metadata": {
        "id": "JwS99AugA7vn"
      },
      "source": [
        "### Variável classRisco x numeroCNAESecundarios"
      ]
    },
    {
      "cell_type": "code",
      "metadata": {
        "id": "WU-e5LEJA7vo",
        "outputId": "c476d80f-006a-4027-d425-03ed2ba0285a"
      },
      "source": [
        "plt.subplots(figsize=(5,5))\n",
        "sns.boxplot(y= dados['numeroCNAESecundarios'],\n",
        "           x= dados['classRisco'])\n",
        "plt.show()"
      ],
      "execution_count": null,
      "outputs": [
        {
          "output_type": "display_data",
          "data": {
            "image/png": "[encoded data removed]",
            "text/plain": [
              "<Figure size 360x360 with 1 Axes>"
            ]
          },
          "metadata": {
            "tags": []
          }
        }
      ]
    },
    {
      "cell_type": "markdown",
      "metadata": {
        "id": "oly18zSsA7vv"
      },
      "source": [
        "### Variável classRisco x tempoExistencia"
      ]
    },
    {
      "cell_type": "code",
      "metadata": {
        "id": "aa5k7HBfA7vw",
        "outputId": "f829573f-38cc-488e-bac0-8d9e3410d764"
      },
      "source": [
        "plt.subplots(figsize=(5,5))\n",
        "sns.boxplot(y= dados['tempoExistencia'],\n",
        "           x= dados['classRisco'])\n",
        "plt.show()"
      ],
      "execution_count": null,
      "outputs": [
        {
          "output_type": "display_data",
          "data": {
            "image/png": "[encoded data removed]",
            "text/plain": [
              "<Figure size 360x360 with 1 Axes>"
            ]
          },
          "metadata": {
            "tags": []
          }
        }
      ]
    },
    {
      "cell_type": "markdown",
      "metadata": {
        "id": "Y7kvEw7MA7v0"
      },
      "source": [
        "### Variável classRisco x qtdContratos"
      ]
    },
    {
      "cell_type": "code",
      "metadata": {
        "id": "zHpBZPZEA7v1",
        "outputId": "666ec4a8-bd84-4b14-b821-833dc15ed620"
      },
      "source": [
        "plt.subplots(figsize=(5,5))\n",
        "sns.boxplot(y= dados['qtdContratos'],\n",
        "           x= dados['classRisco'])\n",
        "plt.show()"
      ],
      "execution_count": null,
      "outputs": [
        {
          "output_type": "display_data",
          "data": {
            "image/png": "[encoded data removed]",
            "text/plain": [
              "<Figure size 360x360 with 1 Axes>"
            ]
          },
          "metadata": {
            "tags": []
          }
        }
      ]
    },
    {
      "cell_type": "markdown",
      "metadata": {
        "id": "GuqPx-xyA7v5"
      },
      "source": [
        "### Variável classRisco x qtdOcorrencias"
      ]
    },
    {
      "cell_type": "code",
      "metadata": {
        "id": "jVdok1bqA7v6",
        "outputId": "3f9b771b-8b2d-4033-827c-0c2a5536b997"
      },
      "source": [
        "plt.subplots(figsize=(5,5))\n",
        "sns.boxplot(y= dados['qtdOcorrencias'],\n",
        "           x= dados['classRisco'])\n",
        "plt.show()"
      ],
      "execution_count": null,
      "outputs": [
        {
          "output_type": "display_data",
          "data": {
            "image/png": "[encoded data removed]",
            "text/plain": [
              "<Figure size 360x360 with 1 Axes>"
            ]
          },
          "metadata": {
            "tags": []
          }
        }
      ]
    },
    {
      "cell_type": "markdown",
      "metadata": {
        "id": "GlRd5VT2A7v9"
      },
      "source": [
        "### Variável classRisco x porte_id"
      ]
    },
    {
      "cell_type": "code",
      "metadata": {
        "id": "Fke9V-ItA7v-",
        "outputId": "09930059-6318-4a0f-c87c-ceb61f3bf469"
      },
      "source": [
        "plt.subplots(figsize=(5,5))\n",
        "sns.barplot(y= dados['porte_id'],\n",
        "           x= dados['classRisco'])\n",
        "plt.show()"
      ],
      "execution_count": null,
      "outputs": [
        {
          "output_type": "display_data",
          "data": {
            "image/png": "[encoded data removed]",
            "text/plain": [
              "<Figure size 360x360 with 1 Axes>"
            ]
          },
          "metadata": {
            "tags": []
          }
        }
      ]
    },
    {
      "cell_type": "markdown",
      "metadata": {
        "id": "qpRSNdDBA7wB"
      },
      "source": [
        "# Separar variáveis explicativas de target"
      ]
    },
    {
      "cell_type": "markdown",
      "metadata": {
        "id": "CqNPvO46A7wB"
      },
      "source": [
        "## Verificar nomes das colunas"
      ]
    },
    {
      "cell_type": "code",
      "metadata": {
        "id": "mpo_0AYnA7wC",
        "outputId": "b7973555-b5a4-484b-bc1f-2a1be2940928"
      },
      "source": [
        "dados.columns"
      ],
      "execution_count": null,
      "outputs": [
        {
          "output_type": "execute_result",
          "data": {
            "text/plain": [
              "Index(['numeroCNAESecundarios', 'tempoExistencia', 'qtdContratos',\n",
              "       'qtdOcorrencias', 'totalVenda', 'classRisco', 'porte_id',\n",
              "       'classRisco2'],\n",
              "      dtype='object')"
            ]
          },
          "metadata": {
            "tags": []
          },
          "execution_count": 47
        }
      ]
    },
    {
      "cell_type": "markdown",
      "metadata": {
        "id": "IWgG26SVA7wE"
      },
      "source": [
        "## Criar  explicativas"
      ]
    },
    {
      "cell_type": "code",
      "metadata": {
        "id": "wqEpwtbWA7wE",
        "outputId": "638e052b-6ac7-4aa4-b704-7ec1102eb755"
      },
      "source": [
        "expl = dados.drop(columns=['classRisco','classRisco2'], axis=1)\n",
        "expl.head()"
      ],
      "execution_count": null,
      "outputs": [
        {
          "output_type": "execute_result",
          "data": {
            "text/html": [
              "<div>\n",
              "<style scoped>\n",
              "    .dataframe tbody tr th:only-of-type {\n",
              "        vertical-align: middle;\n",
              "    }\n",
              "\n",
              "    .dataframe tbody tr th {\n",
              "        vertical-align: top;\n",
              "    }\n",
              "\n",
              "    .dataframe thead th {\n",
              "        text-align: right;\n",
              "    }\n",
              "</style>\n",
              "<table border=\"1\" class=\"dataframe\">\n",
              "  <thead>\n",
              "    <tr style=\"text-align: right;\">\n",
              "      <th></th>\n",
              "      <th>numeroCNAESecundarios</th>\n",
              "      <th>tempoExistencia</th>\n",
              "      <th>qtdContratos</th>\n",
              "      <th>qtdOcorrencias</th>\n",
              "      <th>totalVenda</th>\n",
              "      <th>porte_id</th>\n",
              "    </tr>\n",
              "  </thead>\n",
              "  <tbody>\n",
              "    <tr>\n",
              "      <th>0</th>\n",
              "      <td>1</td>\n",
              "      <td>1077</td>\n",
              "      <td>1</td>\n",
              "      <td>1</td>\n",
              "      <td>800.00</td>\n",
              "      <td>1</td>\n",
              "    </tr>\n",
              "    <tr>\n",
              "      <th>3</th>\n",
              "      <td>6</td>\n",
              "      <td>712</td>\n",
              "      <td>1</td>\n",
              "      <td>1</td>\n",
              "      <td>910.00</td>\n",
              "      <td>1</td>\n",
              "    </tr>\n",
              "    <tr>\n",
              "      <th>6</th>\n",
              "      <td>3</td>\n",
              "      <td>1601</td>\n",
              "      <td>1</td>\n",
              "      <td>3</td>\n",
              "      <td>1495.00</td>\n",
              "      <td>1</td>\n",
              "    </tr>\n",
              "    <tr>\n",
              "      <th>31</th>\n",
              "      <td>12</td>\n",
              "      <td>126</td>\n",
              "      <td>1</td>\n",
              "      <td>1</td>\n",
              "      <td>1258.89</td>\n",
              "      <td>1</td>\n",
              "    </tr>\n",
              "    <tr>\n",
              "      <th>37</th>\n",
              "      <td>9</td>\n",
              "      <td>279</td>\n",
              "      <td>1</td>\n",
              "      <td>4</td>\n",
              "      <td>4050.00</td>\n",
              "      <td>1</td>\n",
              "    </tr>\n",
              "  </tbody>\n",
              "</table>\n",
              "<p>5 rows × 6 columns</p>\n",
              "</div>"
            ],
            "text/plain": [
              "    numeroCNAESecundarios  tempoExistencia  qtdContratos  qtdOcorrencias  \\\n",
              "0                       1             1077             1               1   \n",
              "3                       6              712             1               1   \n",
              "6                       3             1601             1               3   \n",
              "31                     12              126             1               1   \n",
              "37                      9              279             1               4   \n",
              "\n",
              "    totalVenda  porte_id  \n",
              "0       800.00         1  \n",
              "3       910.00         1  \n",
              "6      1495.00         1  \n",
              "31     1258.89         1  \n",
              "37     4050.00         1  \n",
              "\n",
              "[5 rows x 6 columns]"
            ]
          },
          "metadata": {
            "tags": []
          },
          "execution_count": 48
        }
      ]
    },
    {
      "cell_type": "markdown",
      "metadata": {
        "id": "_7vBBi4RA7wH"
      },
      "source": [
        "## Criar target"
      ]
    },
    {
      "cell_type": "code",
      "metadata": {
        "id": "gpOn6Yl0A7wH",
        "outputId": "29a12167-67e6-44b5-9558-6d6bbe23b40f"
      },
      "source": [
        "target = dados['classRisco2']\n",
        "target.head()"
      ],
      "execution_count": null,
      "outputs": [
        {
          "output_type": "execute_result",
          "data": {
            "text/plain": [
              "0     1\n",
              "3     1\n",
              "6     1\n",
              "31    1\n",
              "37    1\n",
              "Name: classRisco2, Length: 5, dtype: int32"
            ]
          },
          "metadata": {
            "tags": []
          },
          "execution_count": 49
        }
      ]
    },
    {
      "cell_type": "markdown",
      "metadata": {
        "id": "t4jNARUQA7wK"
      },
      "source": [
        "# Separar conjunto de treino de conjunto de teste"
      ]
    },
    {
      "cell_type": "markdown",
      "metadata": {
        "id": "BCWl0yY3A7wK"
      },
      "source": [
        "## Importar biblioteca"
      ]
    },
    {
      "cell_type": "code",
      "metadata": {
        "id": "Li-KVQ_HA7wM"
      },
      "source": [
        "from sklearn.model_selection import train_test_split"
      ],
      "execution_count": null,
      "outputs": []
    },
    {
      "cell_type": "markdown",
      "metadata": {
        "id": "GEouEfXhA7wP"
      },
      "source": [
        "## Separar conjunto de treino de conjunto de teste"
      ]
    },
    {
      "cell_type": "code",
      "metadata": {
        "id": "t-GPaKMvA7wP"
      },
      "source": [
        "x_treino, x_teste, y_treino, y_teste = train_test_split(expl,\n",
        "                                                       target,\n",
        "                                                       test_size=0.3,\n",
        "                                                       random_state=42)"
      ],
      "execution_count": null,
      "outputs": []
    },
    {
      "cell_type": "markdown",
      "metadata": {
        "id": "WZ6K7QaBA7wT"
      },
      "source": [
        "## Verificação de x_treino"
      ]
    },
    {
      "cell_type": "code",
      "metadata": {
        "id": "LcQnI5yzA7wT",
        "outputId": "ada140e3-0c79-411f-b669-bd422cf01b4f"
      },
      "source": [
        "x_treino.head()"
      ],
      "execution_count": null,
      "outputs": [
        {
          "output_type": "execute_result",
          "data": {
            "text/html": [
              "<div>\n",
              "<style scoped>\n",
              "    .dataframe tbody tr th:only-of-type {\n",
              "        vertical-align: middle;\n",
              "    }\n",
              "\n",
              "    .dataframe tbody tr th {\n",
              "        vertical-align: top;\n",
              "    }\n",
              "\n",
              "    .dataframe thead th {\n",
              "        text-align: right;\n",
              "    }\n",
              "</style>\n",
              "<table border=\"1\" class=\"dataframe\">\n",
              "  <thead>\n",
              "    <tr style=\"text-align: right;\">\n",
              "      <th></th>\n",
              "      <th>numeroCNAESecundarios</th>\n",
              "      <th>tempoExistencia</th>\n",
              "      <th>qtdContratos</th>\n",
              "      <th>qtdOcorrencias</th>\n",
              "      <th>totalVenda</th>\n",
              "      <th>porte_id</th>\n",
              "    </tr>\n",
              "  </thead>\n",
              "  <tbody>\n",
              "    <tr>\n",
              "      <th>79451</th>\n",
              "      <td>0</td>\n",
              "      <td>4897</td>\n",
              "      <td>3</td>\n",
              "      <td>0</td>\n",
              "      <td>7222764.00</td>\n",
              "      <td>0</td>\n",
              "    </tr>\n",
              "    <tr>\n",
              "      <th>75648</th>\n",
              "      <td>3</td>\n",
              "      <td>5366</td>\n",
              "      <td>520</td>\n",
              "      <td>37</td>\n",
              "      <td>191439034.90</td>\n",
              "      <td>0</td>\n",
              "    </tr>\n",
              "    <tr>\n",
              "      <th>3990</th>\n",
              "      <td>4</td>\n",
              "      <td>3921</td>\n",
              "      <td>1</td>\n",
              "      <td>0</td>\n",
              "      <td>10000.00</td>\n",
              "      <td>1</td>\n",
              "    </tr>\n",
              "    <tr>\n",
              "      <th>30578</th>\n",
              "      <td>7</td>\n",
              "      <td>1399</td>\n",
              "      <td>1</td>\n",
              "      <td>0</td>\n",
              "      <td>77208.00</td>\n",
              "      <td>0</td>\n",
              "    </tr>\n",
              "    <tr>\n",
              "      <th>47152</th>\n",
              "      <td>0</td>\n",
              "      <td>775</td>\n",
              "      <td>3</td>\n",
              "      <td>0</td>\n",
              "      <td>13950.73</td>\n",
              "      <td>1</td>\n",
              "    </tr>\n",
              "  </tbody>\n",
              "</table>\n",
              "<p>5 rows × 6 columns</p>\n",
              "</div>"
            ],
            "text/plain": [
              "       numeroCNAESecundarios  tempoExistencia  qtdContratos  qtdOcorrencias  \\\n",
              "79451                      0             4897             3               0   \n",
              "75648                      3             5366           520              37   \n",
              "3990                       4             3921             1               0   \n",
              "30578                      7             1399             1               0   \n",
              "47152                      0              775             3               0   \n",
              "\n",
              "        totalVenda  porte_id  \n",
              "79451   7222764.00         0  \n",
              "75648 191439034.90         0  \n",
              "3990      10000.00         1  \n",
              "30578     77208.00         0  \n",
              "47152     13950.73         1  \n",
              "\n",
              "[5 rows x 6 columns]"
            ]
          },
          "metadata": {
            "tags": []
          },
          "execution_count": 52
        }
      ]
    },
    {
      "cell_type": "markdown",
      "metadata": {
        "id": "iccesXStA7wX"
      },
      "source": [
        "## Verificação da quantidade de observações"
      ]
    },
    {
      "cell_type": "code",
      "metadata": {
        "id": "wfzM_OpVA7wX",
        "outputId": "8abef093-136f-469e-86d9-9309d5f0b337"
      },
      "source": [
        "print('Numero de observaçoes do treino:', len(x_treino))\n",
        "print('Numero de observaçoes da teste:',len(x_teste))"
      ],
      "execution_count": null,
      "outputs": [
        {
          "output_type": "stream",
          "text": [
            "Numero de observaçoes do treino: 8990\n",
            "Numero de observaçoes da teste: 3854\n"
          ],
          "name": "stdout"
        }
      ]
    },
    {
      "cell_type": "markdown",
      "metadata": {
        "id": "J1-PGOA0A7wb"
      },
      "source": [
        "# Seleção de Variáveis"
      ]
    },
    {
      "cell_type": "markdown",
      "metadata": {
        "id": "tFB_uPBHA7wb"
      },
      "source": [
        "## Método Filtro"
      ]
    },
    {
      "cell_type": "code",
      "metadata": {
        "id": "8cD6FGm9A7wc",
        "outputId": "6faa6810-e63f-4c5f-eabe-148b7f6cef38"
      },
      "source": [
        "from sklearn.feature_selection import SelectKBest\n",
        "from sklearn.feature_selection import chi2\n",
        "\n",
        "# chamada do objeto\n",
        "chi_selector = SelectKBest(chi2, k=5)\n",
        "\n",
        "# treinamento\n",
        "chi_selector.fit(expl, target)\n",
        "\n",
        "chi_support  = chi_selector.get_support()\n",
        "chi_feature = expl.loc[:,chi_support].columns.tolist()\n",
        "\n",
        "print(str(len(chi_feature)), ' Foram as variaveis selecionadas')\n",
        "print(chi_feature)"
      ],
      "execution_count": null,
      "outputs": [
        {
          "output_type": "stream",
          "text": [
            "5  Foram as variaveis selecionadas\n",
            "['numeroCNAESecundarios', 'tempoExistencia', 'qtdContratos', 'qtdOcorrencias', 'totalVenda']\n"
          ],
          "name": "stdout"
        }
      ]
    },
    {
      "cell_type": "markdown",
      "metadata": {
        "id": "Gg_ijrLwA7wh"
      },
      "source": [
        "## Método Wrapper\n",
        "Este método utiliza regressão logística para seleção de variáveis."
      ]
    },
    {
      "cell_type": "code",
      "metadata": {
        "id": "REovCFFWA7wh",
        "outputId": "b26e93bd-6e70-42c4-cab6-9e906dd1601a"
      },
      "source": [
        "from sklearn.feature_selection import RFE\n",
        "from sklearn.linear_model import LogisticRegression\n",
        "\n",
        "rfe_selector = RFE(estimator=LogisticRegression(random_state=42),\n",
        "                  step=10,\n",
        "                  n_features_to_select=5)\n",
        "\n",
        "rfe_selector.fit(expl, target)\n",
        "\n",
        "rfe_support = rfe_selector.get_support()\n",
        "rfe_feature = expl.loc[:,rfe_support].columns.tolist()\n",
        "\n",
        "print(str(len(rfe_feature)), ' Foram as variaveis selecionadas')\n",
        "print(rfe_feature)"
      ],
      "execution_count": null,
      "outputs": [
        {
          "output_type": "stream",
          "text": [
            "5  Foram as variaveis selecionadas\n",
            "['numeroCNAESecundarios', 'tempoExistencia', 'qtdContratos', 'qtdOcorrencias', 'totalVenda']\n"
          ],
          "name": "stdout"
        }
      ]
    },
    {
      "cell_type": "markdown",
      "metadata": {
        "id": "uPILbLtOA7wj"
      },
      "source": [
        "## Método Embedded"
      ]
    },
    {
      "cell_type": "code",
      "metadata": {
        "id": "ePLnO54gA7wk",
        "outputId": "72fea990-fae1-4123-ff4a-06b854e8eb70"
      },
      "source": [
        "from sklearn.feature_selection import SelectFromModel\n",
        "from sklearn.ensemble import RandomForestClassifier\n",
        "\n",
        "emb_selector = SelectFromModel(RandomForestClassifier(random_state=42))\n",
        "\n",
        "emb_selector.fit(expl, target)\n",
        "\n",
        "emb_support = emb_selector.get_support()\n",
        "emb_feature = expl.loc[:,emb_support].columns.tolist()\n",
        "\n",
        "print(str(len(emb_feature)), ' Foram as variaveis selecionadas')\n",
        "print(emb_feature)"
      ],
      "execution_count": null,
      "outputs": [
        {
          "output_type": "stream",
          "text": [
            "1  Foram as variaveis selecionadas\n",
            "['qtdOcorrencias']\n"
          ],
          "name": "stdout"
        }
      ]
    },
    {
      "cell_type": "markdown",
      "metadata": {
        "id": "0Ju1wg79A7wm"
      },
      "source": [
        "## Votação das variáveis selecionadas"
      ]
    },
    {
      "cell_type": "code",
      "metadata": {
        "id": "YnonlrkUA7wn",
        "outputId": "09ad8836-4ca6-450d-a2f8-241917dd1e6c"
      },
      "source": [
        "feature_selection_df = pd.DataFrame({'Variáveis': expl.columns,\n",
        "                                    'Chi-2':chi_support,\n",
        "                                    'RFE': rfe_support,\n",
        "                                    'RandomForest':emb_support})\n",
        "\n",
        "feature_selection_df['Total'] = np.sum(feature_selection_df, axis=1)\n",
        "\n",
        "# printar as top vars que foram selecionadas\n",
        "\n",
        "feature_selection_df = feature_selection_df.sort_values(['Total','Variáveis'],\n",
        "                                                       ascending=False)\n",
        "\n",
        "feature_selection_df"
      ],
      "execution_count": null,
      "outputs": [
        {
          "output_type": "execute_result",
          "data": {
            "text/html": [
              "<div>\n",
              "<style scoped>\n",
              "    .dataframe tbody tr th:only-of-type {\n",
              "        vertical-align: middle;\n",
              "    }\n",
              "\n",
              "    .dataframe tbody tr th {\n",
              "        vertical-align: top;\n",
              "    }\n",
              "\n",
              "    .dataframe thead th {\n",
              "        text-align: right;\n",
              "    }\n",
              "</style>\n",
              "<table border=\"1\" class=\"dataframe\">\n",
              "  <thead>\n",
              "    <tr style=\"text-align: right;\">\n",
              "      <th></th>\n",
              "      <th>Variáveis</th>\n",
              "      <th>Chi-2</th>\n",
              "      <th>RFE</th>\n",
              "      <th>RandomForest</th>\n",
              "      <th>Total</th>\n",
              "    </tr>\n",
              "  </thead>\n",
              "  <tbody>\n",
              "    <tr>\n",
              "      <th>3</th>\n",
              "      <td>qtdOcorrencias</td>\n",
              "      <td>True</td>\n",
              "      <td>True</td>\n",
              "      <td>True</td>\n",
              "      <td>3</td>\n",
              "    </tr>\n",
              "    <tr>\n",
              "      <th>4</th>\n",
              "      <td>totalVenda</td>\n",
              "      <td>True</td>\n",
              "      <td>True</td>\n",
              "      <td>False</td>\n",
              "      <td>2</td>\n",
              "    </tr>\n",
              "    <tr>\n",
              "      <th>1</th>\n",
              "      <td>tempoExistencia</td>\n",
              "      <td>True</td>\n",
              "      <td>True</td>\n",
              "      <td>False</td>\n",
              "      <td>2</td>\n",
              "    </tr>\n",
              "    <tr>\n",
              "      <th>2</th>\n",
              "      <td>qtdContratos</td>\n",
              "      <td>True</td>\n",
              "      <td>True</td>\n",
              "      <td>False</td>\n",
              "      <td>2</td>\n",
              "    </tr>\n",
              "    <tr>\n",
              "      <th>0</th>\n",
              "      <td>numeroCNAESecundarios</td>\n",
              "      <td>True</td>\n",
              "      <td>True</td>\n",
              "      <td>False</td>\n",
              "      <td>2</td>\n",
              "    </tr>\n",
              "    <tr>\n",
              "      <th>5</th>\n",
              "      <td>porte_id</td>\n",
              "      <td>False</td>\n",
              "      <td>False</td>\n",
              "      <td>False</td>\n",
              "      <td>0</td>\n",
              "    </tr>\n",
              "  </tbody>\n",
              "</table>\n",
              "<p>6 rows × 5 columns</p>\n",
              "</div>"
            ],
            "text/plain": [
              "               Variáveis  Chi-2    RFE  RandomForest  Total\n",
              "3         qtdOcorrencias   True   True          True      3\n",
              "4             totalVenda   True   True         False      2\n",
              "1        tempoExistencia   True   True         False      2\n",
              "2           qtdContratos   True   True         False      2\n",
              "0  numeroCNAESecundarios   True   True         False      2\n",
              "5               porte_id  False  False         False      0\n",
              "\n",
              "[6 rows x 5 columns]"
            ]
          },
          "metadata": {
            "tags": []
          },
          "execution_count": 57
        }
      ]
    },
    {
      "cell_type": "markdown",
      "metadata": {
        "id": "hCK_A1ifA7wq"
      },
      "source": [
        "## Criação de banco de dados com variáveis selecionadas"
      ]
    },
    {
      "cell_type": "code",
      "metadata": {
        "id": "wa-UYHCEA7wq"
      },
      "source": [
        "# Criação de banco de dados com variáveis selecionadas\n",
        "expl_select = expl.drop(['porte_id'],axis=1)"
      ],
      "execution_count": null,
      "outputs": []
    },
    {
      "cell_type": "code",
      "metadata": {
        "id": "7UPrOvUdA7ws",
        "outputId": "165b1b30-ae80-4631-fb48-9497e293907a"
      },
      "source": [
        "expl_select.head()"
      ],
      "execution_count": null,
      "outputs": [
        {
          "output_type": "execute_result",
          "data": {
            "text/html": [
              "<div>\n",
              "<style scoped>\n",
              "    .dataframe tbody tr th:only-of-type {\n",
              "        vertical-align: middle;\n",
              "    }\n",
              "\n",
              "    .dataframe tbody tr th {\n",
              "        vertical-align: top;\n",
              "    }\n",
              "\n",
              "    .dataframe thead th {\n",
              "        text-align: right;\n",
              "    }\n",
              "</style>\n",
              "<table border=\"1\" class=\"dataframe\">\n",
              "  <thead>\n",
              "    <tr style=\"text-align: right;\">\n",
              "      <th></th>\n",
              "      <th>numeroCNAESecundarios</th>\n",
              "      <th>tempoExistencia</th>\n",
              "      <th>qtdContratos</th>\n",
              "      <th>qtdOcorrencias</th>\n",
              "      <th>totalVenda</th>\n",
              "    </tr>\n",
              "  </thead>\n",
              "  <tbody>\n",
              "    <tr>\n",
              "      <th>0</th>\n",
              "      <td>1</td>\n",
              "      <td>1077</td>\n",
              "      <td>1</td>\n",
              "      <td>1</td>\n",
              "      <td>800.00</td>\n",
              "    </tr>\n",
              "    <tr>\n",
              "      <th>3</th>\n",
              "      <td>6</td>\n",
              "      <td>712</td>\n",
              "      <td>1</td>\n",
              "      <td>1</td>\n",
              "      <td>910.00</td>\n",
              "    </tr>\n",
              "    <tr>\n",
              "      <th>6</th>\n",
              "      <td>3</td>\n",
              "      <td>1601</td>\n",
              "      <td>1</td>\n",
              "      <td>3</td>\n",
              "      <td>1495.00</td>\n",
              "    </tr>\n",
              "    <tr>\n",
              "      <th>31</th>\n",
              "      <td>12</td>\n",
              "      <td>126</td>\n",
              "      <td>1</td>\n",
              "      <td>1</td>\n",
              "      <td>1258.89</td>\n",
              "    </tr>\n",
              "    <tr>\n",
              "      <th>37</th>\n",
              "      <td>9</td>\n",
              "      <td>279</td>\n",
              "      <td>1</td>\n",
              "      <td>4</td>\n",
              "      <td>4050.00</td>\n",
              "    </tr>\n",
              "  </tbody>\n",
              "</table>\n",
              "<p>5 rows × 5 columns</p>\n",
              "</div>"
            ],
            "text/plain": [
              "    numeroCNAESecundarios  tempoExistencia  qtdContratos  qtdOcorrencias  \\\n",
              "0                       1             1077             1               1   \n",
              "3                       6              712             1               1   \n",
              "6                       3             1601             1               3   \n",
              "31                     12              126             1               1   \n",
              "37                      9              279             1               4   \n",
              "\n",
              "    totalVenda  \n",
              "0       800.00  \n",
              "3       910.00  \n",
              "6      1495.00  \n",
              "31     1258.89  \n",
              "37     4050.00  \n",
              "\n",
              "[5 rows x 5 columns]"
            ]
          },
          "metadata": {
            "tags": []
          },
          "execution_count": 59
        }
      ]
    },
    {
      "cell_type": "markdown",
      "metadata": {
        "id": "YIoYRZCJA7ww"
      },
      "source": [
        "# Separação em conjunto de treino e de teste"
      ]
    },
    {
      "cell_type": "code",
      "metadata": {
        "id": "t79XIbVjA7wx"
      },
      "source": [
        "from sklearn.model_selection import train_test_split"
      ],
      "execution_count": null,
      "outputs": []
    },
    {
      "cell_type": "code",
      "metadata": {
        "id": "xpTSmLCoA7w0"
      },
      "source": [
        "x_treino, x_teste, y_treino, y_teste = train_test_split(expl_select,\n",
        "                                                       target,\n",
        "                                                       test_size=0.3,\n",
        "                                                       random_state=42)"
      ],
      "execution_count": null,
      "outputs": []
    },
    {
      "cell_type": "code",
      "metadata": {
        "id": "_eMHzidVA7w2",
        "outputId": "d1face94-00db-4193-e64d-9a650207d390"
      },
      "source": [
        "x_treino.head()"
      ],
      "execution_count": null,
      "outputs": [
        {
          "output_type": "execute_result",
          "data": {
            "text/html": [
              "<div>\n",
              "<style scoped>\n",
              "    .dataframe tbody tr th:only-of-type {\n",
              "        vertical-align: middle;\n",
              "    }\n",
              "\n",
              "    .dataframe tbody tr th {\n",
              "        vertical-align: top;\n",
              "    }\n",
              "\n",
              "    .dataframe thead th {\n",
              "        text-align: right;\n",
              "    }\n",
              "</style>\n",
              "<table border=\"1\" class=\"dataframe\">\n",
              "  <thead>\n",
              "    <tr style=\"text-align: right;\">\n",
              "      <th></th>\n",
              "      <th>numeroCNAESecundarios</th>\n",
              "      <th>tempoExistencia</th>\n",
              "      <th>qtdContratos</th>\n",
              "      <th>qtdOcorrencias</th>\n",
              "      <th>totalVenda</th>\n",
              "    </tr>\n",
              "  </thead>\n",
              "  <tbody>\n",
              "    <tr>\n",
              "      <th>79451</th>\n",
              "      <td>0</td>\n",
              "      <td>4897</td>\n",
              "      <td>3</td>\n",
              "      <td>0</td>\n",
              "      <td>7222764.00</td>\n",
              "    </tr>\n",
              "    <tr>\n",
              "      <th>75648</th>\n",
              "      <td>3</td>\n",
              "      <td>5366</td>\n",
              "      <td>520</td>\n",
              "      <td>37</td>\n",
              "      <td>191439034.90</td>\n",
              "    </tr>\n",
              "    <tr>\n",
              "      <th>3990</th>\n",
              "      <td>4</td>\n",
              "      <td>3921</td>\n",
              "      <td>1</td>\n",
              "      <td>0</td>\n",
              "      <td>10000.00</td>\n",
              "    </tr>\n",
              "    <tr>\n",
              "      <th>30578</th>\n",
              "      <td>7</td>\n",
              "      <td>1399</td>\n",
              "      <td>1</td>\n",
              "      <td>0</td>\n",
              "      <td>77208.00</td>\n",
              "    </tr>\n",
              "    <tr>\n",
              "      <th>47152</th>\n",
              "      <td>0</td>\n",
              "      <td>775</td>\n",
              "      <td>3</td>\n",
              "      <td>0</td>\n",
              "      <td>13950.73</td>\n",
              "    </tr>\n",
              "  </tbody>\n",
              "</table>\n",
              "<p>5 rows × 5 columns</p>\n",
              "</div>"
            ],
            "text/plain": [
              "       numeroCNAESecundarios  tempoExistencia  qtdContratos  qtdOcorrencias  \\\n",
              "79451                      0             4897             3               0   \n",
              "75648                      3             5366           520              37   \n",
              "3990                       4             3921             1               0   \n",
              "30578                      7             1399             1               0   \n",
              "47152                      0              775             3               0   \n",
              "\n",
              "        totalVenda  \n",
              "79451   7222764.00  \n",
              "75648 191439034.90  \n",
              "3990      10000.00  \n",
              "30578     77208.00  \n",
              "47152     13950.73  \n",
              "\n",
              "[5 rows x 5 columns]"
            ]
          },
          "metadata": {
            "tags": []
          },
          "execution_count": 62
        }
      ]
    },
    {
      "cell_type": "code",
      "metadata": {
        "id": "pdAA1mIwA7w5",
        "outputId": "bb93ac2b-3580-42e8-dd7e-0a59f815424e"
      },
      "source": [
        "y_treino.value_counts() / len(y_treino)"
      ],
      "execution_count": null,
      "outputs": [
        {
          "output_type": "execute_result",
          "data": {
            "text/plain": [
              "0   0.50\n",
              "1   0.50\n",
              "Name: classRisco2, Length: 2, dtype: float64"
            ]
          },
          "metadata": {
            "tags": []
          },
          "execution_count": 63
        }
      ]
    },
    {
      "cell_type": "code",
      "metadata": {
        "id": "AwWhxwKJA7w6",
        "outputId": "d913fd2b-c53e-47af-9c5c-13afc8a44ae2"
      },
      "source": [
        "y_teste.value_counts() / len(y_teste)"
      ],
      "execution_count": null,
      "outputs": [
        {
          "output_type": "execute_result",
          "data": {
            "text/plain": [
              "1   0.51\n",
              "0   0.49\n",
              "Name: classRisco2, Length: 2, dtype: float64"
            ]
          },
          "metadata": {
            "tags": []
          },
          "execution_count": 64
        }
      ]
    },
    {
      "cell_type": "markdown",
      "metadata": {
        "id": "dhbU-k75A7w8"
      },
      "source": [
        "# Tuninng de hiperparâmetros\n",
        "Inicialmente, chamar o módulo de tuning.<br>\n",
        "Passo a passo <br>\n",
        "1 - definir um dict(dicionario com os valores dos hiperparams)<br>\n",
        "2 - chamar o modulo de tunning<br>\n",
        "3 - chamar obj do tunning<br>\n",
        "4 - treinamento<br>\n",
        "5 - avaliar os resultados"
      ]
    },
    {
      "cell_type": "markdown",
      "metadata": {
        "id": "p5_UBY7-A7w8"
      },
      "source": [
        "## Chamar o módulo de tuning"
      ]
    },
    {
      "cell_type": "code",
      "metadata": {
        "id": "ypXT_--KA7w8"
      },
      "source": [
        "from sklearn.model_selection import GridSearchCV"
      ],
      "execution_count": null,
      "outputs": []
    },
    {
      "cell_type": "markdown",
      "metadata": {
        "id": "bawnzO6qA7w-"
      },
      "source": [
        "## Random Forest"
      ]
    },
    {
      "cell_type": "markdown",
      "metadata": {
        "id": "Sm6ih9U9A7w_"
      },
      "source": [
        "### Criar dicionário com parâmetros a serem testados"
      ]
    },
    {
      "cell_type": "code",
      "metadata": {
        "id": "RghzwxRnA7w_",
        "outputId": "4547714f-2c01-460e-f9c8-7502eefd125e"
      },
      "source": [
        "#1\n",
        "rf_dict = {# nome do dicionário que está sendo criado.\n",
        "    'n_estimators':[50,100,200,300,800,1000],   # numero de estimadores que será testado. Quanto maior, mais exige poder computacional.\n",
        "    'criterion':['gini', 'entropy'],   #  critérios\n",
        "    'bootstrap':[False, True],  # Faz amostragem com e sem reposição.\n",
        "    'random_state': [196]\n",
        "}\n",
        "\n",
        "rf_dict"
      ],
      "execution_count": null,
      "outputs": [
        {
          "output_type": "execute_result",
          "data": {
            "text/plain": [
              "{'n_estimators': [50, 100, 200, 300, 800, 1000],\n",
              " 'criterion': ['gini', 'entropy'],\n",
              " 'bootstrap': [False, True],\n",
              " 'random_state': [196]}"
            ]
          },
          "metadata": {
            "tags": []
          },
          "execution_count": 66
        }
      ]
    },
    {
      "cell_type": "markdown",
      "metadata": {
        "id": "zDv-PGpzA7xC"
      },
      "source": [
        "### Importar biblioteca de RandomForestClassifier"
      ]
    },
    {
      "cell_type": "code",
      "metadata": {
        "id": "3NB7jtkHA7xC"
      },
      "source": [
        "from sklearn.ensemble import RandomForestClassifier"
      ],
      "execution_count": null,
      "outputs": []
    },
    {
      "cell_type": "markdown",
      "metadata": {
        "id": "xU4Qk9SRA7xD"
      },
      "source": [
        "### Chamar o objeto de tuning"
      ]
    },
    {
      "cell_type": "code",
      "metadata": {
        "id": "sK-cQTVVA7xE",
        "outputId": "a8bc6f79-99ef-4d61-9f76-3fed2f45443c"
      },
      "source": [
        "rf = RandomForestClassifier(random_state=42)\n",
        "rf"
      ],
      "execution_count": null,
      "outputs": [
        {
          "output_type": "execute_result",
          "data": {
            "text/plain": [
              "RandomForestClassifier(bootstrap=True, ccp_alpha=0.0, class_weight=None,\n",
              "                       criterion='gini', max_depth=None, max_features='auto',\n",
              "                       max_leaf_nodes=None, max_samples=None,\n",
              "                       min_impurity_decrease=0.0, min_impurity_split=None,\n",
              "                       min_samples_leaf=1, min_samples_split=2,\n",
              "                       min_weight_fraction_leaf=0.0, n_estimators=100,\n",
              "                       n_jobs=None, oob_score=False, random_state=42, verbose=0,\n",
              "                       warm_start=False)"
            ]
          },
          "metadata": {
            "tags": []
          },
          "execution_count": 68
        }
      ]
    },
    {
      "cell_type": "markdown",
      "metadata": {
        "id": "KqkL-HgKA7xH"
      },
      "source": [
        "### Fazer validação cruzada"
      ]
    },
    {
      "cell_type": "code",
      "metadata": {
        "id": "gTBFeJ9FA7xH",
        "outputId": "841c7b1a-9e6c-4413-a1da-087bc20a0021"
      },
      "source": [
        "#3\n",
        "rf_grid = GridSearchCV(estimator=rf,       # parametro a ser utilizado. No caso, random forestt\n",
        "                      param_grid=rf_dict,  # nome do dicionario com parametros\n",
        "                      scoring='accuracy',  # parametro de validação: acurácia\n",
        "                      cv=10,\n",
        "                      n_jobs=-1)               # numero de partições do conjunto de treino a ser feita na validação cruzada (k-fold)\n",
        "\n",
        "rf_grid"
      ],
      "execution_count": null,
      "outputs": [
        {
          "output_type": "execute_result",
          "data": {
            "text/plain": [
              "GridSearchCV(cv=10, error_score=nan,\n",
              "             estimator=RandomForestClassifier(bootstrap=True, ccp_alpha=0.0,\n",
              "                                              class_weight=None,\n",
              "                                              criterion='gini', max_depth=None,\n",
              "                                              max_features='auto',\n",
              "                                              max_leaf_nodes=None,\n",
              "                                              max_samples=None,\n",
              "                                              min_impurity_decrease=0.0,\n",
              "                                              min_impurity_split=None,\n",
              "                                              min_samples_leaf=1,\n",
              "                                              min_samples_split=2,\n",
              "                                              min_weight_fraction_leaf=0.0,\n",
              "                                              n_estimators=100, n_jobs=None,\n",
              "                                              oob_score=False, random_state=42,\n",
              "                                              verbose=0, warm_start=False),\n",
              "             iid='deprecated', n_jobs=-1,\n",
              "             param_grid={'bootstrap': [False, True],\n",
              "                         'criterion': ['gini', 'entropy'],\n",
              "                         'n_estimators': [50, 100, 200, 300, 800, 1000],\n",
              "                         'random_state': [196]},\n",
              "             pre_dispatch='2*n_jobs', refit=True, return_train_score=False,\n",
              "             scoring='accuracy', verbose=0)"
            ]
          },
          "metadata": {
            "tags": []
          },
          "execution_count": 69
        }
      ]
    },
    {
      "cell_type": "markdown",
      "metadata": {
        "id": "DV8ZuwuJA7xJ"
      },
      "source": [
        "### Treinar o modelo"
      ]
    },
    {
      "cell_type": "code",
      "metadata": {
        "id": "h0KS64pVA7xJ",
        "outputId": "727a4a47-1611-44ff-ce92-cd2f2f24cbf1"
      },
      "source": [
        "#4\n",
        "rf_grid.fit(x_treino, y_treino)"
      ],
      "execution_count": null,
      "outputs": [
        {
          "output_type": "execute_result",
          "data": {
            "text/plain": [
              "GridSearchCV(cv=10, error_score=nan,\n",
              "             estimator=RandomForestClassifier(bootstrap=True, ccp_alpha=0.0,\n",
              "                                              class_weight=None,\n",
              "                                              criterion='gini', max_depth=None,\n",
              "                                              max_features='auto',\n",
              "                                              max_leaf_nodes=None,\n",
              "                                              max_samples=None,\n",
              "                                              min_impurity_decrease=0.0,\n",
              "                                              min_impurity_split=None,\n",
              "                                              min_samples_leaf=1,\n",
              "                                              min_samples_split=2,\n",
              "                                              min_weight_fraction_leaf=0.0,\n",
              "                                              n_estimators=100, n_jobs=None,\n",
              "                                              oob_score=False, random_state=42,\n",
              "                                              verbose=0, warm_start=False),\n",
              "             iid='deprecated', n_jobs=-1,\n",
              "             param_grid={'bootstrap': [False, True],\n",
              "                         'criterion': ['gini', 'entropy'],\n",
              "                         'n_estimators': [50, 100, 200, 300, 800, 1000],\n",
              "                         'random_state': [196]},\n",
              "             pre_dispatch='2*n_jobs', refit=True, return_train_score=False,\n",
              "             scoring='accuracy', verbose=0)"
            ]
          },
          "metadata": {
            "tags": []
          },
          "execution_count": 70
        }
      ]
    },
    {
      "cell_type": "markdown",
      "metadata": {
        "id": "mRDUoWXtA7xK"
      },
      "source": [
        "### Mostrar os melhores parâmetros"
      ]
    },
    {
      "cell_type": "code",
      "metadata": {
        "id": "c-cUXae8A7xL",
        "outputId": "8b559f46-96f4-4029-b2be-d7c72db43ff1"
      },
      "source": [
        "#5\n",
        "rf_grid.best_params_"
      ],
      "execution_count": null,
      "outputs": [
        {
          "output_type": "execute_result",
          "data": {
            "text/plain": [
              "{'bootstrap': True,\n",
              " 'criterion': 'entropy',\n",
              " 'n_estimators': 100,\n",
              " 'random_state': 196}"
            ]
          },
          "metadata": {
            "tags": []
          },
          "execution_count": 71
        }
      ]
    },
    {
      "cell_type": "markdown",
      "metadata": {
        "id": "srE8NljBA7xM"
      },
      "source": [
        "### Mostrar o melhor score"
      ]
    },
    {
      "cell_type": "code",
      "metadata": {
        "id": "--F4QdX8A7xM",
        "outputId": "1ecc74b6-893b-495b-e85f-dbd324f680c1"
      },
      "source": [
        "rf_grid.best_score_"
      ],
      "execution_count": null,
      "outputs": [
        {
          "output_type": "execute_result",
          "data": {
            "text/plain": [
              "0.921134593993326"
            ]
          },
          "metadata": {
            "tags": []
          },
          "execution_count": 96
        }
      ]
    },
    {
      "cell_type": "markdown",
      "metadata": {
        "id": "zOagxxeGA7xO"
      },
      "source": [
        "### Calcular acurácia"
      ]
    },
    {
      "cell_type": "markdown",
      "metadata": {
        "id": "uLHiwNt1A7xP"
      },
      "source": [
        "#### Importar as bibliotecas"
      ]
    },
    {
      "cell_type": "code",
      "metadata": {
        "id": "NZ-KXwJEA7xP"
      },
      "source": [
        "from sklearn.metrics import accuracy_score\n",
        "from sklearn.metrics import confusion_matrix"
      ],
      "execution_count": null,
      "outputs": []
    },
    {
      "cell_type": "markdown",
      "metadata": {
        "id": "IOQOr2a_A7xU"
      },
      "source": [
        "#### Calcular acurácia"
      ]
    },
    {
      "cell_type": "markdown",
      "metadata": {
        "id": "dxbUAP_VA7xU"
      },
      "source": [
        "##### Cálculo da acurácia de treino"
      ]
    },
    {
      "cell_type": "code",
      "metadata": {
        "id": "JemF_hHfA7xV"
      },
      "source": [
        "acc_rf_grid_treino = accuracy_score(y_treino, rf_grid.predict(x_treino))"
      ],
      "execution_count": null,
      "outputs": []
    },
    {
      "cell_type": "markdown",
      "metadata": {
        "id": "RTHg1FPhA7xX"
      },
      "source": [
        "##### Cálculo da acurácia de teste"
      ]
    },
    {
      "cell_type": "code",
      "metadata": {
        "id": "lQl-qfksA7xX"
      },
      "source": [
        "acc_rf_grid_teste = accuracy_score(y_teste, rf_grid.predict(x_teste))"
      ],
      "execution_count": null,
      "outputs": []
    },
    {
      "cell_type": "markdown",
      "metadata": {
        "id": "DRyubVrDA7xZ"
      },
      "source": [
        "#### Mostrar acurácia"
      ]
    },
    {
      "cell_type": "code",
      "metadata": {
        "id": "wMa7YQVVA7xZ",
        "outputId": "91ad7ac5-85d4-4b42-9aa7-26ee5df3bd1c"
      },
      "source": [
        "print('Acuracia de treino:', acc_rf_grid_treino)\n",
        "print('Acuracia de teste:', acc_rf_grid_teste)"
      ],
      "execution_count": null,
      "outputs": [
        {
          "output_type": "stream",
          "text": [
            "Acuracia de treino: 1.0\n",
            "Acuracia de teste: 0.9174883238194084\n"
          ],
          "name": "stdout"
        }
      ]
    },
    {
      "cell_type": "code",
      "metadata": {
        "id": "qUxrZTDbA7xd",
        "outputId": "c09a4318-20ec-4c41-ddf6-5c462862532b"
      },
      "source": [
        "confusion_matrix(y_treino, rf_grid.predict(x_treino))"
      ],
      "execution_count": null,
      "outputs": [
        {
          "output_type": "execute_result",
          "data": {
            "text/plain": [
              "array([[4522,    0],\n",
              "       [   0, 4468]], dtype=int64)"
            ]
          },
          "metadata": {
            "tags": []
          },
          "execution_count": 101
        }
      ]
    },
    {
      "cell_type": "code",
      "metadata": {
        "id": "75YyQEJVA7xf",
        "outputId": "8835d8eb-22e1-4e96-bfed-8615311cfdf5"
      },
      "source": [
        "expl.columns"
      ],
      "execution_count": null,
      "outputs": [
        {
          "output_type": "execute_result",
          "data": {
            "text/plain": [
              "Index(['numeroCNAESecundarios', 'tempoExistencia', 'qtdContratos',\n",
              "       'qtdOcorrencias', 'totalVenda', 'porte_id'],\n",
              "      dtype='object')"
            ]
          },
          "metadata": {
            "tags": []
          },
          "execution_count": 87
        }
      ]
    },
    {
      "cell_type": "code",
      "metadata": {
        "id": "ZzflpDElA7xh"
      },
      "source": [
        "# rf_grid.feature_importance"
      ],
      "execution_count": null,
      "outputs": []
    },
    {
      "cell_type": "markdown",
      "metadata": {
        "id": "R2nZCnFxA7xj"
      },
      "source": [
        "## Gradient Boosting"
      ]
    },
    {
      "cell_type": "markdown",
      "metadata": {
        "id": "DltxRbKZA7xl"
      },
      "source": [
        "### Criar dicionário com parâmetros a serem testados"
      ]
    },
    {
      "cell_type": "code",
      "metadata": {
        "id": "MdPeFpIUA7xl",
        "outputId": "4d51838e-9ced-4859-e91a-fe6e474d9fa1"
      },
      "source": [
        "#1\n",
        "gb_dict = { \n",
        "    'n_estimators': [10,30,50],\n",
        "    \"max_features\":[\"log2\",\"sqrt\"],\n",
        "    \"criterion\": [\"friedman_mse\", \"mae\"],\n",
        "        'random_state': [42]\n",
        "}\n",
        "\n",
        "gb_dict"
      ],
      "execution_count": null,
      "outputs": [
        {
          "output_type": "execute_result",
          "data": {
            "text/plain": [
              "{'n_estimators': [10, 30, 50],\n",
              " 'max_features': ['log2', 'sqrt'],\n",
              " 'criterion': ['friedman_mse', 'mae'],\n",
              " 'random_state': [42]}"
            ]
          },
          "metadata": {
            "tags": []
          },
          "execution_count": 157
        }
      ]
    },
    {
      "cell_type": "markdown",
      "metadata": {
        "id": "OJTuWQKbA7xn"
      },
      "source": [
        "### Importar biblioteca do GradientBoostingClassifier"
      ]
    },
    {
      "cell_type": "code",
      "metadata": {
        "id": "yQn9CLsJA7xo"
      },
      "source": [
        "#2\n",
        "from sklearn.ensemble import GradientBoostingClassifier"
      ],
      "execution_count": null,
      "outputs": []
    },
    {
      "cell_type": "markdown",
      "metadata": {
        "id": "UK9YFwXpA7xq"
      },
      "source": [
        "### Chamar o objeto de tuning"
      ]
    },
    {
      "cell_type": "code",
      "metadata": {
        "id": "jH5nStxCA7xq",
        "outputId": "937d4a73-e1e5-4561-f40c-ee6d6f59eb7a"
      },
      "source": [
        "gb = GradientBoostingClassifier(random_state=42)\n",
        "gb"
      ],
      "execution_count": null,
      "outputs": [
        {
          "output_type": "execute_result",
          "data": {
            "text/plain": [
              "GradientBoostingClassifier(ccp_alpha=0.0, criterion='friedman_mse', init=None,\n",
              "                           learning_rate=0.1, loss='deviance', max_depth=3,\n",
              "                           max_features=None, max_leaf_nodes=None,\n",
              "                           min_impurity_decrease=0.0, min_impurity_split=None,\n",
              "                           min_samples_leaf=1, min_samples_split=2,\n",
              "                           min_weight_fraction_leaf=0.0, n_estimators=100,\n",
              "                           n_iter_no_change=None, presort='deprecated',\n",
              "                           random_state=42, subsample=1.0, tol=0.0001,\n",
              "                           validation_fraction=0.1, verbose=0,\n",
              "                           warm_start=False)"
            ]
          },
          "metadata": {
            "tags": []
          },
          "execution_count": 159
        }
      ]
    },
    {
      "cell_type": "markdown",
      "metadata": {
        "id": "3Hh8mBkcA7xs"
      },
      "source": [
        "### Fazer validação cruzada"
      ]
    },
    {
      "cell_type": "code",
      "metadata": {
        "id": "-_v_MDCiA7xs",
        "outputId": "810a494a-b761-4c42-e019-4528ba365b46"
      },
      "source": [
        "gb_grid = GridSearchCV(estimator=gb,       # parametro a ser utilizado. No caso, gradient boosting\n",
        "                      param_grid=gb_dict,  # nome do dicionario com parametros\n",
        "                      scoring='accuracy',  # parametro de validação: acurácia\n",
        "                      cv=10,                # numero de partições do conjunto de treino a ser feita na validação cruzada (k-fold)\n",
        "                      n_jobs=-1)              \n",
        "gb_grid"
      ],
      "execution_count": null,
      "outputs": [
        {
          "output_type": "execute_result",
          "data": {
            "text/plain": [
              "GridSearchCV(cv=10, error_score=nan,\n",
              "             estimator=GradientBoostingClassifier(ccp_alpha=0.0,\n",
              "                                                  criterion='friedman_mse',\n",
              "                                                  init=None, learning_rate=0.1,\n",
              "                                                  loss='deviance', max_depth=3,\n",
              "                                                  max_features=None,\n",
              "                                                  max_leaf_nodes=None,\n",
              "                                                  min_impurity_decrease=0.0,\n",
              "                                                  min_impurity_split=None,\n",
              "                                                  min_samples_leaf=1,\n",
              "                                                  min_samples_split=2,\n",
              "                                                  min_weight_fraction_leaf=0.0,\n",
              "                                                  n_estimators=100,\n",
              "                                                  n_iter_no_...\n",
              "                                                  presort='deprecated',\n",
              "                                                  random_state=42,\n",
              "                                                  subsample=1.0, tol=0.0001,\n",
              "                                                  validation_fraction=0.1,\n",
              "                                                  verbose=0, warm_start=False),\n",
              "             iid='deprecated', n_jobs=-1,\n",
              "             param_grid={'criterion': ['friedman_mse', 'mae'],\n",
              "                         'max_features': ['log2', 'sqrt'],\n",
              "                         'n_estimators': [10, 30, 50], 'random_state': [42]},\n",
              "             pre_dispatch='2*n_jobs', refit=True, return_train_score=False,\n",
              "             scoring='accuracy', verbose=0)"
            ]
          },
          "metadata": {
            "tags": []
          },
          "execution_count": 160
        }
      ]
    },
    {
      "cell_type": "markdown",
      "metadata": {
        "id": "H-4Co285A7xt"
      },
      "source": [
        "### Treinar o modelo"
      ]
    },
    {
      "cell_type": "code",
      "metadata": {
        "id": "sfOuQjyPA7xt",
        "outputId": "48b126e8-fc06-4746-9ec4-aa941be660a0"
      },
      "source": [
        "#4\n",
        "gb_grid.fit(x_treino, y_treino)"
      ],
      "execution_count": null,
      "outputs": [
        {
          "output_type": "execute_result",
          "data": {
            "text/plain": [
              "GridSearchCV(cv=10, error_score=nan,\n",
              "             estimator=GradientBoostingClassifier(ccp_alpha=0.0,\n",
              "                                                  criterion='friedman_mse',\n",
              "                                                  init=None, learning_rate=0.1,\n",
              "                                                  loss='deviance', max_depth=3,\n",
              "                                                  max_features=None,\n",
              "                                                  max_leaf_nodes=None,\n",
              "                                                  min_impurity_decrease=0.0,\n",
              "                                                  min_impurity_split=None,\n",
              "                                                  min_samples_leaf=1,\n",
              "                                                  min_samples_split=2,\n",
              "                                                  min_weight_fraction_leaf=0.0,\n",
              "                                                  n_estimators=100,\n",
              "                                                  n_iter_no_...\n",
              "                                                  presort='deprecated',\n",
              "                                                  random_state=42,\n",
              "                                                  subsample=1.0, tol=0.0001,\n",
              "                                                  validation_fraction=0.1,\n",
              "                                                  verbose=0, warm_start=False),\n",
              "             iid='deprecated', n_jobs=-1,\n",
              "             param_grid={'criterion': ['friedman_mse', 'mae'],\n",
              "                         'max_features': ['log2', 'sqrt'],\n",
              "                         'n_estimators': [10, 30, 50], 'random_state': [42]},\n",
              "             pre_dispatch='2*n_jobs', refit=True, return_train_score=False,\n",
              "             scoring='accuracy', verbose=0)"
            ]
          },
          "metadata": {
            "tags": []
          },
          "execution_count": 161
        }
      ]
    },
    {
      "cell_type": "markdown",
      "metadata": {
        "id": "xKNjhAOeA7xv"
      },
      "source": [
        "### Mostrar os melhores parâmetros"
      ]
    },
    {
      "cell_type": "code",
      "metadata": {
        "id": "kbwDp5tTA7xv",
        "outputId": "3f2c5d42-69d4-4a43-ccf2-23c57ab910eb"
      },
      "source": [
        "gb_grid.best_params_"
      ],
      "execution_count": null,
      "outputs": [
        {
          "output_type": "execute_result",
          "data": {
            "text/plain": [
              "{'criterion': 'mae',\n",
              " 'max_features': 'log2',\n",
              " 'n_estimators': 50,\n",
              " 'random_state': 42}"
            ]
          },
          "metadata": {
            "tags": []
          },
          "execution_count": 162
        }
      ]
    },
    {
      "cell_type": "markdown",
      "metadata": {
        "id": "QJ4pK0QaA7xw"
      },
      "source": [
        "### Mostrar o melhor score"
      ]
    },
    {
      "cell_type": "code",
      "metadata": {
        "id": "Y1o0oN-xA7xw",
        "outputId": "427ce2f5-f667-4980-86d6-fca0f60c3ddd"
      },
      "source": [
        "gb_grid.best_score_"
      ],
      "execution_count": null,
      "outputs": [
        {
          "output_type": "execute_result",
          "data": {
            "text/plain": [
              "0.9252502780867632"
            ]
          },
          "metadata": {
            "tags": []
          },
          "execution_count": 163
        }
      ]
    },
    {
      "cell_type": "markdown",
      "metadata": {
        "id": "95Nbg6FtA7xz"
      },
      "source": [
        "### Mostrar feature_importances_"
      ]
    },
    {
      "cell_type": "code",
      "metadata": {
        "id": "9DTtoW9mA7x0",
        "outputId": "f9405a62-bf37-44fe-a52c-f13e1f9536b5"
      },
      "source": [
        "gb_grid.best_estimator_.feature_importances_"
      ],
      "execution_count": null,
      "outputs": [
        {
          "output_type": "execute_result",
          "data": {
            "text/plain": [
              "array([0.030079  , 0.00599467, 0.12528376, 0.77094862, 0.06769395])"
            ]
          },
          "metadata": {
            "tags": []
          },
          "execution_count": 164
        }
      ]
    },
    {
      "cell_type": "markdown",
      "metadata": {
        "id": "Iav0_37bA7x1"
      },
      "source": [
        "### Mostrar colunas"
      ]
    },
    {
      "cell_type": "code",
      "metadata": {
        "id": "-UKh94QQA7x2",
        "outputId": "9b6137a8-7ca6-4ed4-9fbe-b5a3f15e6d1a"
      },
      "source": [
        "x_treino.columns"
      ],
      "execution_count": null,
      "outputs": [
        {
          "output_type": "execute_result",
          "data": {
            "text/plain": [
              "Index(['numeroCNAESecundarios', 'tempoExistencia', 'qtdContratos',\n",
              "       'qtdOcorrencias', 'totalVenda'],\n",
              "      dtype='object')"
            ]
          },
          "metadata": {
            "tags": []
          },
          "execution_count": 165
        }
      ]
    },
    {
      "cell_type": "markdown",
      "metadata": {
        "id": "b44duPvRA7x3"
      },
      "source": [
        "### Construir dataframe com feature importance"
      ]
    },
    {
      "cell_type": "code",
      "metadata": {
        "id": "NEq1V6r3A7x5",
        "outputId": "b788115b-1baf-4d06-ed87-5e59be3e7b1b"
      },
      "source": [
        "gb_feature_importance = pd.DataFrame(gb_grid.best_estimator_.feature_importances_, index= x_treino.columns)\n",
        "gb_feature_importance.head()"
      ],
      "execution_count": null,
      "outputs": [
        {
          "output_type": "execute_result",
          "data": {
            "text/html": [
              "<div>\n",
              "<style scoped>\n",
              "    .dataframe tbody tr th:only-of-type {\n",
              "        vertical-align: middle;\n",
              "    }\n",
              "\n",
              "    .dataframe tbody tr th {\n",
              "        vertical-align: top;\n",
              "    }\n",
              "\n",
              "    .dataframe thead th {\n",
              "        text-align: right;\n",
              "    }\n",
              "</style>\n",
              "<table border=\"1\" class=\"dataframe\">\n",
              "  <thead>\n",
              "    <tr style=\"text-align: right;\">\n",
              "      <th></th>\n",
              "      <th>0</th>\n",
              "    </tr>\n",
              "  </thead>\n",
              "  <tbody>\n",
              "    <tr>\n",
              "      <th>numeroCNAESecundarios</th>\n",
              "      <td>0.03</td>\n",
              "    </tr>\n",
              "    <tr>\n",
              "      <th>tempoExistencia</th>\n",
              "      <td>0.01</td>\n",
              "    </tr>\n",
              "    <tr>\n",
              "      <th>qtdContratos</th>\n",
              "      <td>0.13</td>\n",
              "    </tr>\n",
              "    <tr>\n",
              "      <th>qtdOcorrencias</th>\n",
              "      <td>0.77</td>\n",
              "    </tr>\n",
              "    <tr>\n",
              "      <th>totalVenda</th>\n",
              "      <td>0.07</td>\n",
              "    </tr>\n",
              "  </tbody>\n",
              "</table>\n",
              "<p>5 rows × 1 columns</p>\n",
              "</div>"
            ],
            "text/plain": [
              "                         0\n",
              "numeroCNAESecundarios 0.03\n",
              "tempoExistencia       0.01\n",
              "qtdContratos          0.13\n",
              "qtdOcorrencias        0.77\n",
              "totalVenda            0.07\n",
              "\n",
              "[5 rows x 1 columns]"
            ]
          },
          "metadata": {
            "tags": []
          },
          "execution_count": 166
        }
      ]
    },
    {
      "cell_type": "markdown",
      "metadata": {
        "id": "BRF8j6YvA7x8"
      },
      "source": [
        "### Calcular acurácia"
      ]
    },
    {
      "cell_type": "markdown",
      "metadata": {
        "id": "Lw6auIL2A7x8"
      },
      "source": [
        "#### Calcular acurácia"
      ]
    },
    {
      "cell_type": "markdown",
      "metadata": {
        "id": "ZMdUiCL6A7x9"
      },
      "source": [
        "##### Cálculo da acurácia de treino"
      ]
    },
    {
      "cell_type": "code",
      "metadata": {
        "id": "QjHFpLH9A7x-"
      },
      "source": [
        "acc_gb_grid_treino = accuracy_score(y_treino,\n",
        "                                    gb_grid.predict(  # este é o objeto do grid, já com os melhores parametros\n",
        "                                        x_treino))"
      ],
      "execution_count": null,
      "outputs": []
    },
    {
      "cell_type": "markdown",
      "metadata": {
        "id": "YsV7BoJQA7yB"
      },
      "source": [
        "##### Cálculo da acurácia de teste"
      ]
    },
    {
      "cell_type": "code",
      "metadata": {
        "id": "oIylFQmPA7yB"
      },
      "source": [
        "acc_gb_grid_teste = accuracy_score(y_teste, gb_grid.predict(x_teste))"
      ],
      "execution_count": null,
      "outputs": []
    },
    {
      "cell_type": "markdown",
      "metadata": {
        "id": "l0BV4pHjA7yD"
      },
      "source": [
        "#### Mostrar acurácia"
      ]
    },
    {
      "cell_type": "code",
      "metadata": {
        "id": "45hoR0vxA7yE",
        "outputId": "d0e49a7e-889b-49ae-c4ed-f214482bc233"
      },
      "source": [
        "print('Acuracia de treino:', acc_gb_grid_treino)\n",
        "print('Acuracia de teste:', acc_gb_grid_teste)"
      ],
      "execution_count": null,
      "outputs": [
        {
          "output_type": "stream",
          "text": [
            "Acuracia de treino: 0.925027808676307\n",
            "Acuracia de teste: 0.918266735858848\n"
          ],
          "name": "stdout"
        }
      ]
    },
    {
      "cell_type": "markdown",
      "metadata": {
        "id": "KjY33ibKA7yG"
      },
      "source": [
        "# Comparação e escolha do modelo vencedor"
      ]
    },
    {
      "cell_type": "code",
      "metadata": {
        "id": "w0EE5_raA7yH",
        "outputId": "5cd1563a-6d50-4a6d-f33f-cbe7b76a801c"
      },
      "source": [
        "modelos = pd.DataFrame({\n",
        "        'Modelo' : ['Random Forest',\n",
        "                   'Gradient Boost'],\n",
        "        'Acuracia de treino': [acc_rf_grid_treino,\n",
        "                               acc_gb_grid_treino],\n",
        "        'Acuracia de teste': [acc_rf_grid_teste,\n",
        "                               acc_gb_grid_teste]\n",
        "})\n",
        "\n",
        "modelos = modelos.sort_values(by='Acuracia de teste', ascending=False)\n",
        "modelos"
      ],
      "execution_count": null,
      "outputs": [
        {
          "output_type": "execute_result",
          "data": {
            "text/html": [
              "<div>\n",
              "<style scoped>\n",
              "    .dataframe tbody tr th:only-of-type {\n",
              "        vertical-align: middle;\n",
              "    }\n",
              "\n",
              "    .dataframe tbody tr th {\n",
              "        vertical-align: top;\n",
              "    }\n",
              "\n",
              "    .dataframe thead th {\n",
              "        text-align: right;\n",
              "    }\n",
              "</style>\n",
              "<table border=\"1\" class=\"dataframe\">\n",
              "  <thead>\n",
              "    <tr style=\"text-align: right;\">\n",
              "      <th></th>\n",
              "      <th>Modelo</th>\n",
              "      <th>Acuracia de treino</th>\n",
              "      <th>Acuracia de teste</th>\n",
              "    </tr>\n",
              "  </thead>\n",
              "  <tbody>\n",
              "    <tr>\n",
              "      <th>1</th>\n",
              "      <td>Gradient Boost</td>\n",
              "      <td>0.93</td>\n",
              "      <td>0.92</td>\n",
              "    </tr>\n",
              "    <tr>\n",
              "      <th>0</th>\n",
              "      <td>Random Forest</td>\n",
              "      <td>1.00</td>\n",
              "      <td>0.92</td>\n",
              "    </tr>\n",
              "  </tbody>\n",
              "</table>\n",
              "<p>2 rows × 3 columns</p>\n",
              "</div>"
            ],
            "text/plain": [
              "           Modelo  Acuracia de treino  Acuracia de teste\n",
              "1  Gradient Boost                0.93               0.92\n",
              "0   Random Forest                1.00               0.92\n",
              "\n",
              "[2 rows x 3 columns]"
            ]
          },
          "metadata": {
            "tags": []
          },
          "execution_count": 170
        }
      ]
    },
    {
      "cell_type": "markdown",
      "metadata": {
        "id": "UU1jI1VPA7yJ"
      },
      "source": [
        "### Precision / Recall do Gradient Boosting"
      ]
    },
    {
      "cell_type": "code",
      "metadata": {
        "id": "NNL5VYa7A7yJ"
      },
      "source": [
        "from sklearn.metrics import classification_report"
      ],
      "execution_count": null,
      "outputs": []
    },
    {
      "cell_type": "code",
      "metadata": {
        "id": "MGHOk1F-A7yK",
        "outputId": "8c47f79a-66a7-407a-8e76-61b49d720e6e"
      },
      "source": [
        "print(classification_report(y_treino,gb_grid.predict(x_treino)))"
      ],
      "execution_count": null,
      "outputs": [
        {
          "output_type": "stream",
          "text": [
            "              precision    recall  f1-score   support\n",
            "\n",
            "           0       1.00      0.87      0.93      4522\n",
            "           1       0.88      1.00      0.93      4468\n",
            "\n",
            "    accuracy                           0.93      8990\n",
            "   macro avg       0.94      0.93      0.93      8990\n",
            "weighted avg       0.94      0.93      0.93      8990\n",
            "\n"
          ],
          "name": "stdout"
        }
      ]
    },
    {
      "cell_type": "code",
      "metadata": {
        "id": "XtSrxMncA7yM",
        "outputId": "f9bce989-a4f2-42b2-e7af-5419f1dc5f56"
      },
      "source": [
        "print(classification_report(y_teste,gb_grid.predict(x_teste)))"
      ],
      "execution_count": null,
      "outputs": [
        {
          "output_type": "stream",
          "text": [
            "              precision    recall  f1-score   support\n",
            "\n",
            "           0       0.99      0.84      0.91      1900\n",
            "           1       0.87      0.99      0.93      1954\n",
            "\n",
            "    accuracy                           0.92      3854\n",
            "   macro avg       0.93      0.92      0.92      3854\n",
            "weighted avg       0.93      0.92      0.92      3854\n",
            "\n"
          ],
          "name": "stdout"
        }
      ]
    },
    {
      "cell_type": "code",
      "metadata": {
        "id": "eHHxgtG5A7yP"
      },
      "source": [
        ""
      ],
      "execution_count": null,
      "outputs": []
    }
  ]
}