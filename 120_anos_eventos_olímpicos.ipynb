{
  "nbformat": 4,
  "nbformat_minor": 0,
  "metadata": {
    "colab": {
      "name": "120_anos_eventos_olímpicos.ipynb",
      "provenance": [],
      "authorship_tag": "ABX9TyO8IJvVzTnzZK/AXnUN1Fqb",
      "include_colab_link": true
    },
    "kernelspec": {
      "name": "python3",
      "display_name": "Python 3"
    }
  },
  "cells": [
    {
      "cell_type": "markdown",
      "metadata": {
        "id": "view-in-github",
        "colab_type": "text"
      },
      "source": [
        "<a href=\"https://colab.research.google.com/github/MarioPrado1148/DSWP_Aluno_Mario/blob/main/120_anos_eventos_ol%C3%ADmpicos.ipynb\" target=\"_parent\"><img src=\"https://colab.research.google.com/assets/colab-badge.svg\" alt=\"Open In Colab\"/></a>"
      ]
    },
    {
      "cell_type": "code",
      "metadata": {
        "id": "F59rNOgkDY1M",
        "outputId": "a921889e-6d3b-4ad5-cda2-ca5b92ba6473",
        "colab": {
          "base_uri": "https://localhost:8080/",
          "height": 35
        }
      },
      "source": [
        "from google.colab import drive\n",
        "drive.mount('/content/drive')"
      ],
      "execution_count": 3,
      "outputs": [
        {
          "output_type": "stream",
          "text": [
            "Mounted at /content/drive\n"
          ],
          "name": "stdout"
        }
      ]
    },
    {
      "cell_type": "code",
      "metadata": {
        "id": "LWwS6N2nDjHo"
      },
      "source": [
        "url = '/content/drive/My Drive/Datasets/eventos_olimpicos/athlete_events.csv'"
      ],
      "execution_count": 22,
      "outputs": []
    },
    {
      "cell_type": "code",
      "metadata": {
        "id": "KDdSR8BwdBPD"
      },
      "source": [
        "import matplotlib.pyplot as plt\n",
        "import seaborn as sns\n",
        "%matplotlib inline"
      ],
      "execution_count": 23,
      "outputs": []
    },
    {
      "cell_type": "code",
      "metadata": {
        "id": "E74uaUaNEkNm"
      },
      "source": [
        "import pandas as pd\n",
        "df_olympics = pd.read_csv(url)"
      ],
      "execution_count": 6,
      "outputs": []
    },
    {
      "cell_type": "code",
      "metadata": {
        "id": "eUM-nHmWGUm5",
        "outputId": "7f9f145b-6752-43fb-e51f-ee44642b9954",
        "colab": {
          "base_uri": "https://localhost:8080/",
          "height": 289
        }
      },
      "source": [
        "df_olympics.head()"
      ],
      "execution_count": 7,
      "outputs": [
        {
          "output_type": "execute_result",
          "data": {
            "text/html": [
              "<div>\n",
              "<style scoped>\n",
              "    .dataframe tbody tr th:only-of-type {\n",
              "        vertical-align: middle;\n",
              "    }\n",
              "\n",
              "    .dataframe tbody tr th {\n",
              "        vertical-align: top;\n",
              "    }\n",
              "\n",
              "    .dataframe thead th {\n",
              "        text-align: right;\n",
              "    }\n",
              "</style>\n",
              "<table border=\"1\" class=\"dataframe\">\n",
              "  <thead>\n",
              "    <tr style=\"text-align: right;\">\n",
              "      <th></th>\n",
              "      <th>ID</th>\n",
              "      <th>Name</th>\n",
              "      <th>Sex</th>\n",
              "      <th>Age</th>\n",
              "      <th>Height</th>\n",
              "      <th>Weight</th>\n",
              "      <th>Team</th>\n",
              "      <th>NOC</th>\n",
              "      <th>Games</th>\n",
              "      <th>Year</th>\n",
              "      <th>Season</th>\n",
              "      <th>City</th>\n",
              "      <th>Sport</th>\n",
              "      <th>Event</th>\n",
              "      <th>Medal</th>\n",
              "    </tr>\n",
              "  </thead>\n",
              "  <tbody>\n",
              "    <tr>\n",
              "      <th>0</th>\n",
              "      <td>1</td>\n",
              "      <td>A Dijiang</td>\n",
              "      <td>M</td>\n",
              "      <td>24.0</td>\n",
              "      <td>180.0</td>\n",
              "      <td>80.0</td>\n",
              "      <td>China</td>\n",
              "      <td>CHN</td>\n",
              "      <td>1992 Summer</td>\n",
              "      <td>1992</td>\n",
              "      <td>Summer</td>\n",
              "      <td>Barcelona</td>\n",
              "      <td>Basketball</td>\n",
              "      <td>Basketball Men's Basketball</td>\n",
              "      <td>NaN</td>\n",
              "    </tr>\n",
              "    <tr>\n",
              "      <th>1</th>\n",
              "      <td>2</td>\n",
              "      <td>A Lamusi</td>\n",
              "      <td>M</td>\n",
              "      <td>23.0</td>\n",
              "      <td>170.0</td>\n",
              "      <td>60.0</td>\n",
              "      <td>China</td>\n",
              "      <td>CHN</td>\n",
              "      <td>2012 Summer</td>\n",
              "      <td>2012</td>\n",
              "      <td>Summer</td>\n",
              "      <td>London</td>\n",
              "      <td>Judo</td>\n",
              "      <td>Judo Men's Extra-Lightweight</td>\n",
              "      <td>NaN</td>\n",
              "    </tr>\n",
              "    <tr>\n",
              "      <th>2</th>\n",
              "      <td>3</td>\n",
              "      <td>Gunnar Nielsen Aaby</td>\n",
              "      <td>M</td>\n",
              "      <td>24.0</td>\n",
              "      <td>NaN</td>\n",
              "      <td>NaN</td>\n",
              "      <td>Denmark</td>\n",
              "      <td>DEN</td>\n",
              "      <td>1920 Summer</td>\n",
              "      <td>1920</td>\n",
              "      <td>Summer</td>\n",
              "      <td>Antwerpen</td>\n",
              "      <td>Football</td>\n",
              "      <td>Football Men's Football</td>\n",
              "      <td>NaN</td>\n",
              "    </tr>\n",
              "    <tr>\n",
              "      <th>3</th>\n",
              "      <td>4</td>\n",
              "      <td>Edgar Lindenau Aabye</td>\n",
              "      <td>M</td>\n",
              "      <td>34.0</td>\n",
              "      <td>NaN</td>\n",
              "      <td>NaN</td>\n",
              "      <td>Denmark/Sweden</td>\n",
              "      <td>DEN</td>\n",
              "      <td>1900 Summer</td>\n",
              "      <td>1900</td>\n",
              "      <td>Summer</td>\n",
              "      <td>Paris</td>\n",
              "      <td>Tug-Of-War</td>\n",
              "      <td>Tug-Of-War Men's Tug-Of-War</td>\n",
              "      <td>Gold</td>\n",
              "    </tr>\n",
              "    <tr>\n",
              "      <th>4</th>\n",
              "      <td>5</td>\n",
              "      <td>Christine Jacoba Aaftink</td>\n",
              "      <td>F</td>\n",
              "      <td>21.0</td>\n",
              "      <td>185.0</td>\n",
              "      <td>82.0</td>\n",
              "      <td>Netherlands</td>\n",
              "      <td>NED</td>\n",
              "      <td>1988 Winter</td>\n",
              "      <td>1988</td>\n",
              "      <td>Winter</td>\n",
              "      <td>Calgary</td>\n",
              "      <td>Speed Skating</td>\n",
              "      <td>Speed Skating Women's 500 metres</td>\n",
              "      <td>NaN</td>\n",
              "    </tr>\n",
              "  </tbody>\n",
              "</table>\n",
              "</div>"
            ],
            "text/plain": [
              "   ID                      Name  ...                             Event  Medal\n",
              "0   1                 A Dijiang  ...       Basketball Men's Basketball    NaN\n",
              "1   2                  A Lamusi  ...      Judo Men's Extra-Lightweight    NaN\n",
              "2   3       Gunnar Nielsen Aaby  ...           Football Men's Football    NaN\n",
              "3   4      Edgar Lindenau Aabye  ...       Tug-Of-War Men's Tug-Of-War   Gold\n",
              "4   5  Christine Jacoba Aaftink  ...  Speed Skating Women's 500 metres    NaN\n",
              "\n",
              "[5 rows x 15 columns]"
            ]
          },
          "metadata": {
            "tags": []
          },
          "execution_count": 7
        }
      ]
    },
    {
      "cell_type": "code",
      "metadata": {
        "id": "BY2_qKh8GrVl"
      },
      "source": [
        "# retorna para cada coluna de `frame`: nome da coluna, valor de exemplo, \n",
        "#     dtype da coluna, classe do valor de exemplo\n",
        "# valor de exemplo é tomado na linha de `frame` indicada por `iloc`\n",
        "def exemplo_linha(frame, iloc=0):\n",
        "  df_info = pd.DataFrame(dict(valor_exemplo=frame.iloc[iloc].copy()))\n",
        "  df_info['dtype_coluna'] = frame.dtypes.map(lambda x: x.name)\n",
        "  df_info['classe_valor'] = df_info['valor_exemplo'].map(lambda x: x.__class__.__name__)\n",
        "  df_info.index.name = 'nome_coluna'\n",
        "  return df_info"
      ],
      "execution_count": 8,
      "outputs": []
    },
    {
      "cell_type": "code",
      "metadata": {
        "id": "tj75_tL-aj0D",
        "outputId": "7d1e6e4c-b501-4d0a-ea95-ac3458812a24",
        "colab": {
          "base_uri": "https://localhost:8080/",
          "height": 539
        }
      },
      "source": [
        "exemplo_linha(df_olympics)"
      ],
      "execution_count": 9,
      "outputs": [
        {
          "output_type": "execute_result",
          "data": {
            "text/html": [
              "<div>\n",
              "<style scoped>\n",
              "    .dataframe tbody tr th:only-of-type {\n",
              "        vertical-align: middle;\n",
              "    }\n",
              "\n",
              "    .dataframe tbody tr th {\n",
              "        vertical-align: top;\n",
              "    }\n",
              "\n",
              "    .dataframe thead th {\n",
              "        text-align: right;\n",
              "    }\n",
              "</style>\n",
              "<table border=\"1\" class=\"dataframe\">\n",
              "  <thead>\n",
              "    <tr style=\"text-align: right;\">\n",
              "      <th></th>\n",
              "      <th>valor_exemplo</th>\n",
              "      <th>dtype_coluna</th>\n",
              "      <th>classe_valor</th>\n",
              "    </tr>\n",
              "    <tr>\n",
              "      <th>nome_coluna</th>\n",
              "      <th></th>\n",
              "      <th></th>\n",
              "      <th></th>\n",
              "    </tr>\n",
              "  </thead>\n",
              "  <tbody>\n",
              "    <tr>\n",
              "      <th>ID</th>\n",
              "      <td>1</td>\n",
              "      <td>int64</td>\n",
              "      <td>int64</td>\n",
              "    </tr>\n",
              "    <tr>\n",
              "      <th>Name</th>\n",
              "      <td>A Dijiang</td>\n",
              "      <td>object</td>\n",
              "      <td>str</td>\n",
              "    </tr>\n",
              "    <tr>\n",
              "      <th>Sex</th>\n",
              "      <td>M</td>\n",
              "      <td>object</td>\n",
              "      <td>str</td>\n",
              "    </tr>\n",
              "    <tr>\n",
              "      <th>Age</th>\n",
              "      <td>24</td>\n",
              "      <td>float64</td>\n",
              "      <td>float64</td>\n",
              "    </tr>\n",
              "    <tr>\n",
              "      <th>Height</th>\n",
              "      <td>180</td>\n",
              "      <td>float64</td>\n",
              "      <td>float64</td>\n",
              "    </tr>\n",
              "    <tr>\n",
              "      <th>Weight</th>\n",
              "      <td>80</td>\n",
              "      <td>float64</td>\n",
              "      <td>float64</td>\n",
              "    </tr>\n",
              "    <tr>\n",
              "      <th>Team</th>\n",
              "      <td>China</td>\n",
              "      <td>object</td>\n",
              "      <td>str</td>\n",
              "    </tr>\n",
              "    <tr>\n",
              "      <th>NOC</th>\n",
              "      <td>CHN</td>\n",
              "      <td>object</td>\n",
              "      <td>str</td>\n",
              "    </tr>\n",
              "    <tr>\n",
              "      <th>Games</th>\n",
              "      <td>1992 Summer</td>\n",
              "      <td>object</td>\n",
              "      <td>str</td>\n",
              "    </tr>\n",
              "    <tr>\n",
              "      <th>Year</th>\n",
              "      <td>1992</td>\n",
              "      <td>int64</td>\n",
              "      <td>int64</td>\n",
              "    </tr>\n",
              "    <tr>\n",
              "      <th>Season</th>\n",
              "      <td>Summer</td>\n",
              "      <td>object</td>\n",
              "      <td>str</td>\n",
              "    </tr>\n",
              "    <tr>\n",
              "      <th>City</th>\n",
              "      <td>Barcelona</td>\n",
              "      <td>object</td>\n",
              "      <td>str</td>\n",
              "    </tr>\n",
              "    <tr>\n",
              "      <th>Sport</th>\n",
              "      <td>Basketball</td>\n",
              "      <td>object</td>\n",
              "      <td>str</td>\n",
              "    </tr>\n",
              "    <tr>\n",
              "      <th>Event</th>\n",
              "      <td>Basketball Men's Basketball</td>\n",
              "      <td>object</td>\n",
              "      <td>str</td>\n",
              "    </tr>\n",
              "    <tr>\n",
              "      <th>Medal</th>\n",
              "      <td>NaN</td>\n",
              "      <td>object</td>\n",
              "      <td>float</td>\n",
              "    </tr>\n",
              "  </tbody>\n",
              "</table>\n",
              "</div>"
            ],
            "text/plain": [
              "                           valor_exemplo dtype_coluna classe_valor\n",
              "nome_coluna                                                       \n",
              "ID                                     1        int64        int64\n",
              "Name                           A Dijiang       object          str\n",
              "Sex                                    M       object          str\n",
              "Age                                   24      float64      float64\n",
              "Height                               180      float64      float64\n",
              "Weight                                80      float64      float64\n",
              "Team                               China       object          str\n",
              "NOC                                  CHN       object          str\n",
              "Games                        1992 Summer       object          str\n",
              "Year                                1992        int64        int64\n",
              "Season                            Summer       object          str\n",
              "City                           Barcelona       object          str\n",
              "Sport                         Basketball       object          str\n",
              "Event        Basketball Men's Basketball       object          str\n",
              "Medal                                NaN       object        float"
            ]
          },
          "metadata": {
            "tags": []
          },
          "execution_count": 9
        }
      ]
    },
    {
      "cell_type": "code",
      "metadata": {
        "id": "IGeblfzDaqLA"
      },
      "source": [
        ""
      ],
      "execution_count": null,
      "outputs": []
    },
    {
      "cell_type": "code",
      "metadata": {
        "id": "cKnkjIkf0jVI"
      },
      "source": [
        "# conversão dos nomes de colunas para minúsculas\n",
        "df_olympics.set_axis(df_olympics.columns.str.lower(), axis=1, inplace=True)"
      ],
      "execution_count": 61,
      "outputs": []
    },
    {
      "cell_type": "code",
      "metadata": {
        "id": "OngXZUWV1bp7"
      },
      "source": [
        ""
      ],
      "execution_count": 64,
      "outputs": []
    },
    {
      "cell_type": "markdown",
      "metadata": {
        "id": "gjDqLh8p1oTQ"
      },
      "source": [
        "# Tratamento de Missing Values"
      ]
    },
    {
      "cell_type": "markdown",
      "metadata": {
        "id": "KcD2i_1k1vS_"
      },
      "source": [
        "## Verificação dos Missing Values"
      ]
    },
    {
      "cell_type": "code",
      "metadata": {
        "id": "sWJydjEWbjUT",
        "outputId": "c1a2dee7-e228-41b0-b136-3db84030d4a5",
        "colab": {
          "base_uri": "https://localhost:8080/",
          "height": 295
        }
      },
      "source": [
        "df_olympics.isna().sum()"
      ],
      "execution_count": 12,
      "outputs": [
        {
          "output_type": "execute_result",
          "data": {
            "text/plain": [
              "id             0\n",
              "name           0\n",
              "sex            0\n",
              "age         9474\n",
              "height     60171\n",
              "weight     62875\n",
              "team           0\n",
              "noc            0\n",
              "games          0\n",
              "year           0\n",
              "season         0\n",
              "city           0\n",
              "sport          0\n",
              "event          0\n",
              "medal     231333\n",
              "dtype: int64"
            ]
          },
          "metadata": {
            "tags": []
          },
          "execution_count": 12
        }
      ]
    },
    {
      "cell_type": "markdown",
      "metadata": {
        "id": "JfQDQCJe10c3"
      },
      "source": [
        "## Eliminação dos Missing Values"
      ]
    },
    {
      "cell_type": "code",
      "metadata": {
        "id": "oi6PXLgAbx7g"
      },
      "source": [
        "df_olympics2 = df_olympics.dropna()"
      ],
      "execution_count": 65,
      "outputs": []
    },
    {
      "cell_type": "markdown",
      "metadata": {
        "id": "eg2W5SH12Bmm"
      },
      "source": [
        "## Nova verificação dos Missing Values"
      ]
    },
    {
      "cell_type": "code",
      "metadata": {
        "id": "4UgwAQuQb73b",
        "outputId": "fc5e3830-29b0-458b-88ee-7838dab0d13c",
        "colab": {
          "base_uri": "https://localhost:8080/",
          "height": 295
        }
      },
      "source": [
        "df_olympics2.isna().sum()"
      ],
      "execution_count": 19,
      "outputs": [
        {
          "output_type": "execute_result",
          "data": {
            "text/plain": [
              "id        0\n",
              "name      0\n",
              "sex       0\n",
              "age       0\n",
              "height    0\n",
              "weight    0\n",
              "team      0\n",
              "noc       0\n",
              "games     0\n",
              "year      0\n",
              "season    0\n",
              "city      0\n",
              "sport     0\n",
              "event     0\n",
              "medal     0\n",
              "dtype: int64"
            ]
          },
          "metadata": {
            "tags": []
          },
          "execution_count": 19
        }
      ]
    },
    {
      "cell_type": "code",
      "metadata": {
        "id": "ZijyKQZ0b_re",
        "outputId": "f29a11b4-f7aa-4ce1-d60a-a91c1b8f5157",
        "colab": {
          "base_uri": "https://localhost:8080/",
          "height": 743
        }
      },
      "source": [
        "plt.figure(figsize = (12, 8))\n",
        "plt.hist(df_olympics2['height'], color = 'blue', edgecolor = 'black', bins = int(180/5))"
      ],
      "execution_count": 25,
      "outputs": [
        {
          "output_type": "execute_result",
          "data": {
            "text/plain": [
              "(array([   8.,   10.,   23.,   36.,   62.,  102.,   96.,  244.,  287.,\n",
              "         906.,  645.,  910., 1896., 1429., 3031., 1948., 2986., 2146.,\n",
              "        2391., 3050., 1911., 1801., 1264.,  886.,  843.,  432.,  360.,\n",
              "         190.,  133.,   57.,   30.,   33.,    9.,   18.,    4.,    4.]),\n",
              " array([136.        , 138.41666667, 140.83333333, 143.25      ,\n",
              "        145.66666667, 148.08333333, 150.5       , 152.91666667,\n",
              "        155.33333333, 157.75      , 160.16666667, 162.58333333,\n",
              "        165.        , 167.41666667, 169.83333333, 172.25      ,\n",
              "        174.66666667, 177.08333333, 179.5       , 181.91666667,\n",
              "        184.33333333, 186.75      , 189.16666667, 191.58333333,\n",
              "        194.        , 196.41666667, 198.83333333, 201.25      ,\n",
              "        203.66666667, 206.08333333, 208.5       , 210.91666667,\n",
              "        213.33333333, 215.75      , 218.16666667, 220.58333333,\n",
              "        223.        ]),\n",
              " <a list of 36 Patch objects>)"
            ]
          },
          "metadata": {
            "tags": []
          },
          "execution_count": 25
        },
        {
          "output_type": "display_data",
          "data": {
            "image/png": "[encoded data removed]",
            "text/plain": [
              "<Figure size 864x576 with 1 Axes>"
            ]
          },
          "metadata": {
            "tags": [],
            "needs_background": "light"
          }
        }
      ]
    },
    {
      "cell_type": "code",
      "metadata": {
        "id": "kT15J9t6cyMp",
        "outputId": "26c5002e-852d-421c-f416-f24d83eeadb7",
        "colab": {
          "base_uri": "https://localhost:8080/",
          "height": 202
        }
      },
      "source": [
        "from sklearn.preprocessing import StandardScaler\n",
        "olympics_standard_scaler = StandardScaler().fit_transform(df_olympics2[['weight','height']])\n",
        "df_olympics_standard_scaler = pd.DataFrame(olympics_standard_scaler, columns=[['weight','height']])\n",
        "df_olympics_standard_scaler.head()"
      ],
      "execution_count": 54,
      "outputs": [
        {
          "output_type": "execute_result",
          "data": {
            "text/html": [
              "<div>\n",
              "<style scoped>\n",
              "    .dataframe tbody tr th:only-of-type {\n",
              "        vertical-align: middle;\n",
              "    }\n",
              "\n",
              "    .dataframe tbody tr th {\n",
              "        vertical-align: top;\n",
              "    }\n",
              "\n",
              "    .dataframe thead tr th {\n",
              "        text-align: left;\n",
              "    }\n",
              "</style>\n",
              "<table border=\"1\" class=\"dataframe\">\n",
              "  <thead>\n",
              "    <tr>\n",
              "      <th></th>\n",
              "      <th>weight</th>\n",
              "      <th>height</th>\n",
              "    </tr>\n",
              "  </thead>\n",
              "  <tbody>\n",
              "    <tr>\n",
              "      <th>0</th>\n",
              "      <td>0.749526</td>\n",
              "      <td>0.581988</td>\n",
              "    </tr>\n",
              "    <tr>\n",
              "      <th>1</th>\n",
              "      <td>-0.650031</td>\n",
              "      <td>-0.241885</td>\n",
              "    </tr>\n",
              "    <tr>\n",
              "      <th>2</th>\n",
              "      <td>-0.650031</td>\n",
              "      <td>-0.241885</td>\n",
              "    </tr>\n",
              "    <tr>\n",
              "      <th>3</th>\n",
              "      <td>-0.650031</td>\n",
              "      <td>-0.241885</td>\n",
              "    </tr>\n",
              "    <tr>\n",
              "      <th>4</th>\n",
              "      <td>-0.650031</td>\n",
              "      <td>-0.241885</td>\n",
              "    </tr>\n",
              "  </tbody>\n",
              "</table>\n",
              "</div>"
            ],
            "text/plain": [
              "     weight    height\n",
              "0  0.749526  0.581988\n",
              "1 -0.650031 -0.241885\n",
              "2 -0.650031 -0.241885\n",
              "3 -0.650031 -0.241885\n",
              "4 -0.650031 -0.241885"
            ]
          },
          "metadata": {
            "tags": []
          },
          "execution_count": 54
        }
      ]
    },
    {
      "cell_type": "code",
      "metadata": {
        "id": "HydYOfdFgc99",
        "outputId": "3f930e89-a5f4-4601-fba9-08b789c30812",
        "colab": {
          "base_uri": "https://localhost:8080/",
          "height": 121
        }
      },
      "source": [
        "df_olympics2['weight'].head()\n",
        "#A1_scale_fit = StandardScaler().fit(df_A1) # Aplica o fit() separadamente\n",
        "#df_olympics2_standard_scale_fit = StandardScaler().fit(df_olympics2['weight'])"
      ],
      "execution_count": 60,
      "outputs": [
        {
          "output_type": "execute_result",
          "data": {
            "text/plain": [
              "40    85.0\n",
              "41    64.0\n",
              "42    64.0\n",
              "44    64.0\n",
              "48    64.0\n",
              "Name: weight, dtype: float64"
            ]
          },
          "metadata": {
            "tags": []
          },
          "execution_count": 60
        }
      ]
    },
    {
      "cell_type": "code",
      "metadata": {
        "id": "ZrRDRX-Df6ae"
      },
      "source": [
        ""
      ],
      "execution_count": null,
      "outputs": []
    }
  ]
}