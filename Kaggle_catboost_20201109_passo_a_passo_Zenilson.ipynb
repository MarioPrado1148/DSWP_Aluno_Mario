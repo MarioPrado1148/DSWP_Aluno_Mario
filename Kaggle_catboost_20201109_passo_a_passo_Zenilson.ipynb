{
  "nbformat": 4,
  "nbformat_minor": 0,
  "metadata": {
    "colab": {
      "name": "Kaggle_catboost_20201109_passo_a_passo.ipynb",
      "provenance": [],
      "toc_visible": true,
      "include_colab_link": true
    },
    "kernelspec": {
      "name": "python3",
      "display_name": "Python 3"
    }
  },
  "cells": [
    {
      "cell_type": "markdown",
      "metadata": {
        "id": "view-in-github",
        "colab_type": "text"
      },
      "source": [
        "<a href=\"https://colab.research.google.com/github/MarioPrado1148/DSWP_Aluno_Mario/blob/MarioPrado1148-Notebooks/Kaggle_catboost_20201109_passo_a_passo_Zenilson.ipynb\" target=\"_parent\"><img src=\"https://colab.research.google.com/assets/colab-badge.svg\" alt=\"Open In Colab\"/></a>"
      ]
    },
    {
      "cell_type": "markdown",
      "metadata": {
        "id": "kFJ3zOQFPpqs"
      },
      "source": [
        "## 1. Instalação do CATBOOST\n"
      ]
    },
    {
      "cell_type": "code",
      "metadata": {
        "id": "xkrLBqU_4JY1",
        "outputId": "d6e51e4c-cf0b-4636-90ad-ed9d505239c8",
        "colab": {
          "base_uri": "https://localhost:8080/"
        }
      },
      "source": [
        "!pip install catboost"
      ],
      "execution_count": null,
      "outputs": [
        {
          "output_type": "stream",
          "text": [
            "Collecting catboost\n",
            "\u001b[?25l  Downloading https://files.pythonhosted.org/packages/52/39/128fff65072c8327371e3c594f3c826d29c85b21cb6485980353b168e0e4/catboost-0.24.2-cp36-none-manylinux1_x86_64.whl (66.1MB)\n",
            "\u001b[K     |████████████████████████████████| 66.2MB 57kB/s \n",
            "\u001b[?25hRequirement already satisfied: numpy>=1.16.0 in /usr/local/lib/python3.6/dist-packages (from catboost) (1.18.5)\n",
            "Requirement already satisfied: six in /usr/local/lib/python3.6/dist-packages (from catboost) (1.15.0)\n",
            "Requirement already satisfied: plotly in /usr/local/lib/python3.6/dist-packages (from catboost) (4.4.1)\n",
            "Requirement already satisfied: pandas>=0.24.0 in /usr/local/lib/python3.6/dist-packages (from catboost) (1.1.4)\n",
            "Requirement already satisfied: matplotlib in /usr/local/lib/python3.6/dist-packages (from catboost) (3.2.2)\n",
            "Requirement already satisfied: graphviz in /usr/local/lib/python3.6/dist-packages (from catboost) (0.10.1)\n",
            "Requirement already satisfied: scipy in /usr/local/lib/python3.6/dist-packages (from catboost) (1.4.1)\n",
            "Requirement already satisfied: retrying>=1.3.3 in /usr/local/lib/python3.6/dist-packages (from plotly->catboost) (1.3.3)\n",
            "Requirement already satisfied: pytz>=2017.2 in /usr/local/lib/python3.6/dist-packages (from pandas>=0.24.0->catboost) (2018.9)\n",
            "Requirement already satisfied: python-dateutil>=2.7.3 in /usr/local/lib/python3.6/dist-packages (from pandas>=0.24.0->catboost) (2.8.1)\n",
            "Requirement already satisfied: kiwisolver>=1.0.1 in /usr/local/lib/python3.6/dist-packages (from matplotlib->catboost) (1.3.1)\n",
            "Requirement already satisfied: cycler>=0.10 in /usr/local/lib/python3.6/dist-packages (from matplotlib->catboost) (0.10.0)\n",
            "Requirement already satisfied: pyparsing!=2.0.4,!=2.1.2,!=2.1.6,>=2.0.1 in /usr/local/lib/python3.6/dist-packages (from matplotlib->catboost) (2.4.7)\n",
            "Installing collected packages: catboost\n",
            "Successfully installed catboost-0.24.2\n"
          ],
          "name": "stdout"
        }
      ]
    },
    {
      "cell_type": "markdown",
      "metadata": {
        "id": "0sscsjFpPuKh"
      },
      "source": [
        "##2. Importação das bibliotecas"
      ]
    },
    {
      "cell_type": "code",
      "metadata": {
        "id": "3OIAnorJ5Ex_"
      },
      "source": [
        "import pandas as pd\n",
        "import numpy as np\n",
        "import seaborn as sns\n",
        "import matplotlib.pyplot as plt\n",
        "#from sklearn.metrics import confusion_matrix # para plotar a confusion matrix\n",
        "from sklearn.metrics import accuracy_score\n",
        "from sklearn.model_selection import train_test_split\n",
        "from catboost import CatBoostClassifier\n",
        "\n"
      ],
      "execution_count": null,
      "outputs": []
    },
    {
      "cell_type": "markdown",
      "metadata": {
        "id": "B2UHV7VHPz9k"
      },
      "source": [
        "## 3. Carregando os dataframes iniciais com os dados de treino e teste"
      ]
    },
    {
      "cell_type": "code",
      "metadata": {
        "id": "RNXKrBUg5qd-"
      },
      "source": [
        "df_treino = pd.read_csv(\"train.csv\")\n",
        "df_teste = pd.read_csv(\"test.csv\")\n"
      ],
      "execution_count": null,
      "outputs": []
    },
    {
      "cell_type": "markdown",
      "metadata": {
        "id": "Nf44Mi11P7XQ"
      },
      "source": [
        "## 4. Classe para tratamento dos dados do DataFrame.   A intenção ao utilizar uma classe pra isso foi a possibilidade de ir adicionando métodos que retornem diferentes \"versões\" do dataframe, com diferentes tratamentos de features...e ir testando/mantendo aquelas que tenham mais sucesso.\n",
        "### Observações:\n",
        "1. O dataframe \"original\" é passado como parâmetro na criação do objeto.   Ao instanciar o objeto alguns tratamentos iniciais, sugeridos pelo Mario, são aplicados (ex: renomear colunas, missing values, conversão de tipo, etc.) \n",
        "2. Após a criação, posso utilizar algo como objeto.getDataFramexxxxxx() para obter o dataframe com o tratamento específico definido no respectivo método."
      ]
    },
    {
      "cell_type": "code",
      "metadata": {
        "id": "HDt-BP2956_k"
      },
      "source": [
        "class Trata_DataFrame():\n",
        "    def __init__(self,df):\n",
        "      self.df = df\n",
        "      self.renomeia_colunas()\n",
        "      self.trata_CobrancaTotal()\n",
        "      self.trata_MesesNaCompanhia()\n",
        "      self.trata_MetodoPagamento()\n",
        "      self.trata_TemDependentes()\n",
        "\n",
        "    def renomeia_colunas(self):\n",
        "       self.df.rename(columns = {'id':'id',\n",
        "                                'gender':'genero',\n",
        "                                'SeniorCitizen':'Idoso',\n",
        "                                'Partner':'TemParceiro',\n",
        "                                'Dependents':'TemDependentes',\n",
        "                                'tenure':'MesesNaCompanhia',\n",
        "                                'PhoneService':'TemTelefone',\n",
        "                                'MultipleLines':'MaisLinhas',\n",
        "                                'InternetService':'TemInternet',\n",
        "                                'OnlineSecurity':'ServicoSegurancaOnline',\n",
        "                                'OnlineBackup':'ServicoBackupOnline',\n",
        "                                'DeviceProtection':'ServicoProtecaoOnline',\n",
        "                                'TechSupport':'ServicoSuporteOnline',\n",
        "                                'StreamingTV':'ServicoTV',\n",
        "                                'StreamingMovies':'ServicoPctFilmes',\n",
        "                                'Contract':'Contrato',\n",
        "                                'PaperlessBilling':'ContaOnline',\n",
        "                                'PaymentMethod':'MetodoPagamento',\n",
        "                                'MonthlyCharges':'CobrancaMensal',\n",
        "                                'TotalCharges':'CobrancaTotal',\n",
        "                                'Churn':'Churn'}, inplace=True)   \n",
        "\n",
        "    def trata_MetodoPagamento(self):\n",
        "        ''' exclui as linhas que estão com valores nulos, por serem irrelevantes...'''\n",
        "        #self.df = self.df.dropna(axis = 0, subset = ['MetodoPagamento'])\n",
        "        self.df.loc[self.df[\"MetodoPagamento\"].isna(),\"MetodoPagamento\"] = \"MISS\"\n",
        "    def trata_TemDependentes(self):\n",
        "        ''' exclui as linhas que estão com valores nulos, por serem irrelevantes...'''\n",
        "        self.df.loc[self.df[\"TemDependentes\"].isna(),\"TemDependentes\"] = \"MISS\"\n",
        "        self.df.loc[(self.df[\"MaisLinhas\"] == 'No') & (self.df[\"TemDependentes\"] == 'MISS'), \"TemDependentes\"] = \"No\"\n",
        "        self.df.loc[(self.df[\"MaisLinhas\"] == 'Yes') & (self.df[\"TemDependentes\"] == 'MISS'), \"TemDependentes\"] = \"Yes\"\n",
        "        #self.df.loc[np.isnan(self.df[\"TemDependentes\"]),\"TemDependentes\"] = \"MISS\" #poderia atribuir yes para quem tiver mais de uma linha...\n",
        "\n",
        "    def trata_CobrancaTotal(self):\n",
        "        '''  converte os valores para número...Em seguida substitui Nan por MesesNaCompanhia * CobrancaMensal '''\n",
        "        self.df['CobrancaTotal'] = pd.to_numeric(self.df['CobrancaTotal'], errors='coerce')\n",
        "        self.df.loc[np.isnan(self.df[\"CobrancaTotal\"]),\"CobrancaTotal\"] = self.df[\"MesesNaCompanhia\"] * self.df[\"CobrancaMensal\"]\n",
        "\n",
        "    def trata_MesesNaCompanhia(self):\n",
        "        ''' recalcula a qtde de meses dos missing values dividindo o valor total pelo valor mensal '''   \n",
        "        self.df.loc[np.isnan(self.df[\"MesesNaCompanhia\"]),\"MesesNaCompanhia\"] = self.df[\"CobrancaTotal\"] / self.df[\"CobrancaMensal\"]\n",
        "\n",
        "    def getDataFrameDefault(self):\n",
        "        ''' retorna um dataframe com as transformações \"padrão\"'''\n",
        "        return self.df  \n",
        "\n",
        "    def getDataFrameMelhoresFeatures(self):\n",
        "        ''' retorna o dataframe default, adicionando duas novas colunas (qtdeServicos e vlrMedioPorServico), e igualando \"No\" e \"No internet service\" das colunas relativas a serviços online '''\n",
        "        df2 = self.df.copy()\n",
        "        df2[\"QtdeServicosAdicionaisInternet\"] = 0\n",
        "        df2.loc[df2[\"ServicoSegurancaOnline\"] == \"Yes\",\"QtdeServicosAdicionaisInternet\"] = df2[\"QtdeServicosAdicionaisInternet\"] + 1\n",
        "        df2.loc[df2[\"ServicoBackupOnline\"] == \"Yes\",\"QtdeServicosAdicionaisInternet\"] =  df2[\"QtdeServicosAdicionaisInternet\"] + 1\n",
        "        df2.loc[df2[\"ServicoProtecaoOnline\"] == \"Yes\",\"QtdeServicosAdicionaisInternet\"] =  df2[\"QtdeServicosAdicionaisInternet\"] + 1\n",
        "        df2.loc[df2[\"ServicoSuporteOnline\"] == \"Yes\",\"QtdeServicosAdicionaisInternet\"] = df2[\"QtdeServicosAdicionaisInternet\"] + 1\n",
        "\n",
        "        df2.loc[df2[\"ServicoTV\"] != \"Yes\",\"ServicoTV\"] =  \"No\"\n",
        "        df2.loc[df2[\"ServicoPctFilmes\"] != \"Yes\",\"ServicoPctFilmes\"] = \"No\"\n",
        "        df2[\"QtdeServicosAdicionaisInternet\"] = df2[\"QtdeServicosAdicionaisInternet\"].astype('float')\n",
        "        df2.drop(columns=[\"genero\",\"TemParceiro\",\"TemTelefone\",\"ServicoSegurancaOnline\",\"ServicoBackupOnline\",\"ServicoProtecaoOnline\",\"ServicoSuporteOnline\" ],inplace=True)\n",
        "        return df2         \n",
        "\n",
        "    def getDataFramePrecoMedio(self):\n",
        "        ''' retorna o dataframe default, adicionando duas novas colunas (qtdeServicos e vlrMedioPorServico), e igualando \"No\" e \"No internet service\" das colunas relativas a serviços online '''\n",
        "        df2 = self.df.copy()\n",
        "        df2[\"QtdeServicos\"] = 0\n",
        "        df2.loc[df2[\"TemTelefone\"] == \"Yes\",\"QtdeServicos\"] =  df2[\"QtdeServicos\"] + 1\n",
        "        df2.loc[df2[\"TemInternet\"] != \"No\",\"QtdeServicos\"] =  df2[\"QtdeServicos\"] + 1\n",
        "        df2.loc[df2[\"ServicoTV\"] == \"Yes\",\"QtdeServicos\"] =  df2[\"QtdeServicos\"] + 1\n",
        "        df2.loc[df2[\"ServicoSegurancaOnline\"] == \"Yes\",\"QtdeServicos\"] = df2[\"QtdeServicos\"] + 1\n",
        "        df2.loc[df2[\"ServicoBackupOnline\"] == \"Yes\",\"QtdeServicos\"] =  df2[\"QtdeServicos\"] + 1\n",
        "        df2.loc[df2[\"ServicoProtecaoOnline\"] == \"Yes\",\"QtdeServicos\"] =  df2[\"QtdeServicos\"] + 1\n",
        "        df2.loc[df2[\"ServicoPctFilmes\"] == \"Yes\",\"QtdeServicos\"] = df2[\"QtdeServicos\"] + 1\n",
        "        df2.loc[df2[\"ServicoSuporteOnline\"] == \"Yes\",\"QtdeServicos\"] = df2[\"QtdeServicos\"] + 1\n",
        "\n",
        "        df2.loc[df2[\"ServicoTV\"] != \"Yes\",\"ServicoTV\"] =  \"No\"\n",
        "        df2.loc[df2[\"ServicoSegurancaOnline\"] != \"Yes\",\"ServicoSegurancaOnline\"] = \"No\"\n",
        "        df2.loc[df2[\"ServicoBackupOnline\"] != \"Yes\",\"ServicoBackupOnline\"] =  \"No\"\n",
        "        df2.loc[df2[\"ServicoProtecaoOnline\"] != \"Yes\",\"ServicoProtecaoOnline\"] = \"No\"\n",
        "        df2.loc[df2[\"ServicoPctFilmes\"] != \"Yes\",\"ServicoPctFilmes\"] = \"No\"\n",
        "        df2.loc[df2[\"ServicoSuporteOnline\"] != \"Yes\",\"ServicoSuporteOnline\"] = \"No\"\n",
        "        df2[\"QtdeServicos\"] = df2[\"QtdeServicos\"].astype('float')\n",
        "        df2.drop(columns=[\"TemParceiro\"],inplace=True)\n",
        "        #df2[\"vlrMedioPorServico\"] = df2[\"CobrancaMensal\"] / df2[\"QtdeServicos\"]\n",
        "\n",
        "        return df2  \n",
        "\n",
        "    def getDataFrameServAdicionais(self):\n",
        "        ''' gera um dataframe com as transformações \"padrão\"...e cria uma nova coluna apenas com o indicativo pra saber se há serviços adicionais de internet '''\n",
        "        df2 = self.df.copy()\n",
        "        df2[\"ServicosAdicionaisInternet\"] = \"No\"\n",
        "        df2.loc[df2[\"ServicoSegurancaOnline\"] == \"Yes\",\"ServicosAdicionaisInternet\"] = \"Yes\"\n",
        "        df2.loc[df2[\"ServicoBackupOnline\"] == \"Yes\",\"ServicosAdicionaisInternet\"] =  \"Yes\"\n",
        "        df2.loc[df2[\"ServicoProtecaoOnline\"] == \"Yes\",\"ServicosAdicionaisInternet\"] =  \"Yes\"\n",
        "        df2.loc[df2[\"ServicoPctFilmes\"] == \"Yes\",\"ServicosAdicionaisInternet\"] = \"Yes\"\n",
        "        df2.loc[df2[\"ServicoSuporteOnline\"] == \"Yes\",\"ServicosAdicionaisInternet\"] = \"Yes\"\n",
        "        df2.loc[df2[\"ServicoTV\"] == \"Yes\",\"ServicosAdicionaisInternet\"] = \"Yes\"\n",
        "        #df2.drop(columns = [ \"ServicoSegurancaOnline\",\"ServicoBackupOnline\",\"ServicoSuporteOnline\",\"ServicoProtecaoOnline\",\"ServicoPctFilmes\",\"ServicoTV\"],inplace=True)\n",
        "        df2.drop(columns = [\"TemParceiro\", \"TemDependentes\", \"ServicoSegurancaOnline\",\"ServicoBackupOnline\",\"ServicoSuporteOnline\",\"ServicoProtecaoOnline\",\"ServicoPctFilmes\",\"ServicoTV\"],inplace=True)\n",
        "        return df2\n",
        "\n",
        "    def getDataFrameQtdeServicos(self): #80.37\n",
        "        df2 = self.df.copy()\n",
        "        df2[\"QtdeServicos\"] = 0\n",
        "        df2.loc[df2[\"TemTelefone\"] == \"Yes\",\"QtdeServicos\"] =  df2[\"QtdeServicos\"] + 1\n",
        "        df2.loc[df2[\"TemInternet\"] != \"No\",\"QtdeServicos\"] =  df2[\"QtdeServicos\"] + 1\n",
        "        df2.loc[df2[\"ServicoTV\"] == \"Yes\",\"QtdeServicos\"] =  df2[\"QtdeServicos\"] + 1\n",
        "        df2[\"QtdeServicos\"] = df2[\"QtdeServicos\"].astype('float')\n",
        "        df2.drop(columns = [\"TemTelefone\",\"TemInternet\",\"ServicoTV\"],inplace=True)\n",
        "        return df2          \n",
        "\n",
        "    def getDataFrameQtdeServicos2(self): \n",
        "        df2 = self.df.copy()\n",
        "        df2[\"QtdeServicos\"] = 0\n",
        "        df2[\"QtdeServicosAdicionais\"] = 0\n",
        "        df2.loc[df2[\"TemTelefone\"] == \"Yes\",\"QtdeServicos\"] =  df2[\"QtdeServicos\"] + 1\n",
        "        df2.loc[df2[\"TemInternet\"] != \"No\",\"QtdeServicos\"] =  df2[\"QtdeServicos\"] + 1\n",
        "        df2.loc[df2[\"ServicoTV\"] == \"Yes\",\"QtdeServicos\"] =  df2[\"QtdeServicos\"] + 1\n",
        "        df2.loc[df2[\"ServicoSegurancaOnline\"] == \"Yes\",\"QtdeServicosAdicionais\"] =  df2[\"QtdeServicosAdicionais\"] + 1\n",
        "        df2.loc[df2[\"ServicoBackupOnline\"] == \"Yes\",\"QtdeServicosAdicionais\"] =  df2[\"QtdeServicosAdicionais\"] + 1\n",
        "        df2.loc[df2[\"ServicoProtecaoOnline\"] == \"Yes\",\"QtdeServicosAdicionais\"] =  df2[\"QtdeServicosAdicionais\"] + 1\n",
        "        df2.loc[df2[\"ServicoPctFilmes\"] == \"Yes\",\"QtdeServicosAdicionais\"] =  df2[\"QtdeServicosAdicionais\"] + 1\n",
        "        df2.loc[df2[\"ServicoSuporteOnline\"] == \"Yes\",\"QtdeServicosAdicionais\"] =  df2[\"QtdeServicosAdicionais\"] + 1\n",
        "        df2[\"QtdeServicos\"] = df2[\"QtdeServicos\"].astype('float')\n",
        "        df2[\"QtdeServicosAdicionais\"] = df2[\"QtdeServicosAdicionais\"].astype('float')\n",
        "        df2.drop(columns = [\"TemTelefone\",\"TemInternet\",\"ServicoTV\",\"ServicoSegurancaOnline\",\"ServicoBackupOnline\",\"ServicoSuporteOnline\",\"ServicoProtecaoOnline\",\"ServicoPctFilmes\"],inplace=True)\n",
        "        return df2          \n",
        "\n",
        "    def trata_gender(self):\n",
        "        return None"
      ],
      "execution_count": null,
      "outputs": []
    },
    {
      "cell_type": "markdown",
      "metadata": {
        "id": "GaxFopw2RThP"
      },
      "source": [
        "## 5. Criação dos objetos \"Trata_DataFrame\" para os dataframes de Teste e de Treino"
      ]
    },
    {
      "cell_type": "code",
      "metadata": {
        "id": "MuD7TrKc6CbS"
      },
      "source": [
        "otdf_Treino = Trata_DataFrame(df_treino)\n",
        "otdf_Teste = Trata_DataFrame(df_teste)"
      ],
      "execution_count": null,
      "outputs": []
    },
    {
      "cell_type": "markdown",
      "metadata": {
        "id": "r2fr6r9hRlZE"
      },
      "source": [
        "## 6. Recuperação dos dataframes com os tratamentos das variáveis"
      ]
    },
    {
      "cell_type": "code",
      "metadata": {
        "id": "4VdfVfX3_nLX"
      },
      "source": [
        "df_treinoTratado = otdf_Treino.getDataFrameMelhoresFeatures()\n",
        "df_testeTratado = otdf_Teste.getDataFrameMelhoresFeatures()\n",
        "#df_testeS = objTDFTeste.getDataFrameQtdeServicos()\n",
        "#df_testeA = objTDFTeste.getDataFrameServAdicionais()"
      ],
      "execution_count": null,
      "outputs": []
    },
    {
      "cell_type": "code",
      "metadata": {
        "id": "qctQa96OjjNf",
        "outputId": "907c48cc-4e84-489f-eba8-5b557696df5a",
        "colab": {
          "base_uri": "https://localhost:8080/"
        }
      },
      "source": [
        "## Aqui, como passo intermediário, executei o modelo usando o dataframe default (getDataFrameDefault) e analisei a importância das features:\n",
        "## então fui modificando o dataframe excluindo as features menos importantes...\n",
        "## OBS: para utilizar, carregar antes a função treina_testa\n",
        "'''\n",
        "df_default = otdf_Treino.getDataFrameDefault()\n",
        "preditoras = df_default.copy()\n",
        "preditoras.drop(columns=[\"Churn\",\"id\"],inplace=True)\n",
        "target = df_treinoTratado[\"Churn\"]\n",
        "categorical_features_indices = np.where(preditoras.dtypes != np.float)[0] #considerei todas as features que não são do tipo \"flutuante\" como categóricas\n",
        "print(f\"Qtde de features categóricas: {len(categorical_features_indices)}\")\n",
        "print(f\"Colunas preditoras: {preditoras.columns}\")\n",
        "\n",
        "acc = treina_testa(mostrarFI=True)\n",
        "print(f\"acc: {acc}\")\n",
        "'''"
      ],
      "execution_count": null,
      "outputs": [
        {
          "output_type": "stream",
          "text": [
            "Qtde de features categóricas: 16\n",
            "Colunas preditoras: Index(['genero', 'Idoso', 'TemParceiro', 'TemDependentes', 'MesesNaCompanhia',\n",
            "       'TemTelefone', 'MaisLinhas', 'TemInternet', 'ServicoSegurancaOnline',\n",
            "       'ServicoBackupOnline', 'ServicoProtecaoOnline', 'ServicoSuporteOnline',\n",
            "       'ServicoTV', 'ServicoPctFilmes', 'Contrato', 'ContaOnline',\n",
            "       'MetodoPagamento', 'CobrancaMensal', 'CobrancaTotal'],\n",
            "      dtype='object')\n",
            "[(0.1219979414176875, 'genero'), (0.9463356717095784, 'Idoso'), (0.358380840616242, 'TemParceiro'), (0.7545895183322419, 'TemDependentes'), (14.482974986331126, 'MesesNaCompanhia'), (0.7144194957756642, 'TemTelefone'), (2.3906642551319375, 'MaisLinhas'), (13.01277227011774, 'TemInternet'), (4.483577047088782, 'ServicoSegurancaOnline'), (3.81270661909675, 'ServicoBackupOnline'), (1.68395081663, 'ServicoProtecaoOnline'), (2.76317943544468, 'ServicoSuporteOnline'), (1.4401108623579535, 'ServicoTV'), (2.547998080226219, 'ServicoPctFilmes'), (27.76831483017892, 'Contrato'), (3.962989689137381, 'ContaOnline'), (4.810919038083513, 'MetodoPagamento'), (6.812252901830139, 'CobrancaMensal'), (7.131865700493367, 'CobrancaTotal')]\n",
            "acc: 81.14\n"
          ],
          "name": "stdout"
        }
      ]
    },
    {
      "cell_type": "markdown",
      "metadata": {
        "id": "7jfzp599SMgA"
      },
      "source": [
        "## 7. Separação do dataframe de treino (train.csv) entre preditoras/target"
      ]
    },
    {
      "cell_type": "code",
      "metadata": {
        "id": "ZaTtCocp6OG0",
        "outputId": "1de301c8-62ea-4e6c-9102-766c3e92990e",
        "colab": {
          "base_uri": "https://localhost:8080/"
        }
      },
      "source": [
        "preditoras = df_treinoTratado.copy()\n",
        "preditoras.drop(columns=[\"Churn\",\"id\"],inplace=True)\n",
        "target = df_treinoTratado[\"Churn\"]\n",
        "categorical_features_indices = np.where(preditoras.dtypes != np.float)[0] #considerei todas as features que não são do tipo \"flutuante\" como categóricas\n",
        "print(f\"Qtde de features categóricas: {len(categorical_features_indices)}\")\n",
        "print(f\"Colunas preditoras: {preditoras.columns}\")"
      ],
      "execution_count": null,
      "outputs": [
        {
          "output_type": "stream",
          "text": [
            "Qtde de features categóricas: 9\n",
            "Colunas preditoras: Index(['Idoso', 'TemDependentes', 'MesesNaCompanhia', 'MaisLinhas',\n",
            "       'TemInternet', 'ServicoTV', 'ServicoPctFilmes', 'Contrato',\n",
            "       'ContaOnline', 'MetodoPagamento', 'CobrancaMensal', 'CobrancaTotal',\n",
            "       'QtdeServicosAdicionaisInternet'],\n",
            "      dtype='object')\n"
          ],
          "name": "stdout"
        }
      ]
    },
    {
      "cell_type": "code",
      "metadata": {
        "id": "4sVUZBsPKfg8"
      },
      "source": [
        "#i_CV = 10 # Número de Cross-Validations\n",
        "#i_Seed = 20111974 # semente por questões de reproducibilidade\n",
        "#f_Test_Size = 0.30 # Proporção do dataframe de validação (outros valores poderiam ser 0.15, 0.20 ou 0.25)\n"
      ],
      "execution_count": null,
      "outputs": []
    },
    {
      "cell_type": "markdown",
      "metadata": {
        "id": "BYTF5cY4TF4P"
      },
      "source": [
        "## 8. Função para treino/teste utilizando o conjunto de treinamento (train.csv).  \n",
        "### Parametros da função:\n",
        "  * ts -> tamanho percentual do conjunto de teste\n",
        "  * it -> parâmetro 'iterations' do CatBoostClassifier\n",
        "  * lr -> parâmetro 'learning_rate' do CBC\n",
        "  * depth -> parâmetro 'depth' do CBC\n",
        "  * gerarArquivo -> Caso seja \"True\", vai aplicar o modelo no dataframe de teste (test.csv) e gerar o arquivo de resultado para submeter no kaggle\n",
        "  * mostrarFI -> mostra a importância de cada feature\n",
        "### Retorna: o percetual de acerto no subconjunto (teste) do dataframe de treinamento"
      ]
    },
    {
      "cell_type": "code",
      "metadata": {
        "id": "lMq_1_hyKfwX"
      },
      "source": [
        "def treina_testa(ts=0.30,it=300, lr=0.03, depth=5, gerarArquivo=False, mostrarFI=False):\n",
        "   X_treinamento, X_teste, y_treinamento, y_teste = train_test_split(preditoras, target, test_size = ts)#, random_state = i_Seed)\n",
        "   catb = CatBoostClassifier(iterations = it, learning_rate = lr, depth=depth, silent=True)\n",
        "   catb_tuned = catb.fit(  X_treinamento, y_treinamento, cat_features=categorical_features_indices)\n",
        "   y_pred = catb_tuned.predict(X_teste)\n",
        "   acc_catb = round(accuracy_score(y_pred, y_teste) * 100, 2)\n",
        "   #print('ts: {} it: {} lr: {} depth: {} -> '.format(ts,it,lr,depth)+'Train Data Success Score: %' + str(acc_catb))\n",
        "   if (mostrarFI == True):\n",
        "      l_fi = list(zip(catb_tuned.feature_importances_,X_treinamento.columns))\n",
        "      print(l_fi)\n",
        "\n",
        "   if gerarArquivo == True: \n",
        "      df_id = df_testeTratado[[\"id\"]]\n",
        "      df_teste3 = df_testeTratado.drop(columns=[\"id\"])\n",
        "      resposta = catb_tuned.predict(df_teste3)\n",
        "      resposta_df = pd.DataFrame(resposta, columns=['Churn'])\n",
        "      resultado_submissao = pd.concat([df_id, resposta_df],axis=1)\n",
        "      resultado_submissao.head().T\n",
        "      filename = 'submissao_kaggle_catb_fs_ts0{}_it{}_lr{}_depth{}_sc{}.csv'.format(round(ts*100,0),it, lr, depth,str(int(acc_catb*100)))\n",
        "      resultado_submissao.to_csv(filename, index=False)   \n",
        "      print(filename)\n",
        "   return acc_catb   \n",
        "   #result\n"
      ],
      "execution_count": null,
      "outputs": []
    },
    {
      "cell_type": "markdown",
      "metadata": {
        "id": "dmU8llhLUXg9"
      },
      "source": [
        "##9. Executa a função treina_testa diversas vezes (10x), para as diferentes combinações de test_size, it, lr e depth,  armazenando o resultado de cada execução em um dicionário para análise posterior."
      ]
    },
    {
      "cell_type": "code",
      "metadata": {
        "id": "8K6Vir5_EEE9",
        "outputId": "6ec9999f-6fb3-4904-e989-61c268b69bec",
        "colab": {
          "base_uri": "https://localhost:8080/"
        }
      },
      "source": [
        "#l_ts = [0.22, 0.24, 0.25, 0.26, 0.28, 0.30, 0.32]\n",
        "#l_it =  [300, 400, 500], \n",
        "#l_lr = [0.02, 0.03, 0.04]\n",
        "#l_depth = [2, 3, 4, 5]\n",
        "l_ts, l_it, l_lr, l_depth = [0.26], [400], [0.02], [3]\n",
        "resultado = {}\n",
        "\n",
        "for vez in range(1,11):\n",
        "   resultado[vez] = {\"ts\":[], \"it\":[], \"lr\":[],\"depth\":[],\"score\":[]}\n",
        "   for ts in l_ts:\n",
        "       print(f'execução {vez}/ts {ts}...')\n",
        "       for it in l_it:\n",
        "           for lr in l_lr:\n",
        "               for depth in l_depth:\n",
        "                  res = treina_testa(ts=ts, it=it, lr=lr, depth=depth,gerarArquivo=False, mostrarFI=False) #não vai salvar o arquivo e nem mostrar as melhores features\n",
        "                  resultado[vez][\"ts\"].append(ts)\n",
        "                  resultado[vez][\"it\"].append(it)\n",
        "                  resultado[vez][\"lr\"].append(lr)\n",
        "                  resultado[vez][\"depth\"].append(depth)\n",
        "                  resultado[vez][\"score\"].append(res)\n",
        " "
      ],
      "execution_count": null,
      "outputs": [
        {
          "output_type": "stream",
          "text": [
            "execução 1/ts 0.26...\n",
            "execução 2/ts 0.26...\n",
            "execução 3/ts 0.26...\n",
            "execução 4/ts 0.26...\n",
            "execução 5/ts 0.26...\n",
            "execução 6/ts 0.26...\n",
            "execução 7/ts 0.26...\n",
            "execução 8/ts 0.26...\n",
            "execução 9/ts 0.26...\n",
            "execução 10/ts 0.26...\n"
          ],
          "name": "stdout"
        }
      ]
    },
    {
      "cell_type": "markdown",
      "metadata": {
        "id": "r2wsTrT-VBSO"
      },
      "source": [
        "## 10. Transforma o dicionário gerado no passo anterior em um Dataframe e apresenta seus resultados organizados, permitindo verificar qual conjunto (ts,it, lr e depth) gerou boa média de nota e pequeno std.\n"
      ]
    },
    {
      "cell_type": "code",
      "metadata": {
        "id": "7tFqCXGdItFQ",
        "outputId": "118d7f3f-1905-4838-d737-eda93a4a30fe",
        "colab": {
          "base_uri": "https://localhost:8080/",
          "height": 137
        }
      },
      "source": [
        "arrays = []\n",
        "for vez, v in resultado.items():\n",
        "    #print(v)\n",
        "    d = pd.DataFrame(v)\n",
        "    d[\"vez\"] = vez\n",
        "    arrays.append(d.copy())\n",
        "dfResultado = pd.concat(arrays,axis=0,sort=False)\n",
        "\n",
        "dfTotais = dfResultado.groupby(by=[\"ts\",\"it\",\"lr\",\"depth\"]).agg({\"score\":[\"min\",\"max\",\"mean\",\"std\"], \"vez\": [\"count\"]}).sort_values([(\"score\",\"mean\")],ascending=False)\n",
        "dfTotais.head(10)"
      ],
      "execution_count": null,
      "outputs": [
        {
          "output_type": "execute_result",
          "data": {
            "text/html": [
              "<div>\n",
              "<style scoped>\n",
              "    .dataframe tbody tr th:only-of-type {\n",
              "        vertical-align: middle;\n",
              "    }\n",
              "\n",
              "    .dataframe tbody tr th {\n",
              "        vertical-align: top;\n",
              "    }\n",
              "\n",
              "    .dataframe thead tr th {\n",
              "        text-align: left;\n",
              "    }\n",
              "\n",
              "    .dataframe thead tr:last-of-type th {\n",
              "        text-align: right;\n",
              "    }\n",
              "</style>\n",
              "<table border=\"1\" class=\"dataframe\">\n",
              "  <thead>\n",
              "    <tr>\n",
              "      <th></th>\n",
              "      <th></th>\n",
              "      <th></th>\n",
              "      <th></th>\n",
              "      <th colspan=\"4\" halign=\"left\">score</th>\n",
              "      <th>vez</th>\n",
              "    </tr>\n",
              "    <tr>\n",
              "      <th></th>\n",
              "      <th></th>\n",
              "      <th></th>\n",
              "      <th></th>\n",
              "      <th>min</th>\n",
              "      <th>max</th>\n",
              "      <th>mean</th>\n",
              "      <th>std</th>\n",
              "      <th>count</th>\n",
              "    </tr>\n",
              "    <tr>\n",
              "      <th>ts</th>\n",
              "      <th>it</th>\n",
              "      <th>lr</th>\n",
              "      <th>depth</th>\n",
              "      <th></th>\n",
              "      <th></th>\n",
              "      <th></th>\n",
              "      <th></th>\n",
              "      <th></th>\n",
              "    </tr>\n",
              "  </thead>\n",
              "  <tbody>\n",
              "    <tr>\n",
              "      <th>0.26</th>\n",
              "      <th>400</th>\n",
              "      <th>0.02</th>\n",
              "      <th>3</th>\n",
              "      <td>79.18</td>\n",
              "      <td>82.66</td>\n",
              "      <td>80.649</td>\n",
              "      <td>0.90407</td>\n",
              "      <td>10</td>\n",
              "    </tr>\n",
              "  </tbody>\n",
              "</table>\n",
              "</div>"
            ],
            "text/plain": [
              "                     score                           vez\n",
              "                       min    max    mean      std count\n",
              "ts   it  lr   depth                                     \n",
              "0.26 400 0.02 3      79.18  82.66  80.649  0.90407    10"
            ]
          },
          "metadata": {
            "tags": []
          },
          "execution_count": 32
        }
      ]
    },
    {
      "cell_type": "markdown",
      "metadata": {
        "id": "-XnTSjjwVxQ_"
      },
      "source": [
        "## 11. Executa a função testa_treina 10 vezes, com os melhores parâmetros, gerando os arquivos."
      ]
    },
    {
      "cell_type": "code",
      "metadata": {
        "id": "nE1ncfQOKfzc",
        "outputId": "55083543-0a5f-4e6f-c128-b79c5bea1585",
        "colab": {
          "base_uri": "https://localhost:8080/"
        }
      },
      "source": [
        "#melhor resultado:\n",
        "l_it, l_lr, l_depth = [400], [0.03], [2]\n",
        "l_ts = [0.26] \n",
        "\n",
        "resultado = {}\n",
        "\n",
        "for vez in range(1,11):\n",
        "   resultado[vez] = {\"ts\":[], \"it\":[], \"lr\":[],\"depth\":[],\"score\":[]}\n",
        "   for ts in l_ts:\n",
        "       print(f'execução {vez}/ts {ts}...')\n",
        "       for it in l_it:\n",
        "           for lr in l_lr:\n",
        "               for depth in l_depth:\n",
        "                  res = treina_testa(ts=ts, it=it, lr=lr, depth=depth,gerarArquivo=True, mostrarFI=False)\n",
        "                  resultado[vez][\"ts\"].append(ts)\n",
        "                  resultado[vez][\"it\"].append(it)\n",
        "                  resultado[vez][\"lr\"].append(lr)\n",
        "                  resultado[vez][\"depth\"].append(depth)\n",
        "                  resultado[vez][\"score\"].append(res)\n",
        "   #print(resultado[vez])   \n",
        "resultado  "
      ],
      "execution_count": null,
      "outputs": [
        {
          "output_type": "stream",
          "text": [
            "execução 1/ts 0.26...\n",
            "submissao_kaggle_catb_fs_ts026.0_it400_lr0.03_depth2_sc8164.csv\n",
            "execução 2/ts 0.26...\n",
            "submissao_kaggle_catb_fs_ts026.0_it400_lr0.03_depth2_sc8000.csv\n",
            "execução 3/ts 0.26...\n",
            "submissao_kaggle_catb_fs_ts026.0_it400_lr0.03_depth2_sc8130.csv\n",
            "execução 4/ts 0.26...\n",
            "submissao_kaggle_catb_fs_ts026.0_it400_lr0.03_depth2_sc8055.csv\n",
            "execução 5/ts 0.26...\n",
            "submissao_kaggle_catb_fs_ts026.0_it400_lr0.03_depth2_sc8027.csv\n",
            "execução 6/ts 0.26...\n",
            "submissao_kaggle_catb_fs_ts026.0_it400_lr0.03_depth2_sc8143.csv\n",
            "execução 7/ts 0.26...\n",
            "submissao_kaggle_catb_fs_ts026.0_it400_lr0.03_depth2_sc8246.csv\n",
            "execução 8/ts 0.26...\n",
            "submissao_kaggle_catb_fs_ts026.0_it400_lr0.03_depth2_sc8137.csv\n",
            "execução 9/ts 0.26...\n",
            "submissao_kaggle_catb_fs_ts026.0_it400_lr0.03_depth2_sc8156.csv\n",
            "execução 10/ts 0.26...\n",
            "submissao_kaggle_catb_fs_ts026.0_it400_lr0.03_depth2_sc7993.csv\n"
          ],
          "name": "stdout"
        },
        {
          "output_type": "execute_result",
          "data": {
            "text/plain": [
              "{1: {'depth': [2], 'it': [400], 'lr': [0.03], 'score': [81.64], 'ts': [0.26]},\n",
              " 2: {'depth': [2], 'it': [400], 'lr': [0.03], 'score': [80.0], 'ts': [0.26]},\n",
              " 3: {'depth': [2], 'it': [400], 'lr': [0.03], 'score': [81.3], 'ts': [0.26]},\n",
              " 4: {'depth': [2], 'it': [400], 'lr': [0.03], 'score': [80.55], 'ts': [0.26]},\n",
              " 5: {'depth': [2], 'it': [400], 'lr': [0.03], 'score': [80.27], 'ts': [0.26]},\n",
              " 6: {'depth': [2], 'it': [400], 'lr': [0.03], 'score': [81.43], 'ts': [0.26]},\n",
              " 7: {'depth': [2], 'it': [400], 'lr': [0.03], 'score': [82.46], 'ts': [0.26]},\n",
              " 8: {'depth': [2], 'it': [400], 'lr': [0.03], 'score': [81.37], 'ts': [0.26]},\n",
              " 9: {'depth': [2], 'it': [400], 'lr': [0.03], 'score': [81.57], 'ts': [0.26]},\n",
              " 10: {'depth': [2], 'it': [400], 'lr': [0.03], 'score': [79.93], 'ts': [0.26]}}"
            ]
          },
          "metadata": {
            "tags": []
          },
          "execution_count": 33
        }
      ]
    },
    {
      "cell_type": "code",
      "metadata": {
        "id": "oJXhSSJrEEM2"
      },
      "source": [
        ""
      ],
      "execution_count": null,
      "outputs": []
    },
    {
      "cell_type": "code",
      "metadata": {
        "id": "9kESgfYGuHhO"
      },
      "source": [
        "#a = list(zip(catb_tuned.feature_importances_,X_treinamento.columns))\n",
        "#print(catb_tuned.feature_importances_)\n",
        "#print(X_treinamento.columns)\n",
        "\n"
      ],
      "execution_count": null,
      "outputs": []
    },
    {
      "cell_type": "code",
      "metadata": {
        "id": "26hXIXmUBzYV"
      },
      "source": [
        ""
      ],
      "execution_count": null,
      "outputs": []
    }
  ]
}